{
  "nbformat": 4,
  "nbformat_minor": 0,
  "metadata": {
    "colab": {
      "provenance": [],
      "authorship_tag": "ABX9TyP9QIgQGcyAWT1fOmoR+BcY",
      "include_colab_link": true
    },
    "kernelspec": {
      "name": "python3",
      "display_name": "Python 3"
    },
    "language_info": {
      "name": "python"
    },
    "accelerator": "GPU",
    "gpuClass": "standard",
    "widgets": {
      "application/vnd.jupyter.widget-state+json": {
        "2636d9790726447495ed34e8a6e24322": {
          "model_module": "@jupyter-widgets/controls",
          "model_name": "HBoxModel",
          "model_module_version": "1.5.0",
          "state": {
            "_dom_classes": [],
            "_model_module": "@jupyter-widgets/controls",
            "_model_module_version": "1.5.0",
            "_model_name": "HBoxModel",
            "_view_count": null,
            "_view_module": "@jupyter-widgets/controls",
            "_view_module_version": "1.5.0",
            "_view_name": "HBoxView",
            "box_style": "",
            "children": [
              "IPY_MODEL_a246e5587f1948008db5df56397001f9",
              "IPY_MODEL_ee4d3f1b99b846daac5a702e2516393e",
              "IPY_MODEL_92ecb636c43040dc941ee83c11094141"
            ],
            "layout": "IPY_MODEL_2bfdaa863f62472c92a1ec2ce2ee0be2"
          }
        },
        "a246e5587f1948008db5df56397001f9": {
          "model_module": "@jupyter-widgets/controls",
          "model_name": "HTMLModel",
          "model_module_version": "1.5.0",
          "state": {
            "_dom_classes": [],
            "_model_module": "@jupyter-widgets/controls",
            "_model_module_version": "1.5.0",
            "_model_name": "HTMLModel",
            "_view_count": null,
            "_view_module": "@jupyter-widgets/controls",
            "_view_module_version": "1.5.0",
            "_view_name": "HTMLView",
            "description": "",
            "description_tooltip": null,
            "layout": "IPY_MODEL_65f85f97520a4563bb08a2819d0eee8d",
            "placeholder": "​",
            "style": "IPY_MODEL_0bb0c012770e40e489602064361b18a7",
            "value": "Preprocessing: 100%"
          }
        },
        "ee4d3f1b99b846daac5a702e2516393e": {
          "model_module": "@jupyter-widgets/controls",
          "model_name": "FloatProgressModel",
          "model_module_version": "1.5.0",
          "state": {
            "_dom_classes": [],
            "_model_module": "@jupyter-widgets/controls",
            "_model_module_version": "1.5.0",
            "_model_name": "FloatProgressModel",
            "_view_count": null,
            "_view_module": "@jupyter-widgets/controls",
            "_view_module_version": "1.5.0",
            "_view_name": "ProgressView",
            "bar_style": "success",
            "description": "",
            "description_tooltip": null,
            "layout": "IPY_MODEL_a449a85ae8084a41b99f4c78322e990f",
            "max": 1,
            "min": 0,
            "orientation": "horizontal",
            "style": "IPY_MODEL_62de9d48209a41419036fa8f3ce40d74",
            "value": 1
          }
        },
        "92ecb636c43040dc941ee83c11094141": {
          "model_module": "@jupyter-widgets/controls",
          "model_name": "HTMLModel",
          "model_module_version": "1.5.0",
          "state": {
            "_dom_classes": [],
            "_model_module": "@jupyter-widgets/controls",
            "_model_module_version": "1.5.0",
            "_model_name": "HTMLModel",
            "_view_count": null,
            "_view_module": "@jupyter-widgets/controls",
            "_view_module_version": "1.5.0",
            "_view_name": "HTMLView",
            "description": "",
            "description_tooltip": null,
            "layout": "IPY_MODEL_2feda16cb46443ee9e62b5e8d87cdf9f",
            "placeholder": "​",
            "style": "IPY_MODEL_1380a168887948e1b955a364687d3ee8",
            "value": " 1/1 [00:00&lt;00:00, 17.54docs/s]"
          }
        },
        "2bfdaa863f62472c92a1ec2ce2ee0be2": {
          "model_module": "@jupyter-widgets/base",
          "model_name": "LayoutModel",
          "model_module_version": "1.2.0",
          "state": {
            "_model_module": "@jupyter-widgets/base",
            "_model_module_version": "1.2.0",
            "_model_name": "LayoutModel",
            "_view_count": null,
            "_view_module": "@jupyter-widgets/base",
            "_view_module_version": "1.2.0",
            "_view_name": "LayoutView",
            "align_content": null,
            "align_items": null,
            "align_self": null,
            "border": null,
            "bottom": null,
            "display": null,
            "flex": null,
            "flex_flow": null,
            "grid_area": null,
            "grid_auto_columns": null,
            "grid_auto_flow": null,
            "grid_auto_rows": null,
            "grid_column": null,
            "grid_gap": null,
            "grid_row": null,
            "grid_template_areas": null,
            "grid_template_columns": null,
            "grid_template_rows": null,
            "height": null,
            "justify_content": null,
            "justify_items": null,
            "left": null,
            "margin": null,
            "max_height": null,
            "max_width": null,
            "min_height": null,
            "min_width": null,
            "object_fit": null,
            "object_position": null,
            "order": null,
            "overflow": null,
            "overflow_x": null,
            "overflow_y": null,
            "padding": null,
            "right": null,
            "top": null,
            "visibility": null,
            "width": null
          }
        },
        "65f85f97520a4563bb08a2819d0eee8d": {
          "model_module": "@jupyter-widgets/base",
          "model_name": "LayoutModel",
          "model_module_version": "1.2.0",
          "state": {
            "_model_module": "@jupyter-widgets/base",
            "_model_module_version": "1.2.0",
            "_model_name": "LayoutModel",
            "_view_count": null,
            "_view_module": "@jupyter-widgets/base",
            "_view_module_version": "1.2.0",
            "_view_name": "LayoutView",
            "align_content": null,
            "align_items": null,
            "align_self": null,
            "border": null,
            "bottom": null,
            "display": null,
            "flex": null,
            "flex_flow": null,
            "grid_area": null,
            "grid_auto_columns": null,
            "grid_auto_flow": null,
            "grid_auto_rows": null,
            "grid_column": null,
            "grid_gap": null,
            "grid_row": null,
            "grid_template_areas": null,
            "grid_template_columns": null,
            "grid_template_rows": null,
            "height": null,
            "justify_content": null,
            "justify_items": null,
            "left": null,
            "margin": null,
            "max_height": null,
            "max_width": null,
            "min_height": null,
            "min_width": null,
            "object_fit": null,
            "object_position": null,
            "order": null,
            "overflow": null,
            "overflow_x": null,
            "overflow_y": null,
            "padding": null,
            "right": null,
            "top": null,
            "visibility": null,
            "width": null
          }
        },
        "0bb0c012770e40e489602064361b18a7": {
          "model_module": "@jupyter-widgets/controls",
          "model_name": "DescriptionStyleModel",
          "model_module_version": "1.5.0",
          "state": {
            "_model_module": "@jupyter-widgets/controls",
            "_model_module_version": "1.5.0",
            "_model_name": "DescriptionStyleModel",
            "_view_count": null,
            "_view_module": "@jupyter-widgets/base",
            "_view_module_version": "1.2.0",
            "_view_name": "StyleView",
            "description_width": ""
          }
        },
        "a449a85ae8084a41b99f4c78322e990f": {
          "model_module": "@jupyter-widgets/base",
          "model_name": "LayoutModel",
          "model_module_version": "1.2.0",
          "state": {
            "_model_module": "@jupyter-widgets/base",
            "_model_module_version": "1.2.0",
            "_model_name": "LayoutModel",
            "_view_count": null,
            "_view_module": "@jupyter-widgets/base",
            "_view_module_version": "1.2.0",
            "_view_name": "LayoutView",
            "align_content": null,
            "align_items": null,
            "align_self": null,
            "border": null,
            "bottom": null,
            "display": null,
            "flex": null,
            "flex_flow": null,
            "grid_area": null,
            "grid_auto_columns": null,
            "grid_auto_flow": null,
            "grid_auto_rows": null,
            "grid_column": null,
            "grid_gap": null,
            "grid_row": null,
            "grid_template_areas": null,
            "grid_template_columns": null,
            "grid_template_rows": null,
            "height": null,
            "justify_content": null,
            "justify_items": null,
            "left": null,
            "margin": null,
            "max_height": null,
            "max_width": null,
            "min_height": null,
            "min_width": null,
            "object_fit": null,
            "object_position": null,
            "order": null,
            "overflow": null,
            "overflow_x": null,
            "overflow_y": null,
            "padding": null,
            "right": null,
            "top": null,
            "visibility": null,
            "width": null
          }
        },
        "62de9d48209a41419036fa8f3ce40d74": {
          "model_module": "@jupyter-widgets/controls",
          "model_name": "ProgressStyleModel",
          "model_module_version": "1.5.0",
          "state": {
            "_model_module": "@jupyter-widgets/controls",
            "_model_module_version": "1.5.0",
            "_model_name": "ProgressStyleModel",
            "_view_count": null,
            "_view_module": "@jupyter-widgets/base",
            "_view_module_version": "1.2.0",
            "_view_name": "StyleView",
            "bar_color": null,
            "description_width": ""
          }
        },
        "2feda16cb46443ee9e62b5e8d87cdf9f": {
          "model_module": "@jupyter-widgets/base",
          "model_name": "LayoutModel",
          "model_module_version": "1.2.0",
          "state": {
            "_model_module": "@jupyter-widgets/base",
            "_model_module_version": "1.2.0",
            "_model_name": "LayoutModel",
            "_view_count": null,
            "_view_module": "@jupyter-widgets/base",
            "_view_module_version": "1.2.0",
            "_view_name": "LayoutView",
            "align_content": null,
            "align_items": null,
            "align_self": null,
            "border": null,
            "bottom": null,
            "display": null,
            "flex": null,
            "flex_flow": null,
            "grid_area": null,
            "grid_auto_columns": null,
            "grid_auto_flow": null,
            "grid_auto_rows": null,
            "grid_column": null,
            "grid_gap": null,
            "grid_row": null,
            "grid_template_areas": null,
            "grid_template_columns": null,
            "grid_template_rows": null,
            "height": null,
            "justify_content": null,
            "justify_items": null,
            "left": null,
            "margin": null,
            "max_height": null,
            "max_width": null,
            "min_height": null,
            "min_width": null,
            "object_fit": null,
            "object_position": null,
            "order": null,
            "overflow": null,
            "overflow_x": null,
            "overflow_y": null,
            "padding": null,
            "right": null,
            "top": null,
            "visibility": null,
            "width": null
          }
        },
        "1380a168887948e1b955a364687d3ee8": {
          "model_module": "@jupyter-widgets/controls",
          "model_name": "DescriptionStyleModel",
          "model_module_version": "1.5.0",
          "state": {
            "_model_module": "@jupyter-widgets/controls",
            "_model_module_version": "1.5.0",
            "_model_name": "DescriptionStyleModel",
            "_view_count": null,
            "_view_module": "@jupyter-widgets/base",
            "_view_module_version": "1.2.0",
            "_view_name": "StyleView",
            "description_width": ""
          }
        },
        "60d091d929284c46bf549bd584bd0b04": {
          "model_module": "@jupyter-widgets/controls",
          "model_name": "HBoxModel",
          "model_module_version": "1.5.0",
          "state": {
            "_dom_classes": [],
            "_model_module": "@jupyter-widgets/controls",
            "_model_module_version": "1.5.0",
            "_model_name": "HBoxModel",
            "_view_count": null,
            "_view_module": "@jupyter-widgets/controls",
            "_view_module_version": "1.5.0",
            "_view_name": "HBoxView",
            "box_style": "",
            "children": [
              "IPY_MODEL_a324c3435cf1410ab6da740a89bc7459",
              "IPY_MODEL_d52c9589725f498cb9546661668845b1",
              "IPY_MODEL_63c4277592ec416d9627f5037221facf"
            ],
            "layout": "IPY_MODEL_fffd3f35dd4d4df1abd45de55be31ce5"
          }
        },
        "a324c3435cf1410ab6da740a89bc7459": {
          "model_module": "@jupyter-widgets/controls",
          "model_name": "HTMLModel",
          "model_module_version": "1.5.0",
          "state": {
            "_dom_classes": [],
            "_model_module": "@jupyter-widgets/controls",
            "_model_module_version": "1.5.0",
            "_model_name": "HTMLModel",
            "_view_count": null,
            "_view_module": "@jupyter-widgets/controls",
            "_view_module_version": "1.5.0",
            "_view_name": "HTMLView",
            "description": "",
            "description_tooltip": null,
            "layout": "IPY_MODEL_c042a1886b0b4cafa4d5067af3636b34",
            "placeholder": "​",
            "style": "IPY_MODEL_abf1059b857941af8d893917949ff91a",
            "value": "Preprocessing: 100%"
          }
        },
        "d52c9589725f498cb9546661668845b1": {
          "model_module": "@jupyter-widgets/controls",
          "model_name": "FloatProgressModel",
          "model_module_version": "1.5.0",
          "state": {
            "_dom_classes": [],
            "_model_module": "@jupyter-widgets/controls",
            "_model_module_version": "1.5.0",
            "_model_name": "FloatProgressModel",
            "_view_count": null,
            "_view_module": "@jupyter-widgets/controls",
            "_view_module_version": "1.5.0",
            "_view_name": "ProgressView",
            "bar_style": "success",
            "description": "",
            "description_tooltip": null,
            "layout": "IPY_MODEL_917a801457ed4c48bcf58cb8bc1c5e67",
            "max": 1,
            "min": 0,
            "orientation": "horizontal",
            "style": "IPY_MODEL_945dacdabb7a46e4bb5f42408e56de8a",
            "value": 1
          }
        },
        "63c4277592ec416d9627f5037221facf": {
          "model_module": "@jupyter-widgets/controls",
          "model_name": "HTMLModel",
          "model_module_version": "1.5.0",
          "state": {
            "_dom_classes": [],
            "_model_module": "@jupyter-widgets/controls",
            "_model_module_version": "1.5.0",
            "_model_name": "HTMLModel",
            "_view_count": null,
            "_view_module": "@jupyter-widgets/controls",
            "_view_module_version": "1.5.0",
            "_view_name": "HTMLView",
            "description": "",
            "description_tooltip": null,
            "layout": "IPY_MODEL_3f3b8fc451b54172b6aae11d6e5ac422",
            "placeholder": "​",
            "style": "IPY_MODEL_c6b05c07d07246a2a609bbaf2dd30f95",
            "value": " 1/1 [00:00&lt;00:00,  9.59docs/s]"
          }
        },
        "fffd3f35dd4d4df1abd45de55be31ce5": {
          "model_module": "@jupyter-widgets/base",
          "model_name": "LayoutModel",
          "model_module_version": "1.2.0",
          "state": {
            "_model_module": "@jupyter-widgets/base",
            "_model_module_version": "1.2.0",
            "_model_name": "LayoutModel",
            "_view_count": null,
            "_view_module": "@jupyter-widgets/base",
            "_view_module_version": "1.2.0",
            "_view_name": "LayoutView",
            "align_content": null,
            "align_items": null,
            "align_self": null,
            "border": null,
            "bottom": null,
            "display": null,
            "flex": null,
            "flex_flow": null,
            "grid_area": null,
            "grid_auto_columns": null,
            "grid_auto_flow": null,
            "grid_auto_rows": null,
            "grid_column": null,
            "grid_gap": null,
            "grid_row": null,
            "grid_template_areas": null,
            "grid_template_columns": null,
            "grid_template_rows": null,
            "height": null,
            "justify_content": null,
            "justify_items": null,
            "left": null,
            "margin": null,
            "max_height": null,
            "max_width": null,
            "min_height": null,
            "min_width": null,
            "object_fit": null,
            "object_position": null,
            "order": null,
            "overflow": null,
            "overflow_x": null,
            "overflow_y": null,
            "padding": null,
            "right": null,
            "top": null,
            "visibility": null,
            "width": null
          }
        },
        "c042a1886b0b4cafa4d5067af3636b34": {
          "model_module": "@jupyter-widgets/base",
          "model_name": "LayoutModel",
          "model_module_version": "1.2.0",
          "state": {
            "_model_module": "@jupyter-widgets/base",
            "_model_module_version": "1.2.0",
            "_model_name": "LayoutModel",
            "_view_count": null,
            "_view_module": "@jupyter-widgets/base",
            "_view_module_version": "1.2.0",
            "_view_name": "LayoutView",
            "align_content": null,
            "align_items": null,
            "align_self": null,
            "border": null,
            "bottom": null,
            "display": null,
            "flex": null,
            "flex_flow": null,
            "grid_area": null,
            "grid_auto_columns": null,
            "grid_auto_flow": null,
            "grid_auto_rows": null,
            "grid_column": null,
            "grid_gap": null,
            "grid_row": null,
            "grid_template_areas": null,
            "grid_template_columns": null,
            "grid_template_rows": null,
            "height": null,
            "justify_content": null,
            "justify_items": null,
            "left": null,
            "margin": null,
            "max_height": null,
            "max_width": null,
            "min_height": null,
            "min_width": null,
            "object_fit": null,
            "object_position": null,
            "order": null,
            "overflow": null,
            "overflow_x": null,
            "overflow_y": null,
            "padding": null,
            "right": null,
            "top": null,
            "visibility": null,
            "width": null
          }
        },
        "abf1059b857941af8d893917949ff91a": {
          "model_module": "@jupyter-widgets/controls",
          "model_name": "DescriptionStyleModel",
          "model_module_version": "1.5.0",
          "state": {
            "_model_module": "@jupyter-widgets/controls",
            "_model_module_version": "1.5.0",
            "_model_name": "DescriptionStyleModel",
            "_view_count": null,
            "_view_module": "@jupyter-widgets/base",
            "_view_module_version": "1.2.0",
            "_view_name": "StyleView",
            "description_width": ""
          }
        },
        "917a801457ed4c48bcf58cb8bc1c5e67": {
          "model_module": "@jupyter-widgets/base",
          "model_name": "LayoutModel",
          "model_module_version": "1.2.0",
          "state": {
            "_model_module": "@jupyter-widgets/base",
            "_model_module_version": "1.2.0",
            "_model_name": "LayoutModel",
            "_view_count": null,
            "_view_module": "@jupyter-widgets/base",
            "_view_module_version": "1.2.0",
            "_view_name": "LayoutView",
            "align_content": null,
            "align_items": null,
            "align_self": null,
            "border": null,
            "bottom": null,
            "display": null,
            "flex": null,
            "flex_flow": null,
            "grid_area": null,
            "grid_auto_columns": null,
            "grid_auto_flow": null,
            "grid_auto_rows": null,
            "grid_column": null,
            "grid_gap": null,
            "grid_row": null,
            "grid_template_areas": null,
            "grid_template_columns": null,
            "grid_template_rows": null,
            "height": null,
            "justify_content": null,
            "justify_items": null,
            "left": null,
            "margin": null,
            "max_height": null,
            "max_width": null,
            "min_height": null,
            "min_width": null,
            "object_fit": null,
            "object_position": null,
            "order": null,
            "overflow": null,
            "overflow_x": null,
            "overflow_y": null,
            "padding": null,
            "right": null,
            "top": null,
            "visibility": null,
            "width": null
          }
        },
        "945dacdabb7a46e4bb5f42408e56de8a": {
          "model_module": "@jupyter-widgets/controls",
          "model_name": "ProgressStyleModel",
          "model_module_version": "1.5.0",
          "state": {
            "_model_module": "@jupyter-widgets/controls",
            "_model_module_version": "1.5.0",
            "_model_name": "ProgressStyleModel",
            "_view_count": null,
            "_view_module": "@jupyter-widgets/base",
            "_view_module_version": "1.2.0",
            "_view_name": "StyleView",
            "bar_color": null,
            "description_width": ""
          }
        },
        "3f3b8fc451b54172b6aae11d6e5ac422": {
          "model_module": "@jupyter-widgets/base",
          "model_name": "LayoutModel",
          "model_module_version": "1.2.0",
          "state": {
            "_model_module": "@jupyter-widgets/base",
            "_model_module_version": "1.2.0",
            "_model_name": "LayoutModel",
            "_view_count": null,
            "_view_module": "@jupyter-widgets/base",
            "_view_module_version": "1.2.0",
            "_view_name": "LayoutView",
            "align_content": null,
            "align_items": null,
            "align_self": null,
            "border": null,
            "bottom": null,
            "display": null,
            "flex": null,
            "flex_flow": null,
            "grid_area": null,
            "grid_auto_columns": null,
            "grid_auto_flow": null,
            "grid_auto_rows": null,
            "grid_column": null,
            "grid_gap": null,
            "grid_row": null,
            "grid_template_areas": null,
            "grid_template_columns": null,
            "grid_template_rows": null,
            "height": null,
            "justify_content": null,
            "justify_items": null,
            "left": null,
            "margin": null,
            "max_height": null,
            "max_width": null,
            "min_height": null,
            "min_width": null,
            "object_fit": null,
            "object_position": null,
            "order": null,
            "overflow": null,
            "overflow_x": null,
            "overflow_y": null,
            "padding": null,
            "right": null,
            "top": null,
            "visibility": null,
            "width": null
          }
        },
        "c6b05c07d07246a2a609bbaf2dd30f95": {
          "model_module": "@jupyter-widgets/controls",
          "model_name": "DescriptionStyleModel",
          "model_module_version": "1.5.0",
          "state": {
            "_model_module": "@jupyter-widgets/controls",
            "_model_module_version": "1.5.0",
            "_model_name": "DescriptionStyleModel",
            "_view_count": null,
            "_view_module": "@jupyter-widgets/base",
            "_view_module_version": "1.2.0",
            "_view_name": "StyleView",
            "description_width": ""
          }
        },
        "c510a6bedb814e518e5add0a10e50525": {
          "model_module": "@jupyter-widgets/controls",
          "model_name": "HBoxModel",
          "model_module_version": "1.5.0",
          "state": {
            "_dom_classes": [],
            "_model_module": "@jupyter-widgets/controls",
            "_model_module_version": "1.5.0",
            "_model_name": "HBoxModel",
            "_view_count": null,
            "_view_module": "@jupyter-widgets/controls",
            "_view_module_version": "1.5.0",
            "_view_name": "HBoxView",
            "box_style": "",
            "children": [
              "IPY_MODEL_f0e5377d723d4092816c487097b76f7b",
              "IPY_MODEL_f2e8cc5becd849a18e0a2f00a2d7b31e",
              "IPY_MODEL_56ecee518dc84b46aefc344da43e2ac3"
            ],
            "layout": "IPY_MODEL_ad57211a32404c4c8318a568e88986b3"
          }
        },
        "f0e5377d723d4092816c487097b76f7b": {
          "model_module": "@jupyter-widgets/controls",
          "model_name": "HTMLModel",
          "model_module_version": "1.5.0",
          "state": {
            "_dom_classes": [],
            "_model_module": "@jupyter-widgets/controls",
            "_model_module_version": "1.5.0",
            "_model_name": "HTMLModel",
            "_view_count": null,
            "_view_module": "@jupyter-widgets/controls",
            "_view_module_version": "1.5.0",
            "_view_name": "HTMLView",
            "description": "",
            "description_tooltip": null,
            "layout": "IPY_MODEL_6ff6c42824064144a63c0eb4ae7dd1f4",
            "placeholder": "​",
            "style": "IPY_MODEL_b11b7f9008ff401eaa778ff8d75f7df2",
            "value": "Preprocessing: 100%"
          }
        },
        "f2e8cc5becd849a18e0a2f00a2d7b31e": {
          "model_module": "@jupyter-widgets/controls",
          "model_name": "FloatProgressModel",
          "model_module_version": "1.5.0",
          "state": {
            "_dom_classes": [],
            "_model_module": "@jupyter-widgets/controls",
            "_model_module_version": "1.5.0",
            "_model_name": "FloatProgressModel",
            "_view_count": null,
            "_view_module": "@jupyter-widgets/controls",
            "_view_module_version": "1.5.0",
            "_view_name": "ProgressView",
            "bar_style": "success",
            "description": "",
            "description_tooltip": null,
            "layout": "IPY_MODEL_27ebed3c41744999a216d5bab99f82fd",
            "max": 1,
            "min": 0,
            "orientation": "horizontal",
            "style": "IPY_MODEL_75b796a8b824484bb81c00410f383370",
            "value": 1
          }
        },
        "56ecee518dc84b46aefc344da43e2ac3": {
          "model_module": "@jupyter-widgets/controls",
          "model_name": "HTMLModel",
          "model_module_version": "1.5.0",
          "state": {
            "_dom_classes": [],
            "_model_module": "@jupyter-widgets/controls",
            "_model_module_version": "1.5.0",
            "_model_name": "HTMLModel",
            "_view_count": null,
            "_view_module": "@jupyter-widgets/controls",
            "_view_module_version": "1.5.0",
            "_view_name": "HTMLView",
            "description": "",
            "description_tooltip": null,
            "layout": "IPY_MODEL_7ad6f41112b8405b8caf43707921c899",
            "placeholder": "​",
            "style": "IPY_MODEL_34259bee0e924f9cb7ababd0bdc861a2",
            "value": " 1/1 [00:00&lt;00:00, 15.17docs/s]"
          }
        },
        "ad57211a32404c4c8318a568e88986b3": {
          "model_module": "@jupyter-widgets/base",
          "model_name": "LayoutModel",
          "model_module_version": "1.2.0",
          "state": {
            "_model_module": "@jupyter-widgets/base",
            "_model_module_version": "1.2.0",
            "_model_name": "LayoutModel",
            "_view_count": null,
            "_view_module": "@jupyter-widgets/base",
            "_view_module_version": "1.2.0",
            "_view_name": "LayoutView",
            "align_content": null,
            "align_items": null,
            "align_self": null,
            "border": null,
            "bottom": null,
            "display": null,
            "flex": null,
            "flex_flow": null,
            "grid_area": null,
            "grid_auto_columns": null,
            "grid_auto_flow": null,
            "grid_auto_rows": null,
            "grid_column": null,
            "grid_gap": null,
            "grid_row": null,
            "grid_template_areas": null,
            "grid_template_columns": null,
            "grid_template_rows": null,
            "height": null,
            "justify_content": null,
            "justify_items": null,
            "left": null,
            "margin": null,
            "max_height": null,
            "max_width": null,
            "min_height": null,
            "min_width": null,
            "object_fit": null,
            "object_position": null,
            "order": null,
            "overflow": null,
            "overflow_x": null,
            "overflow_y": null,
            "padding": null,
            "right": null,
            "top": null,
            "visibility": null,
            "width": null
          }
        },
        "6ff6c42824064144a63c0eb4ae7dd1f4": {
          "model_module": "@jupyter-widgets/base",
          "model_name": "LayoutModel",
          "model_module_version": "1.2.0",
          "state": {
            "_model_module": "@jupyter-widgets/base",
            "_model_module_version": "1.2.0",
            "_model_name": "LayoutModel",
            "_view_count": null,
            "_view_module": "@jupyter-widgets/base",
            "_view_module_version": "1.2.0",
            "_view_name": "LayoutView",
            "align_content": null,
            "align_items": null,
            "align_self": null,
            "border": null,
            "bottom": null,
            "display": null,
            "flex": null,
            "flex_flow": null,
            "grid_area": null,
            "grid_auto_columns": null,
            "grid_auto_flow": null,
            "grid_auto_rows": null,
            "grid_column": null,
            "grid_gap": null,
            "grid_row": null,
            "grid_template_areas": null,
            "grid_template_columns": null,
            "grid_template_rows": null,
            "height": null,
            "justify_content": null,
            "justify_items": null,
            "left": null,
            "margin": null,
            "max_height": null,
            "max_width": null,
            "min_height": null,
            "min_width": null,
            "object_fit": null,
            "object_position": null,
            "order": null,
            "overflow": null,
            "overflow_x": null,
            "overflow_y": null,
            "padding": null,
            "right": null,
            "top": null,
            "visibility": null,
            "width": null
          }
        },
        "b11b7f9008ff401eaa778ff8d75f7df2": {
          "model_module": "@jupyter-widgets/controls",
          "model_name": "DescriptionStyleModel",
          "model_module_version": "1.5.0",
          "state": {
            "_model_module": "@jupyter-widgets/controls",
            "_model_module_version": "1.5.0",
            "_model_name": "DescriptionStyleModel",
            "_view_count": null,
            "_view_module": "@jupyter-widgets/base",
            "_view_module_version": "1.2.0",
            "_view_name": "StyleView",
            "description_width": ""
          }
        },
        "27ebed3c41744999a216d5bab99f82fd": {
          "model_module": "@jupyter-widgets/base",
          "model_name": "LayoutModel",
          "model_module_version": "1.2.0",
          "state": {
            "_model_module": "@jupyter-widgets/base",
            "_model_module_version": "1.2.0",
            "_model_name": "LayoutModel",
            "_view_count": null,
            "_view_module": "@jupyter-widgets/base",
            "_view_module_version": "1.2.0",
            "_view_name": "LayoutView",
            "align_content": null,
            "align_items": null,
            "align_self": null,
            "border": null,
            "bottom": null,
            "display": null,
            "flex": null,
            "flex_flow": null,
            "grid_area": null,
            "grid_auto_columns": null,
            "grid_auto_flow": null,
            "grid_auto_rows": null,
            "grid_column": null,
            "grid_gap": null,
            "grid_row": null,
            "grid_template_areas": null,
            "grid_template_columns": null,
            "grid_template_rows": null,
            "height": null,
            "justify_content": null,
            "justify_items": null,
            "left": null,
            "margin": null,
            "max_height": null,
            "max_width": null,
            "min_height": null,
            "min_width": null,
            "object_fit": null,
            "object_position": null,
            "order": null,
            "overflow": null,
            "overflow_x": null,
            "overflow_y": null,
            "padding": null,
            "right": null,
            "top": null,
            "visibility": null,
            "width": null
          }
        },
        "75b796a8b824484bb81c00410f383370": {
          "model_module": "@jupyter-widgets/controls",
          "model_name": "ProgressStyleModel",
          "model_module_version": "1.5.0",
          "state": {
            "_model_module": "@jupyter-widgets/controls",
            "_model_module_version": "1.5.0",
            "_model_name": "ProgressStyleModel",
            "_view_count": null,
            "_view_module": "@jupyter-widgets/base",
            "_view_module_version": "1.2.0",
            "_view_name": "StyleView",
            "bar_color": null,
            "description_width": ""
          }
        },
        "7ad6f41112b8405b8caf43707921c899": {
          "model_module": "@jupyter-widgets/base",
          "model_name": "LayoutModel",
          "model_module_version": "1.2.0",
          "state": {
            "_model_module": "@jupyter-widgets/base",
            "_model_module_version": "1.2.0",
            "_model_name": "LayoutModel",
            "_view_count": null,
            "_view_module": "@jupyter-widgets/base",
            "_view_module_version": "1.2.0",
            "_view_name": "LayoutView",
            "align_content": null,
            "align_items": null,
            "align_self": null,
            "border": null,
            "bottom": null,
            "display": null,
            "flex": null,
            "flex_flow": null,
            "grid_area": null,
            "grid_auto_columns": null,
            "grid_auto_flow": null,
            "grid_auto_rows": null,
            "grid_column": null,
            "grid_gap": null,
            "grid_row": null,
            "grid_template_areas": null,
            "grid_template_columns": null,
            "grid_template_rows": null,
            "height": null,
            "justify_content": null,
            "justify_items": null,
            "left": null,
            "margin": null,
            "max_height": null,
            "max_width": null,
            "min_height": null,
            "min_width": null,
            "object_fit": null,
            "object_position": null,
            "order": null,
            "overflow": null,
            "overflow_x": null,
            "overflow_y": null,
            "padding": null,
            "right": null,
            "top": null,
            "visibility": null,
            "width": null
          }
        },
        "34259bee0e924f9cb7ababd0bdc861a2": {
          "model_module": "@jupyter-widgets/controls",
          "model_name": "DescriptionStyleModel",
          "model_module_version": "1.5.0",
          "state": {
            "_model_module": "@jupyter-widgets/controls",
            "_model_module_version": "1.5.0",
            "_model_name": "DescriptionStyleModel",
            "_view_count": null,
            "_view_module": "@jupyter-widgets/base",
            "_view_module_version": "1.2.0",
            "_view_name": "StyleView",
            "description_width": ""
          }
        },
        "0c2121cecdf7485ebd951c444f4cb0b5": {
          "model_module": "@jupyter-widgets/controls",
          "model_name": "HBoxModel",
          "model_module_version": "1.5.0",
          "state": {
            "_dom_classes": [],
            "_model_module": "@jupyter-widgets/controls",
            "_model_module_version": "1.5.0",
            "_model_name": "HBoxModel",
            "_view_count": null,
            "_view_module": "@jupyter-widgets/controls",
            "_view_module_version": "1.5.0",
            "_view_name": "HBoxView",
            "box_style": "",
            "children": [
              "IPY_MODEL_c7e8b9facc964eebb66b28db95d152cc",
              "IPY_MODEL_76d11c4ac79649e6830ab849924527c6",
              "IPY_MODEL_c413924fc1aa480fadbd623f88a7a3dd"
            ],
            "layout": "IPY_MODEL_4be1161c910341c8b9516c52411f7e19"
          }
        },
        "c7e8b9facc964eebb66b28db95d152cc": {
          "model_module": "@jupyter-widgets/controls",
          "model_name": "HTMLModel",
          "model_module_version": "1.5.0",
          "state": {
            "_dom_classes": [],
            "_model_module": "@jupyter-widgets/controls",
            "_model_module_version": "1.5.0",
            "_model_name": "HTMLModel",
            "_view_count": null,
            "_view_module": "@jupyter-widgets/controls",
            "_view_module_version": "1.5.0",
            "_view_name": "HTMLView",
            "description": "",
            "description_tooltip": null,
            "layout": "IPY_MODEL_237e4a63cf554372a35669f5aa770a47",
            "placeholder": "​",
            "style": "IPY_MODEL_7dfcde8f135d4abaa08cd9c94c01e9bf",
            "value": "Preprocessing: 100%"
          }
        },
        "76d11c4ac79649e6830ab849924527c6": {
          "model_module": "@jupyter-widgets/controls",
          "model_name": "FloatProgressModel",
          "model_module_version": "1.5.0",
          "state": {
            "_dom_classes": [],
            "_model_module": "@jupyter-widgets/controls",
            "_model_module_version": "1.5.0",
            "_model_name": "FloatProgressModel",
            "_view_count": null,
            "_view_module": "@jupyter-widgets/controls",
            "_view_module_version": "1.5.0",
            "_view_name": "ProgressView",
            "bar_style": "success",
            "description": "",
            "description_tooltip": null,
            "layout": "IPY_MODEL_db986f57e6d845a3b622d09fb06c6f3d",
            "max": 3,
            "min": 0,
            "orientation": "horizontal",
            "style": "IPY_MODEL_03f3368cbe384562a84598009c28f9f6",
            "value": 3
          }
        },
        "c413924fc1aa480fadbd623f88a7a3dd": {
          "model_module": "@jupyter-widgets/controls",
          "model_name": "HTMLModel",
          "model_module_version": "1.5.0",
          "state": {
            "_dom_classes": [],
            "_model_module": "@jupyter-widgets/controls",
            "_model_module_version": "1.5.0",
            "_model_name": "HTMLModel",
            "_view_count": null,
            "_view_module": "@jupyter-widgets/controls",
            "_view_module_version": "1.5.0",
            "_view_name": "HTMLView",
            "description": "",
            "description_tooltip": null,
            "layout": "IPY_MODEL_46127668a81d4d69b880ef7387ef7d3a",
            "placeholder": "​",
            "style": "IPY_MODEL_32ab2f73d88b4d85b182d379941edab4",
            "value": " 3/3 [00:00&lt;00:00, 36.84docs/s]"
          }
        },
        "4be1161c910341c8b9516c52411f7e19": {
          "model_module": "@jupyter-widgets/base",
          "model_name": "LayoutModel",
          "model_module_version": "1.2.0",
          "state": {
            "_model_module": "@jupyter-widgets/base",
            "_model_module_version": "1.2.0",
            "_model_name": "LayoutModel",
            "_view_count": null,
            "_view_module": "@jupyter-widgets/base",
            "_view_module_version": "1.2.0",
            "_view_name": "LayoutView",
            "align_content": null,
            "align_items": null,
            "align_self": null,
            "border": null,
            "bottom": null,
            "display": null,
            "flex": null,
            "flex_flow": null,
            "grid_area": null,
            "grid_auto_columns": null,
            "grid_auto_flow": null,
            "grid_auto_rows": null,
            "grid_column": null,
            "grid_gap": null,
            "grid_row": null,
            "grid_template_areas": null,
            "grid_template_columns": null,
            "grid_template_rows": null,
            "height": null,
            "justify_content": null,
            "justify_items": null,
            "left": null,
            "margin": null,
            "max_height": null,
            "max_width": null,
            "min_height": null,
            "min_width": null,
            "object_fit": null,
            "object_position": null,
            "order": null,
            "overflow": null,
            "overflow_x": null,
            "overflow_y": null,
            "padding": null,
            "right": null,
            "top": null,
            "visibility": null,
            "width": null
          }
        },
        "237e4a63cf554372a35669f5aa770a47": {
          "model_module": "@jupyter-widgets/base",
          "model_name": "LayoutModel",
          "model_module_version": "1.2.0",
          "state": {
            "_model_module": "@jupyter-widgets/base",
            "_model_module_version": "1.2.0",
            "_model_name": "LayoutModel",
            "_view_count": null,
            "_view_module": "@jupyter-widgets/base",
            "_view_module_version": "1.2.0",
            "_view_name": "LayoutView",
            "align_content": null,
            "align_items": null,
            "align_self": null,
            "border": null,
            "bottom": null,
            "display": null,
            "flex": null,
            "flex_flow": null,
            "grid_area": null,
            "grid_auto_columns": null,
            "grid_auto_flow": null,
            "grid_auto_rows": null,
            "grid_column": null,
            "grid_gap": null,
            "grid_row": null,
            "grid_template_areas": null,
            "grid_template_columns": null,
            "grid_template_rows": null,
            "height": null,
            "justify_content": null,
            "justify_items": null,
            "left": null,
            "margin": null,
            "max_height": null,
            "max_width": null,
            "min_height": null,
            "min_width": null,
            "object_fit": null,
            "object_position": null,
            "order": null,
            "overflow": null,
            "overflow_x": null,
            "overflow_y": null,
            "padding": null,
            "right": null,
            "top": null,
            "visibility": null,
            "width": null
          }
        },
        "7dfcde8f135d4abaa08cd9c94c01e9bf": {
          "model_module": "@jupyter-widgets/controls",
          "model_name": "DescriptionStyleModel",
          "model_module_version": "1.5.0",
          "state": {
            "_model_module": "@jupyter-widgets/controls",
            "_model_module_version": "1.5.0",
            "_model_name": "DescriptionStyleModel",
            "_view_count": null,
            "_view_module": "@jupyter-widgets/base",
            "_view_module_version": "1.2.0",
            "_view_name": "StyleView",
            "description_width": ""
          }
        },
        "db986f57e6d845a3b622d09fb06c6f3d": {
          "model_module": "@jupyter-widgets/base",
          "model_name": "LayoutModel",
          "model_module_version": "1.2.0",
          "state": {
            "_model_module": "@jupyter-widgets/base",
            "_model_module_version": "1.2.0",
            "_model_name": "LayoutModel",
            "_view_count": null,
            "_view_module": "@jupyter-widgets/base",
            "_view_module_version": "1.2.0",
            "_view_name": "LayoutView",
            "align_content": null,
            "align_items": null,
            "align_self": null,
            "border": null,
            "bottom": null,
            "display": null,
            "flex": null,
            "flex_flow": null,
            "grid_area": null,
            "grid_auto_columns": null,
            "grid_auto_flow": null,
            "grid_auto_rows": null,
            "grid_column": null,
            "grid_gap": null,
            "grid_row": null,
            "grid_template_areas": null,
            "grid_template_columns": null,
            "grid_template_rows": null,
            "height": null,
            "justify_content": null,
            "justify_items": null,
            "left": null,
            "margin": null,
            "max_height": null,
            "max_width": null,
            "min_height": null,
            "min_width": null,
            "object_fit": null,
            "object_position": null,
            "order": null,
            "overflow": null,
            "overflow_x": null,
            "overflow_y": null,
            "padding": null,
            "right": null,
            "top": null,
            "visibility": null,
            "width": null
          }
        },
        "03f3368cbe384562a84598009c28f9f6": {
          "model_module": "@jupyter-widgets/controls",
          "model_name": "ProgressStyleModel",
          "model_module_version": "1.5.0",
          "state": {
            "_model_module": "@jupyter-widgets/controls",
            "_model_module_version": "1.5.0",
            "_model_name": "ProgressStyleModel",
            "_view_count": null,
            "_view_module": "@jupyter-widgets/base",
            "_view_module_version": "1.2.0",
            "_view_name": "StyleView",
            "bar_color": null,
            "description_width": ""
          }
        },
        "46127668a81d4d69b880ef7387ef7d3a": {
          "model_module": "@jupyter-widgets/base",
          "model_name": "LayoutModel",
          "model_module_version": "1.2.0",
          "state": {
            "_model_module": "@jupyter-widgets/base",
            "_model_module_version": "1.2.0",
            "_model_name": "LayoutModel",
            "_view_count": null,
            "_view_module": "@jupyter-widgets/base",
            "_view_module_version": "1.2.0",
            "_view_name": "LayoutView",
            "align_content": null,
            "align_items": null,
            "align_self": null,
            "border": null,
            "bottom": null,
            "display": null,
            "flex": null,
            "flex_flow": null,
            "grid_area": null,
            "grid_auto_columns": null,
            "grid_auto_flow": null,
            "grid_auto_rows": null,
            "grid_column": null,
            "grid_gap": null,
            "grid_row": null,
            "grid_template_areas": null,
            "grid_template_columns": null,
            "grid_template_rows": null,
            "height": null,
            "justify_content": null,
            "justify_items": null,
            "left": null,
            "margin": null,
            "max_height": null,
            "max_width": null,
            "min_height": null,
            "min_width": null,
            "object_fit": null,
            "object_position": null,
            "order": null,
            "overflow": null,
            "overflow_x": null,
            "overflow_y": null,
            "padding": null,
            "right": null,
            "top": null,
            "visibility": null,
            "width": null
          }
        },
        "32ab2f73d88b4d85b182d379941edab4": {
          "model_module": "@jupyter-widgets/controls",
          "model_name": "DescriptionStyleModel",
          "model_module_version": "1.5.0",
          "state": {
            "_model_module": "@jupyter-widgets/controls",
            "_model_module_version": "1.5.0",
            "_model_name": "DescriptionStyleModel",
            "_view_count": null,
            "_view_module": "@jupyter-widgets/base",
            "_view_module_version": "1.2.0",
            "_view_name": "StyleView",
            "description_width": ""
          }
        }
      }
    }
  },
  "cells": [
    {
      "cell_type": "markdown",
      "metadata": {
        "id": "view-in-github",
        "colab_type": "text"
      },
      "source": [
        "<a href=\"https://colab.research.google.com/github/plaban1981/haystack/blob/master/Preprocessing_Documents_Haystack.ipynb\" target=\"_parent\"><img src=\"https://colab.research.google.com/assets/colab-badge.svg\" alt=\"Open In Colab\"/></a>"
      ]
    },
    {
      "cell_type": "markdown",
      "source": [
        "# Preprocessing\n",
        "\n",
        "Haystack includes a suite of tools to extract text from different file types, normalize white space\n",
        "and split text into smaller pieces to optimize retrieval.\n",
        "These data preprocessing steps can have a big impact on the systems performance and effective handling of data is key to getting the most out of Haystack."
      ],
      "metadata": {
        "id": "H-lyCu7hAIbk"
      }
    },
    {
      "cell_type": "markdown",
      "source": [
        "Ultimately, Haystack expects data to be provided as a list documents in the following dictionary format:\n",
        "``` python\n",
        "docs = [\n",
        "    {\n",
        "        'content': DOCUMENT_TEXT_HERE,\n",
        "        'meta': {'name': DOCUMENT_NAME, ...}\n",
        "    }, ...\n",
        "]\n",
        "```"
      ],
      "metadata": {
        "id": "yqAxAQREAgca"
      }
    },
    {
      "cell_type": "markdown",
      "source": [
        "all the tools that Haystack provides to help you cast your data into this format."
      ],
      "metadata": {
        "id": "_VgYldRFAu5U"
      }
    },
    {
      "cell_type": "code",
      "execution_count": 1,
      "metadata": {
        "colab": {
          "base_uri": "https://localhost:8080/"
        },
        "id": "nP7xbB7Or2M5",
        "outputId": "7c190084-867d-45bc-deea-2ae990bd97bd"
      },
      "outputs": [
        {
          "output_type": "stream",
          "name": "stdout",
          "text": [
            "Looking in indexes: https://pypi.org/simple, https://us-python.pkg.dev/colab-wheels/public/simple/\n",
            "Requirement already satisfied: pip in /usr/local/lib/python3.7/dist-packages (21.1.3)\n",
            "Collecting pip\n",
            "  Downloading pip-22.3.1-py3-none-any.whl (2.1 MB)\n",
            "Installing collected packages: pip\n",
            "  Attempting uninstall: pip\n",
            "    Found existing installation: pip 21.1.3\n",
            "    Uninstalling pip-21.1.3:\n",
            "      Successfully uninstalled pip-21.1.3\n",
            "Successfully installed pip-22.3.1\n",
            "Looking in indexes: https://pypi.org/simple, https://us-python.pkg.dev/colab-wheels/public/simple/\n",
            "Collecting farm-haystack[colab,ocr]\n",
            "  Cloning https://github.com/deepset-ai/haystack.git to /tmp/pip-install-kfq6nfkw/farm-haystack_39e6e1b070874b92ac9bfdc3a2e6caec\n",
            "  Resolved https://github.com/deepset-ai/haystack.git to commit 1399681c818c03326b6742c410aca97dc9c96b60\n",
            "  Installing build dependencies: started\n",
            "  Installing build dependencies: finished with status 'done'\n",
            "  Getting requirements to build wheel: started\n",
            "  Getting requirements to build wheel: finished with status 'done'\n",
            "  Preparing metadata (pyproject.toml): started\n",
            "  Preparing metadata (pyproject.toml): finished with status 'done'\n",
            "Collecting huggingface-hub>=0.5.0\n",
            "  Downloading huggingface_hub-0.11.0-py3-none-any.whl (182 kB)\n",
            "     ━━━━━━━━━━━━━━━━━━━━━━━━━━━━━━━━━━━━━━ 182.1/182.1 kB 14.8 MB/s eta 0:00:00\n",
            "Collecting sentence-transformers>=2.2.0\n",
            "  Downloading sentence-transformers-2.2.2.tar.gz (85 kB)\n",
            "     ━━━━━━━━━━━━━━━━━━━━━━━━━━━━━━━━━━━━━━━━ 86.0/86.0 kB 11.9 MB/s eta 0:00:00\n",
            "  Preparing metadata (setup.py): started\n",
            "  Preparing metadata (setup.py): finished with status 'done'\n",
            "Collecting quantulum3\n",
            "  Downloading quantulum3-0.7.11-py3-none-any.whl (10.7 MB)\n",
            "     ━━━━━━━━━━━━━━━━━━━━━━━━━━━━━━━━━━━━━━━━ 10.7/10.7 MB 99.1 MB/s eta 0:00:00\n",
            "Collecting mmh3\n",
            "  Downloading mmh3-3.0.0-cp37-cp37m-manylinux2010_x86_64.whl (50 kB)\n",
            "     ━━━━━━━━━━━━━━━━━━━━━━━━━━━━━━━━━━━━━━━━ 50.9/50.9 kB 7.3 MB/s eta 0:00:00\n",
            "Requirement already satisfied: importlib-metadata in /usr/local/lib/python3.7/dist-packages (from farm-haystack[colab,ocr]) (4.13.0)\n",
            "Requirement already satisfied: networkx in /usr/local/lib/python3.7/dist-packages (from farm-haystack[colab,ocr]) (2.6.3)\n",
            "Requirement already satisfied: pydantic in /usr/local/lib/python3.7/dist-packages (from farm-haystack[colab,ocr]) (1.10.2)\n",
            "Collecting tika\n",
            "  Downloading tika-1.24.tar.gz (28 kB)\n",
            "  Preparing metadata (setup.py): started\n",
            "  Preparing metadata (setup.py): finished with status 'done'\n",
            "Requirement already satisfied: torch<1.13,>1.9 in /usr/local/lib/python3.7/dist-packages (from farm-haystack[colab,ocr]) (1.12.1+cu113)\n",
            "Collecting langdetect\n",
            "  Downloading langdetect-1.0.9.tar.gz (981 kB)\n",
            "     ━━━━━━━━━━━━━━━━━━━━━━━━━━━━━━━━━━━━━━ 981.5/981.5 kB 56.9 MB/s eta 0:00:00\n",
            "  Preparing metadata (setup.py): started\n",
            "  Preparing metadata (setup.py): finished with status 'done'\n",
            "Requirement already satisfied: requests in /usr/local/lib/python3.7/dist-packages (from farm-haystack[colab,ocr]) (2.23.0)\n",
            "Collecting rapidfuzz<2.8.0,>=2.0.15\n",
            "  Downloading rapidfuzz-2.7.0-cp37-cp37m-manylinux_2_17_x86_64.manylinux2014_x86_64.whl (2.1 MB)\n",
            "     ━━━━━━━━━━━━━━━━━━━━━━━━━━━━━━━━━━━━━━━━ 2.1/2.1 MB 82.1 MB/s eta 0:00:00\n",
            "Requirement already satisfied: scipy>=1.3.2 in /usr/local/lib/python3.7/dist-packages (from farm-haystack[colab,ocr]) (1.7.3)\n",
            "Collecting posthog\n",
            "  Downloading posthog-2.2.0-py2.py3-none-any.whl (33 kB)\n",
            "Requirement already satisfied: pandas in /usr/local/lib/python3.7/dist-packages (from farm-haystack[colab,ocr]) (1.3.5)\n",
            "Requirement already satisfied: jsonschema in /usr/local/lib/python3.7/dist-packages (from farm-haystack[colab,ocr]) (4.3.3)\n",
            "Collecting python-docx\n",
            "  Downloading python-docx-0.8.11.tar.gz (5.6 MB)\n",
            "     ━━━━━━━━━━━━━━━━━━━━━━━━━━━━━━━━━━━━━━━━ 5.6/5.6 MB 99.6 MB/s eta 0:00:00\n",
            "  Preparing metadata (setup.py): started\n",
            "  Preparing metadata (setup.py): finished with status 'done'\n",
            "Requirement already satisfied: dill in /usr/local/lib/python3.7/dist-packages (from farm-haystack[colab,ocr]) (0.3.6)\n",
            "Collecting mlflow\n",
            "  Downloading mlflow-1.30.0-py3-none-any.whl (17.0 MB)\n",
            "     ━━━━━━━━━━━━━━━━━━━━━━━━━━━━━━━━━━━━━━━━ 17.0/17.0 MB 80.3 MB/s eta 0:00:00\n",
            "Collecting seqeval\n",
            "  Downloading seqeval-1.2.2.tar.gz (43 kB)\n",
            "     ━━━━━━━━━━━━━━━━━━━━━━━━━━━━━━━━━━━━━━━━ 43.6/43.6 kB 3.7 MB/s eta 0:00:00\n",
            "  Preparing metadata (setup.py): started\n",
            "  Preparing metadata (setup.py): finished with status 'done'\n",
            "Requirement already satisfied: more-itertools in /usr/local/lib/python3.7/dist-packages (from farm-haystack[colab,ocr]) (9.0.0)\n",
            "Collecting transformers==4.21.2\n",
            "  Downloading transformers-4.21.2-py3-none-any.whl (4.7 MB)\n",
            "     ━━━━━━━━━━━━━━━━━━━━━━━━━━━━━━━━━━━━━━━━ 4.7/4.7 MB 101.1 MB/s eta 0:00:00\n",
            "Requirement already satisfied: tqdm in /usr/local/lib/python3.7/dist-packages (from farm-haystack[colab,ocr]) (4.64.1)\n",
            "Collecting elasticsearch<8,>=7.7\n",
            "  Downloading elasticsearch-7.17.7-py2.py3-none-any.whl (385 kB)\n",
            "     ━━━━━━━━━━━━━━━━━━━━━━━━━━━━━━━━━━━━━━ 385.8/385.8 kB 39.7 MB/s eta 0:00:00\n",
            "Collecting azure-ai-formrecognizer>=3.2.0b2\n",
            "  Downloading azure_ai_formrecognizer-3.2.0-py3-none-any.whl (228 kB)\n",
            "     ━━━━━━━━━━━━━━━━━━━━━━━━━━━━━━━━━━━━━━━ 228.4/228.4 kB 1.2 MB/s eta 0:00:00\n",
            "Requirement already satisfied: scikit-learn>=1.0.0 in /usr/local/lib/python3.7/dist-packages (from farm-haystack[colab,ocr]) (1.0.2)\n",
            "Requirement already satisfied: nltk in /usr/local/lib/python3.7/dist-packages (from farm-haystack[colab,ocr]) (3.7)\n",
            "Collecting requests\n",
            "  Downloading requests-2.28.1-py3-none-any.whl (62 kB)\n",
            "     ━━━━━━━━━━━━━━━━━━━━━━━━━━━━━━━━━━━━━━━━ 62.8/62.8 kB 9.5 MB/s eta 0:00:00\n",
            "Collecting grpcio==1.47.0\n",
            "  Downloading grpcio-1.47.0-cp37-cp37m-manylinux_2_17_x86_64.manylinux2014_x86_64.whl (4.5 MB)\n",
            "     ━━━━━━━━━━━━━━━━━━━━━━━━━━━━━━━━━━━━━━━━ 4.5/4.5 MB 97.9 MB/s eta 0:00:00\n",
            "Collecting pdf2image>1.14\n",
            "  Downloading pdf2image-1.16.0-py3-none-any.whl (10 kB)\n",
            "Collecting pytesseract>0.3.7\n",
            "  Downloading pytesseract-0.3.10-py3-none-any.whl (14 kB)\n",
            "Requirement already satisfied: pillow in /usr/local/lib/python3.7/dist-packages (from farm-haystack[colab,ocr]) (7.1.2)\n",
            "Requirement already satisfied: six>=1.5.2 in /usr/local/lib/python3.7/dist-packages (from grpcio==1.47.0->farm-haystack[colab,ocr]) (1.15.0)\n",
            "Requirement already satisfied: packaging>=20.0 in /usr/local/lib/python3.7/dist-packages (from transformers==4.21.2->farm-haystack[colab,ocr]) (21.3)\n",
            "Requirement already satisfied: numpy>=1.17 in /usr/local/lib/python3.7/dist-packages (from transformers==4.21.2->farm-haystack[colab,ocr]) (1.21.6)\n",
            "Requirement already satisfied: filelock in /usr/local/lib/python3.7/dist-packages (from transformers==4.21.2->farm-haystack[colab,ocr]) (3.8.0)\n",
            "Collecting tokenizers!=0.11.3,<0.13,>=0.11.1\n",
            "  Downloading tokenizers-0.12.1-cp37-cp37m-manylinux_2_12_x86_64.manylinux2010_x86_64.whl (6.6 MB)\n",
            "     ━━━━━━━━━━━━━━━━━━━━━━━━━━━━━━━━━━━━━━━━ 6.6/6.6 MB 103.4 MB/s eta 0:00:00\n",
            "Requirement already satisfied: pyyaml>=5.1 in /usr/local/lib/python3.7/dist-packages (from transformers==4.21.2->farm-haystack[colab,ocr]) (6.0)\n",
            "Requirement already satisfied: regex!=2019.12.17 in /usr/local/lib/python3.7/dist-packages (from transformers==4.21.2->farm-haystack[colab,ocr]) (2022.6.2)\n",
            "Collecting azure-common~=1.1\n",
            "  Downloading azure_common-1.1.28-py2.py3-none-any.whl (14 kB)\n",
            "Requirement already satisfied: typing-extensions>=4.0.1 in /usr/local/lib/python3.7/dist-packages (from azure-ai-formrecognizer>=3.2.0b2->farm-haystack[colab,ocr]) (4.1.1)\n",
            "Collecting msrest>=0.6.21\n",
            "  Downloading msrest-0.7.1-py3-none-any.whl (85 kB)\n",
            "     ━━━━━━━━━━━━━━━━━━━━━━━━━━━━━━━━━━━━━━━━ 85.4/85.4 kB 12.0 MB/s eta 0:00:00\n",
            "Collecting azure-core<2.0.0,>=1.23.0\n",
            "  Downloading azure_core-1.26.1-py3-none-any.whl (172 kB)\n",
            "     ━━━━━━━━━━━━━━━━━━━━━━━━━━━━━━━━━━━━━━ 172.6/172.6 kB 22.2 MB/s eta 0:00:00\n",
            "Requirement already satisfied: urllib3<2,>=1.21.1 in /usr/local/lib/python3.7/dist-packages (from elasticsearch<8,>=7.7->farm-haystack[colab,ocr]) (1.24.3)\n",
            "Requirement already satisfied: certifi in /usr/local/lib/python3.7/dist-packages (from elasticsearch<8,>=7.7->farm-haystack[colab,ocr]) (2022.9.24)\n",
            "Collecting pillow\n",
            "  Downloading Pillow-9.3.0-cp37-cp37m-manylinux_2_17_x86_64.manylinux2014_x86_64.whl (3.2 MB)\n",
            "     ━━━━━━━━━━━━━━━━━━━━━━━━━━━━━━━━━━━━━━━━ 3.2/3.2 MB 86.2 MB/s eta 0:00:00\n",
            "Collecting jarowinkler<2.0.0,>=1.2.0\n",
            "  Downloading jarowinkler-1.2.3-cp37-cp37m-manylinux_2_17_x86_64.manylinux2014_x86_64.whl (113 kB)\n",
            "     ━━━━━━━━━━━━━━━━━━━━━━━━━━━━━━━━━━━━━━ 113.7/113.7 kB 15.9 MB/s eta 0:00:00\n",
            "Requirement already satisfied: charset-normalizer<3,>=2 in /usr/local/lib/python3.7/dist-packages (from requests->farm-haystack[colab,ocr]) (2.1.1)\n",
            "Requirement already satisfied: idna<4,>=2.5 in /usr/local/lib/python3.7/dist-packages (from requests->farm-haystack[colab,ocr]) (2.10)\n",
            "Requirement already satisfied: joblib>=0.11 in /usr/local/lib/python3.7/dist-packages (from scikit-learn>=1.0.0->farm-haystack[colab,ocr]) (1.2.0)\n",
            "Requirement already satisfied: threadpoolctl>=2.0.0 in /usr/local/lib/python3.7/dist-packages (from scikit-learn>=1.0.0->farm-haystack[colab,ocr]) (3.1.0)\n",
            "Requirement already satisfied: torchvision in /usr/local/lib/python3.7/dist-packages (from sentence-transformers>=2.2.0->farm-haystack[colab,ocr]) (0.13.1+cu113)\n",
            "Collecting sentencepiece\n",
            "  Downloading sentencepiece-0.1.97-cp37-cp37m-manylinux_2_17_x86_64.manylinux2014_x86_64.whl (1.3 MB)\n",
            "     ━━━━━━━━━━━━━━━━━━━━━━━━━━━━━━━━━━━━━━━━ 1.3/1.3 MB 71.5 MB/s eta 0:00:00\n",
            "Requirement already satisfied: zipp>=0.5 in /usr/local/lib/python3.7/dist-packages (from importlib-metadata->farm-haystack[colab,ocr]) (3.10.0)\n",
            "Requirement already satisfied: importlib-resources>=1.4.0 in /usr/local/lib/python3.7/dist-packages (from jsonschema->farm-haystack[colab,ocr]) (5.10.0)\n",
            "Requirement already satisfied: attrs>=17.4.0 in /usr/local/lib/python3.7/dist-packages (from jsonschema->farm-haystack[colab,ocr]) (22.1.0)\n",
            "Requirement already satisfied: pyrsistent!=0.17.0,!=0.17.1,!=0.17.2,>=0.14.0 in /usr/local/lib/python3.7/dist-packages (from jsonschema->farm-haystack[colab,ocr]) (0.19.2)\n",
            "Requirement already satisfied: cloudpickle<3 in /usr/local/lib/python3.7/dist-packages (from mlflow->farm-haystack[colab,ocr]) (1.5.0)\n",
            "Collecting querystring-parser<2\n",
            "  Downloading querystring_parser-1.2.4-py2.py3-none-any.whl (7.9 kB)\n",
            "Requirement already satisfied: entrypoints<1 in /usr/local/lib/python3.7/dist-packages (from mlflow->farm-haystack[colab,ocr]) (0.4)\n",
            "Collecting gitpython<4,>=2.1.0\n",
            "  Downloading GitPython-3.1.29-py3-none-any.whl (182 kB)\n",
            "     ━━━━━━━━━━━━━━━━━━━━━━━━━━━━━━━━━━━━━━ 182.5/182.5 kB 20.8 MB/s eta 0:00:00\n",
            "Collecting gunicorn<21\n",
            "  Downloading gunicorn-20.1.0-py3-none-any.whl (79 kB)\n",
            "     ━━━━━━━━━━━━━━━━━━━━━━━━━━━━━━━━━━━━━━━━ 79.5/79.5 kB 10.1 MB/s eta 0:00:00\n",
            "Collecting docker<7,>=4.0.0\n",
            "  Downloading docker-6.0.1-py3-none-any.whl (147 kB)\n",
            "     ━━━━━━━━━━━━━━━━━━━━━━━━━━━━━━━━━━━━━━ 147.5/147.5 kB 19.3 MB/s eta 0:00:00\n",
            "Collecting databricks-cli<1,>=0.8.7\n",
            "  Downloading databricks-cli-0.17.3.tar.gz (77 kB)\n",
            "     ━━━━━━━━━━━━━━━━━━━━━━━━━━━━━━━━━━━━━━━━ 77.9/77.9 kB 10.6 MB/s eta 0:00:00\n",
            "  Preparing metadata (setup.py): started\n",
            "  Preparing metadata (setup.py): finished with status 'done'\n",
            "Collecting alembic<2\n",
            "  Downloading alembic-1.8.1-py3-none-any.whl (209 kB)\n",
            "     ━━━━━━━━━━━━━━━━━━━━━━━━━━━━━━━━━━━━━━ 209.8/209.8 kB 24.5 MB/s eta 0:00:00\n",
            "Requirement already satisfied: pytz<2023 in /usr/local/lib/python3.7/dist-packages (from mlflow->farm-haystack[colab,ocr]) (2022.6)\n",
            "Collecting prometheus-flask-exporter<1\n",
            "  Downloading prometheus_flask_exporter-0.21.0-py3-none-any.whl (18 kB)\n",
            "Requirement already satisfied: Flask<3 in /usr/local/lib/python3.7/dist-packages (from mlflow->farm-haystack[colab,ocr]) (1.1.4)\n",
            "Requirement already satisfied: sqlalchemy<2,>=1.4.0 in /usr/local/lib/python3.7/dist-packages (from mlflow->farm-haystack[colab,ocr]) (1.4.43)\n",
            "Requirement already satisfied: protobuf<5,>=3.12.0 in /usr/local/lib/python3.7/dist-packages (from mlflow->farm-haystack[colab,ocr]) (3.19.6)\n",
            "Requirement already satisfied: sqlparse<1,>=0.4.0 in /usr/local/lib/python3.7/dist-packages (from mlflow->farm-haystack[colab,ocr]) (0.4.3)\n",
            "Requirement already satisfied: click<9,>=7.0 in /usr/local/lib/python3.7/dist-packages (from mlflow->farm-haystack[colab,ocr]) (7.1.2)\n",
            "Requirement already satisfied: python-dateutil>=2.7.3 in /usr/local/lib/python3.7/dist-packages (from pandas->farm-haystack[colab,ocr]) (2.8.2)\n",
            "Collecting monotonic>=1.5\n",
            "  Downloading monotonic-1.6-py2.py3-none-any.whl (8.2 kB)\n",
            "Collecting backoff<2.0.0,>=1.10.0\n",
            "  Downloading backoff-1.11.1-py2.py3-none-any.whl (13 kB)\n",
            "Requirement already satisfied: lxml>=2.3.2 in /usr/local/lib/python3.7/dist-packages (from python-docx->farm-haystack[colab,ocr]) (4.9.1)\n",
            "Requirement already satisfied: inflect in /usr/local/lib/python3.7/dist-packages (from quantulum3->farm-haystack[colab,ocr]) (2.1.0)\n",
            "Collecting num2words\n",
            "  Downloading num2words-0.5.12-py3-none-any.whl (125 kB)\n",
            "     ━━━━━━━━━━━━━━━━━━━━━━━━━━━━━━━━━━━━━━ 125.2/125.2 kB 16.3 MB/s eta 0:00:00\n",
            "Requirement already satisfied: setuptools in /usr/local/lib/python3.7/dist-packages (from tika->farm-haystack[colab,ocr]) (57.4.0)\n",
            "Collecting Mako\n",
            "  Downloading Mako-1.2.4-py3-none-any.whl (78 kB)\n",
            "     ━━━━━━━━━━━━━━━━━━━━━━━━━━━━━━━━━━━━━━━━ 78.7/78.7 kB 11.2 MB/s eta 0:00:00\n",
            "Collecting pyjwt>=1.7.0\n",
            "  Downloading PyJWT-2.6.0-py3-none-any.whl (20 kB)\n",
            "Requirement already satisfied: oauthlib>=3.1.0 in /usr/local/lib/python3.7/dist-packages (from databricks-cli<1,>=0.8.7->mlflow->farm-haystack[colab,ocr]) (3.2.2)\n",
            "Requirement already satisfied: tabulate>=0.7.7 in /usr/local/lib/python3.7/dist-packages (from databricks-cli<1,>=0.8.7->mlflow->farm-haystack[colab,ocr]) (0.8.10)\n",
            "Collecting urllib3<2,>=1.21.1\n",
            "  Downloading urllib3-1.26.12-py2.py3-none-any.whl (140 kB)\n",
            "     ━━━━━━━━━━━━━━━━━━━━━━━━━━━━━━━━━━━━━━ 140.4/140.4 kB 19.0 MB/s eta 0:00:00\n",
            "Collecting websocket-client>=0.32.0\n",
            "  Downloading websocket_client-1.4.2-py3-none-any.whl (55 kB)\n",
            "     ━━━━━━━━━━━━━━━━━━━━━━━━━━━━━━━━━━━━━━━━ 55.3/55.3 kB 7.4 MB/s eta 0:00:00\n",
            "Requirement already satisfied: Jinja2<3.0,>=2.10.1 in /usr/local/lib/python3.7/dist-packages (from Flask<3->mlflow->farm-haystack[colab,ocr]) (2.11.3)\n",
            "Requirement already satisfied: itsdangerous<2.0,>=0.24 in /usr/local/lib/python3.7/dist-packages (from Flask<3->mlflow->farm-haystack[colab,ocr]) (1.1.0)\n",
            "Requirement already satisfied: Werkzeug<2.0,>=0.15 in /usr/local/lib/python3.7/dist-packages (from Flask<3->mlflow->farm-haystack[colab,ocr]) (1.0.1)\n",
            "Collecting gitdb<5,>=4.0.1\n",
            "  Downloading gitdb-4.0.9-py3-none-any.whl (63 kB)\n",
            "     ━━━━━━━━━━━━━━━━━━━━━━━━━━━━━━━━━━━━━━━━ 63.1/63.1 kB 8.8 MB/s eta 0:00:00\n",
            "Collecting isodate>=0.6.0\n",
            "  Downloading isodate-0.6.1-py2.py3-none-any.whl (41 kB)\n",
            "     ━━━━━━━━━━━━━━━━━━━━━━━━━━━━━━━━━━━━━━━━ 41.7/41.7 kB 5.6 MB/s eta 0:00:00\n",
            "Requirement already satisfied: requests-oauthlib>=0.5.0 in /usr/local/lib/python3.7/dist-packages (from msrest>=0.6.21->azure-ai-formrecognizer>=3.2.0b2->farm-haystack[colab,ocr]) (1.3.1)\n",
            "Requirement already satisfied: pyparsing!=3.0.5,>=2.0.2 in /usr/local/lib/python3.7/dist-packages (from packaging>=20.0->transformers==4.21.2->farm-haystack[colab,ocr]) (3.0.9)\n",
            "Requirement already satisfied: prometheus-client in /usr/local/lib/python3.7/dist-packages (from prometheus-flask-exporter<1->mlflow->farm-haystack[colab,ocr]) (0.15.0)\n",
            "Requirement already satisfied: greenlet!=0.4.17 in /usr/local/lib/python3.7/dist-packages (from sqlalchemy<2,>=1.4.0->mlflow->farm-haystack[colab,ocr]) (2.0.1)\n",
            "Collecting docopt>=0.6.2\n",
            "  Downloading docopt-0.6.2.tar.gz (25 kB)\n",
            "  Preparing metadata (setup.py): started\n",
            "  Preparing metadata (setup.py): finished with status 'done'\n",
            "Collecting smmap<6,>=3.0.1\n",
            "  Downloading smmap-5.0.0-py3-none-any.whl (24 kB)\n",
            "Requirement already satisfied: MarkupSafe>=0.23 in /usr/local/lib/python3.7/dist-packages (from Jinja2<3.0,>=2.10.1->Flask<3->mlflow->farm-haystack[colab,ocr]) (2.0.1)\n",
            "Building wheels for collected packages: sentence-transformers, farm-haystack, langdetect, python-docx, seqeval, tika, databricks-cli, docopt\n",
            "  Building wheel for sentence-transformers (setup.py): started\n",
            "  Building wheel for sentence-transformers (setup.py): finished with status 'done'\n",
            "  Created wheel for sentence-transformers: filename=sentence_transformers-2.2.2-py3-none-any.whl size=125938 sha256=fa8773f6f2cf2006c1edd0200754ab6760701ebe83574975b5aee8c48b7a8f5a\n",
            "  Stored in directory: /root/.cache/pip/wheels/83/71/2b/40d17d21937fed496fb99145227eca8f20b4891240ff60c86f\n",
            "  Building wheel for farm-haystack (pyproject.toml): started\n",
            "  Building wheel for farm-haystack (pyproject.toml): finished with status 'done'\n",
            "  Created wheel for farm-haystack: filename=farm_haystack-1.12.0rc0-py3-none-any.whl size=588237 sha256=692d6ed9889934cdd0e10b30a5c2d1c93c0568ea87df444d97ca0664c5a932db\n",
            "  Stored in directory: /tmp/pip-ephem-wheel-cache-zv4_m0yw/wheels/a7/05/3b/9b33368d9af06a39f8e6af2e97fa2af876e893ade323cfc2c9\n",
            "  Building wheel for langdetect (setup.py): started\n",
            "  Building wheel for langdetect (setup.py): finished with status 'done'\n",
            "  Created wheel for langdetect: filename=langdetect-1.0.9-py3-none-any.whl size=993241 sha256=8a4227bed9c6a3f55136f5f0b67cc7764fb0f9866289b2bda5afc2efb5c0a4b6\n",
            "  Stored in directory: /root/.cache/pip/wheels/73/b2/db/0c9b9eb7a44bf85ec0b42c06ee617d0a0de66840dc0b3248d1\n",
            "  Building wheel for python-docx (setup.py): started\n",
            "  Building wheel for python-docx (setup.py): finished with status 'done'\n",
            "  Created wheel for python-docx: filename=python_docx-0.8.11-py3-none-any.whl size=184508 sha256=e524b40c4b0d2bbf39811cf0af9c2d63e276f1f423c1c4e90e55d438d3870997\n",
            "  Stored in directory: /root/.cache/pip/wheels/8d/43/ab/6dfe2e7103b24fb1148e95b265fd71d23d29bcbaa60a4a7ed9\n",
            "  Building wheel for seqeval (setup.py): started\n",
            "  Building wheel for seqeval (setup.py): finished with status 'done'\n",
            "  Created wheel for seqeval: filename=seqeval-1.2.2-py3-none-any.whl size=16182 sha256=d7d0b01ff410c414de187f9d70aace27a32f1351e0988ea93c6be045f5e7c38e\n",
            "  Stored in directory: /root/.cache/pip/wheels/b2/a1/b7/0d3b008d0c77cd57332d724b92cf7650b4185b493dc785f00a\n",
            "  Building wheel for tika (setup.py): started\n",
            "  Building wheel for tika (setup.py): finished with status 'done'\n",
            "  Created wheel for tika: filename=tika-1.24-py3-none-any.whl size=32892 sha256=c3056452fb7a0fcc820df9cbac752a227775338a3e13d25a2d1d57c69e40ebcf\n",
            "  Stored in directory: /root/.cache/pip/wheels/e7/ca/3b/d3edbb6a53ef11ebc2ad6175a52f85432270a129f5e00d597c\n",
            "  Building wheel for databricks-cli (setup.py): started\n",
            "  Building wheel for databricks-cli (setup.py): finished with status 'done'\n",
            "  Created wheel for databricks-cli: filename=databricks_cli-0.17.3-py3-none-any.whl size=139103 sha256=3912a25390d77cf56b9dd8a630358e4b7766bea1e5b11183227662b771aae22e\n",
            "  Stored in directory: /root/.cache/pip/wheels/5f/e9/d3/a2a128f8c9e17787e860355c1609403f6c8147d75adf2a26b2\n",
            "  Building wheel for docopt (setup.py): started\n",
            "  Building wheel for docopt (setup.py): finished with status 'done'\n",
            "  Created wheel for docopt: filename=docopt-0.6.2-py2.py3-none-any.whl size=13723 sha256=99dc4c85692c54aa901354d8a5c772a33231dcfd23c8064e94acc0a02e828ff0\n",
            "  Stored in directory: /root/.cache/pip/wheels/1f/e0/34/704e15d0b49f199ac74a2757d018d428ad4cf119c078c80f16\n",
            "Successfully built sentence-transformers farm-haystack langdetect python-docx seqeval tika databricks-cli docopt\n",
            "Installing collected packages: tokenizers, sentencepiece, monotonic, mmh3, docopt, azure-common, websocket-client, urllib3, smmap, querystring-parser, python-docx, pyjwt, pillow, num2words, langdetect, jarowinkler, isodate, gunicorn, grpcio, backoff, requests, rapidfuzz, quantulum3, pytesseract, pdf2image, Mako, gitdb, elasticsearch, tika, seqeval, prometheus-flask-exporter, posthog, huggingface-hub, gitpython, docker, databricks-cli, azure-core, alembic, transformers, msrest, mlflow, sentence-transformers, azure-ai-formrecognizer, farm-haystack\n",
            "  Attempting uninstall: urllib3\n",
            "    Found existing installation: urllib3 1.24.3\n",
            "    Uninstalling urllib3-1.24.3:\n",
            "      Successfully uninstalled urllib3-1.24.3\n",
            "  Attempting uninstall: pillow\n",
            "    Found existing installation: Pillow 7.1.2\n",
            "    Uninstalling Pillow-7.1.2:\n",
            "      Successfully uninstalled Pillow-7.1.2\n",
            "  Attempting uninstall: grpcio\n",
            "    Found existing installation: grpcio 1.50.0\n",
            "    Uninstalling grpcio-1.50.0:\n",
            "      Successfully uninstalled grpcio-1.50.0\n",
            "  Attempting uninstall: requests\n",
            "    Found existing installation: requests 2.23.0\n",
            "    Uninstalling requests-2.23.0:\n",
            "      Successfully uninstalled requests-2.23.0\n",
            "Successfully installed Mako-1.2.4 alembic-1.8.1 azure-ai-formrecognizer-3.2.0 azure-common-1.1.28 azure-core-1.26.1 backoff-1.11.1 databricks-cli-0.17.3 docker-6.0.1 docopt-0.6.2 elasticsearch-7.17.7 farm-haystack-1.12.0rc0 gitdb-4.0.9 gitpython-3.1.29 grpcio-1.47.0 gunicorn-20.1.0 huggingface-hub-0.11.0 isodate-0.6.1 jarowinkler-1.2.3 langdetect-1.0.9 mlflow-1.30.0 mmh3-3.0.0 monotonic-1.6 msrest-0.7.1 num2words-0.5.12 pdf2image-1.16.0 pillow-9.3.0 posthog-2.2.0 prometheus-flask-exporter-0.21.0 pyjwt-2.6.0 pytesseract-0.3.10 python-docx-0.8.11 quantulum3-0.7.11 querystring-parser-1.2.4 rapidfuzz-2.7.0 requests-2.28.1 sentence-transformers-2.2.2 sentencepiece-0.1.97 seqeval-1.2.2 smmap-5.0.0 tika-1.24 tokenizers-0.12.1 transformers-4.21.2 urllib3-1.26.12 websocket-client-1.4.2\n"
          ]
        },
        {
          "output_type": "stream",
          "name": "stderr",
          "text": [
            "  Running command git clone --filter=blob:none --quiet https://github.com/deepset-ai/haystack.git /tmp/pip-install-kfq6nfkw/farm-haystack_39e6e1b070874b92ac9bfdc3a2e6caec\n",
            "ERROR: pip's dependency resolver does not currently take into account all the packages that are installed. This behaviour is the source of the following dependency conflicts.\n",
            "grpcio-status 1.48.2 requires grpcio>=1.48.2, but you have grpcio 1.47.0 which is incompatible.\n",
            "WARNING: Running pip as the 'root' user can result in broken permissions and conflicting behaviour with the system package manager. It is recommended to use a virtual environment instead: https://pip.pypa.io/warnings/venv\n"
          ]
        }
      ],
      "source": [
        "%%bash\n",
        "\n",
        "pip install --upgrade pip\n",
        "pip install git+https://github.com/deepset-ai/haystack.git#egg=farm-haystack[colab,ocr]\n",
        "\n"
      ]
    },
    {
      "cell_type": "code",
      "source": [
        "# For Colab/linux based machines:\n",
        "!wget https://dl.xpdfreader.com/xpdf-tools-linux-4.04.tar.gz\n",
        "!tar -xvf xpdf-tools-linux-4.04.tar.gz && sudo cp xpdf-tools-linux-4.04/bin64/pdftotext /usr/local/bin\n",
        "\n",
        "# For macOS machines:\n",
        "# !wget https://dl.xpdfreader.com/xpdf-tools-mac-4.03.tar.gz\n",
        "# !tar -xvf xpdf-tools-mac-4.03.tar.gz && sudo cp xpdf-tools-mac-4.03/bin64/pdftotext /usr/local/bin"
      ],
      "metadata": {
        "colab": {
          "base_uri": "https://localhost:8080/"
        },
        "id": "tN40zTtVB_lu",
        "outputId": "9a28ad57-ae83-4668-825a-fdba062ef189"
      },
      "execution_count": 2,
      "outputs": [
        {
          "output_type": "stream",
          "name": "stdout",
          "text": [
            "--2022-11-17 16:53:34--  https://dl.xpdfreader.com/xpdf-tools-linux-4.04.tar.gz\n",
            "Resolving dl.xpdfreader.com (dl.xpdfreader.com)... 45.79.72.155\n",
            "Connecting to dl.xpdfreader.com (dl.xpdfreader.com)|45.79.72.155|:443... connected.\n",
            "HTTP request sent, awaiting response... 200 OK\n",
            "Length: 23687259 (23M) [application/x-gzip]\n",
            "Saving to: ‘xpdf-tools-linux-4.04.tar.gz’\n",
            "\n",
            "xpdf-tools-linux-4. 100%[===================>]  22.59M  8.32MB/s    in 2.7s    \n",
            "\n",
            "2022-11-17 16:53:38 (8.32 MB/s) - ‘xpdf-tools-linux-4.04.tar.gz’ saved [23687259/23687259]\n",
            "\n",
            "xpdf-tools-linux-4.04/\n",
            "xpdf-tools-linux-4.04/CHANGES\n",
            "xpdf-tools-linux-4.04/COPYING3\n",
            "xpdf-tools-linux-4.04/INSTALL\n",
            "xpdf-tools-linux-4.04/ANNOUNCE\n",
            "xpdf-tools-linux-4.04/bin64/\n",
            "xpdf-tools-linux-4.04/bin64/pdftopng\n",
            "xpdf-tools-linux-4.04/bin64/pdftohtml\n",
            "xpdf-tools-linux-4.04/bin64/pdfinfo\n",
            "xpdf-tools-linux-4.04/bin64/pdffonts\n",
            "xpdf-tools-linux-4.04/bin64/pdfimages\n",
            "xpdf-tools-linux-4.04/bin64/pdftotext\n",
            "xpdf-tools-linux-4.04/bin64/pdftoppm\n",
            "xpdf-tools-linux-4.04/bin64/pdftops\n",
            "xpdf-tools-linux-4.04/bin64/pdfdetach\n",
            "xpdf-tools-linux-4.04/README\n",
            "xpdf-tools-linux-4.04/COPYING\n",
            "xpdf-tools-linux-4.04/doc/\n",
            "xpdf-tools-linux-4.04/doc/pdftohtml.1\n",
            "xpdf-tools-linux-4.04/doc/pdftops.1\n",
            "xpdf-tools-linux-4.04/doc/pdfimages.1\n",
            "xpdf-tools-linux-4.04/doc/sample-xpdfrc\n",
            "xpdf-tools-linux-4.04/doc/pdffonts.1\n",
            "xpdf-tools-linux-4.04/doc/pdfdetach.1\n",
            "xpdf-tools-linux-4.04/doc/pdftoppm.1\n",
            "xpdf-tools-linux-4.04/doc/pdftotext.1\n",
            "xpdf-tools-linux-4.04/doc/pdftopng.1\n",
            "xpdf-tools-linux-4.04/doc/xpdfrc.5\n",
            "xpdf-tools-linux-4.04/doc/pdfinfo.1\n",
            "xpdf-tools-linux-4.04/bin32/\n",
            "xpdf-tools-linux-4.04/bin32/pdftopng\n",
            "xpdf-tools-linux-4.04/bin32/pdftohtml\n",
            "xpdf-tools-linux-4.04/bin32/pdfinfo\n",
            "xpdf-tools-linux-4.04/bin32/pdffonts\n",
            "xpdf-tools-linux-4.04/bin32/pdfimages\n",
            "xpdf-tools-linux-4.04/bin32/pdftotext\n",
            "xpdf-tools-linux-4.04/bin32/pdftoppm\n",
            "xpdf-tools-linux-4.04/bin32/pdftops\n",
            "xpdf-tools-linux-4.04/bin32/pdfdetach\n"
          ]
        }
      ]
    },
    {
      "cell_type": "markdown",
      "source": [
        "## Logging\n",
        "\n",
        "We configure how logging messages should be displayed and which log level should be used before importing Haystack.\n",
        "Example log message:\n",
        "INFO - haystack.utils.preprocessing -  Converting data/tutorial1/218_Olenna_Tyrell.txt\n",
        "Default log level in basicConfig is WARNING so the explicit parameter is not necessary but can be changed easily:"
      ],
      "metadata": {
        "id": "bCAyFTh-CfoV"
      }
    },
    {
      "cell_type": "code",
      "source": [
        "import logging\n",
        "\n",
        "logging.basicConfig(format=\"%(levelname)s - %(name)s -  %(message)s\", level=logging.WARNING)\n",
        "logging.getLogger(\"haystack\").setLevel(logging.INFO)"
      ],
      "metadata": {
        "id": "vMogEZ7NCgMx"
      },
      "execution_count": 3,
      "outputs": []
    },
    {
      "cell_type": "markdown",
      "source": [
        "* AttributeError: module 'PIL.Image' has no attribute 'Resampling'"
      ],
      "metadata": {
        "id": "5pAi9SICHQQk"
      }
    },
    {
      "cell_type": "code",
      "source": [
        "! pip install --ignore-installed Pillow==9.0.0"
      ],
      "metadata": {
        "colab": {
          "base_uri": "https://localhost:8080/",
          "height": 245
        },
        "id": "XCgrl5mOHJNO",
        "outputId": "2c03010c-b686-40a1-cf59-6b37bd7fe3ea"
      },
      "execution_count": 4,
      "outputs": [
        {
          "output_type": "stream",
          "name": "stdout",
          "text": [
            "Looking in indexes: https://pypi.org/simple, https://us-python.pkg.dev/colab-wheels/public/simple/\n",
            "Collecting Pillow==9.0.0\n",
            "  Downloading Pillow-9.0.0-cp37-cp37m-manylinux_2_17_x86_64.manylinux2014_x86_64.whl (4.3 MB)\n",
            "\u001b[2K     \u001b[90m━━━━━━━━━━━━━━━━━━━━━━━━━━━━━━━━━━━━━━━━\u001b[0m \u001b[32m4.3/4.3 MB\u001b[0m \u001b[31m57.7 MB/s\u001b[0m eta \u001b[36m0:00:00\u001b[0m\n",
            "\u001b[?25hInstalling collected packages: Pillow\n",
            "Successfully installed Pillow-9.3.0\n",
            "\u001b[33mWARNING: Running pip as the 'root' user can result in broken permissions and conflicting behaviour with the system package manager. It is recommended to use a virtual environment instead: https://pip.pypa.io/warnings/venv\u001b[0m\u001b[33m\n",
            "\u001b[0m"
          ]
        },
        {
          "output_type": "display_data",
          "data": {
            "application/vnd.colab-display-data+json": {
              "pip_warning": {
                "packages": [
                  "PIL"
                ]
              }
            }
          },
          "metadata": {}
        }
      ]
    },
    {
      "cell_type": "code",
      "source": [
        "from haystack.utils import fetch_archive_from_http\n",
        "\n",
        "\n",
        "# This fetches some sample files to work with\n",
        "doc_dir = \"data/tutorial8\"\n",
        "s3_url = \"https://s3.eu-central-1.amazonaws.com/deepset.ai-farm-qa/datasets/documents/preprocessing_tutorial8.zip\"\n",
        "fetch_archive_from_http(url=s3_url, output_dir=doc_dir)"
      ],
      "metadata": {
        "colab": {
          "base_uri": "https://localhost:8080/"
        },
        "id": "zLBHsCt5DQnr",
        "outputId": "6b19877a-50ff-401c-e58a-7b186126391b"
      },
      "execution_count": 5,
      "outputs": [
        {
          "output_type": "stream",
          "name": "stderr",
          "text": [
            "INFO:haystack.telemetry:Haystack sends anonymous usage data to understand the actual usage and steer dev efforts towards features that are most meaningful to users. You can opt-out at anytime by calling disable_telemetry() or by manually setting the environment variable HAYSTACK_TELEMETRY_ENABLED as described for different operating systems on the documentation page. More information at https://haystack.deepset.ai/guides/telemetry\n",
            "INFO:haystack.utils.import_utils:Fetching from https://s3.eu-central-1.amazonaws.com/deepset.ai-farm-qa/datasets/documents/preprocessing_tutorial8.zip to 'data/tutorial8'\n"
          ]
        },
        {
          "output_type": "execute_result",
          "data": {
            "text/plain": [
              "True"
            ]
          },
          "metadata": {},
          "execution_count": 5
        }
      ]
    },
    {
      "cell_type": "markdown",
      "source": [
        "* converter\n",
        "* preprocessor\n",
        "* cleaning\n",
        "* splitting"
      ],
      "metadata": {
        "id": "Lg8Kv8EzhELY"
      }
    },
    {
      "cell_type": "code",
      "source": [
        "from haystack.nodes import TextConverter, PDFToTextConverter, DocxToTextConverter, PreProcessor\n",
        "\n",
        "\n",
        "converter = TextConverter(remove_numeric_tables=True, valid_languages=[\"en\"])\n",
        "doc_txt = converter.convert(file_path=\"data/tutorial8/classics.txt\", meta=None)[0]\n",
        "\n",
        "converter = PDFToTextConverter(remove_numeric_tables=True, valid_languages=[\"en\"])\n",
        "doc_pdf = converter.convert(file_path=\"data/tutorial8/bert.pdf\", meta=None)[0]\n",
        "\n",
        "converter = DocxToTextConverter(remove_numeric_tables=False, valid_languages=[\"en\"])\n",
        "doc_docx = converter.convert(file_path=\"data/tutorial8/heavy_metal.docx\", meta=None)[0]"
      ],
      "metadata": {
        "id": "q73F9AWuHpHK"
      },
      "execution_count": 6,
      "outputs": []
    },
    {
      "cell_type": "markdown",
      "source": [
        "Haystack also has a convenience function that will automatically **apply the right converter to each file** in a directory:"
      ],
      "metadata": {
        "id": "VzRKPVauJN5u"
      }
    },
    {
      "cell_type": "code",
      "source": [
        "from haystack.utils import convert_files_to_docs\n",
        "all_docs = convert_files_to_docs(dir_path=doc_dir)"
      ],
      "metadata": {
        "colab": {
          "base_uri": "https://localhost:8080/"
        },
        "id": "ES8Ok4eGJR68",
        "outputId": "06340451-c5db-491b-ad70-115f1f50cc9c"
      },
      "execution_count": 7,
      "outputs": [
        {
          "output_type": "stream",
          "name": "stderr",
          "text": [
            "INFO:haystack.utils.preprocessing:Converting data/tutorial8/bert.pdf\n",
            "INFO:haystack.utils.preprocessing:Converting data/tutorial8/classics.txt\n",
            "INFO:haystack.utils.preprocessing:Converting data/tutorial8/heavy_metal.docx\n"
          ]
        }
      ]
    },
    {
      "cell_type": "code",
      "source": [
        "all_docs\n"
      ],
      "metadata": {
        "colab": {
          "base_uri": "https://localhost:8080/"
        },
        "id": "808FkqScKhkg",
        "outputId": "7c0b52f7-f356-4633-f9eb-45f25947037a"
      },
      "execution_count": 8,
      "outputs": [
        {
          "output_type": "execute_result",
          "data": {
            "text/plain": [
              "[<Document: {'content': 'BERT: Pre-training of Deep Bidirectional Transformers for\\nLanguage Understanding\\nJacob Devlin Ming-Wei Chang Kenton Lee Kristina Toutanova\\nGoogle AI Language\\n{jacobdevlin,mingweichang,kentonl,kristout}@google.com\\nAbstract\\nWe introduce a new language representa-\\ntion model called BERT, which stands for\\nBidirectional Encoder Representations from\\nTransformers. Unlike recent language repre-\\nsentation models (Peters et al., 2018a; Rad-\\nford et al., 2018), BERT is designed to pre-\\ntrain deep bidirectional representations from\\nunlabeled text by jointly conditioning on both\\nleft and right context in all layers. As a re-\\nsult, the pre-trained BERT model can be ﬁne-\\ntuned with just one additional output layer\\nto create state-of-the-art models for a wide\\nrange of tasks, such as question answering and\\nlanguage inference, without substantial task-\\nspeciﬁc architecture modiﬁcations.\\nBERT is conceptually simple and empirically\\npowerful. It obtains new state-of-the-art re-\\nsults on eleven natural language processing\\ntasks, including pushing the GLUE score to\\n80.5% (7.7% point absolute improvement),\\nMultiNLI accuracy to 86.7% (4.6% absolute\\nimprovement), SQuAD v1.1 question answer-\\ning Test F1 to 93.2 (1.5 point absolute im-\\nprovement) and SQuAD v2.0 Test F1 to 83.1\\n(5.1 point absolute improvement).\\n1 Introduction\\nLanguage model pre-training has been shown to\\nbe effective for improving many natural language\\nprocessing tasks (Dai and Le, 2015; Peters et al.,\\n2018a; Radford et al., 2018; Howard and Ruder,\\n2018). These include sentence-level tasks such as\\nnatural language inference (Bowman et al., 2015;\\nWilliams et al., 2018) and paraphrasing (Dolan\\nand Brockett, 2005), which aim to predict the re-\\nlationships between sentences by analyzing them\\nholistically, as well as token-level tasks such as\\nnamed entity recognition and question answering,\\nwhere models are required to produce ﬁne-grained\\noutput at the token level (Tjong Kim Sang and\\nDe Meulder, 2003; Rajpurkar et al., 2016).\\nThere are two existing strategies for apply-\\ning pre-trained language representations to down-\\nstream tasks: feature-based and ﬁne-tuning. The\\nfeature-based approach, such as ELMo (Peters\\net al., 2018a), uses task-speciﬁc architectures that\\ninclude the pre-trained representations as addi-\\ntional features. The ﬁne-tuning approach, such as\\nthe Generative Pre-trained Transformer (OpenAI\\nGPT) (Radford et al., 2018), introduces minimal\\ntask-speciﬁc parameters, and is trained on the\\ndownstream tasks by simply ﬁne-tuning all pre-\\ntrained parameters. The two approaches share the\\nsame objective function during pre-training, where\\nthey use unidirectional language models to learn\\ngeneral language representations.\\nWe argue that current techniques restrict the\\npower of the pre-trained representations, espe-\\ncially for the ﬁne-tuning approaches. The ma-\\njor limitation is that standard language models are\\nunidirectional, and this limits the choice of archi-\\ntectures that can be used during pre-training. For\\nexample, in OpenAI GPT, the authors use a left-to-\\nright architecture, where every token can only at-\\ntend to previous tokens in the self-attention layers\\nof the Transformer (Vaswani et al., 2017). Such re-\\nstrictions are sub-optimal for sentence-level tasks,\\nand could be very harmful when applying ﬁne-\\ntuning based approaches to token-level tasks such\\nas question answering, where it is crucial to incor-\\nporate context from both directions.\\nIn this paper, we improve the ﬁne-tuning based\\napproaches by proposing BERT: Bidirectional\\nEncoder Representations from Transformers.\\nBERT alleviates the previously mentioned unidi-\\nrectionality constraint by using a “masked lan-\\nguage model” (MLM) pre-training objective, in-\\nspired by the Cloze task (Taylor, 1953). The\\nmasked language model randomly masks some of\\nthe tokens from the input, and the objective is to\\npredict the original vocabulary id of the masked\\narXiv:1810.04805v2 [cs.CL] 24 May 2019\\x0cword based only on its context. Unlike left-to-\\nright language model pre-training, the MLM ob-\\njective enables the representation to fuse the left\\nand the right context, which allows us to pre-\\ntrain a deep bidirectional Transformer. In addi-\\ntion to the masked language model, we also use\\na “next sentence prediction” task that jointly pre-\\ntrains text-pair representations. The contributions\\nof our paper are as follows:\\n• We demonstrate the importance of bidirectional\\npre-training for language representations. Un-\\nlike Radford et al. (2018), which uses unidirec-\\ntional language models for pre-training, BERT\\nuses masked language models to enable pre-\\ntrained deep bidirectional representations. This\\nis also in contrast to Peters et al. (2018a), which\\nuses a shallow concatenation of independently\\ntrained left-to-right and right-to-left LMs.\\n• We show that pre-trained representations reduce\\nthe need for many heavily-engineered task-\\nspeciﬁc architectures. BERT is the ﬁrst ﬁne-\\ntuning based representation model that achieves\\nstate-of-the-art performance on a large suite\\nof sentence-level and token-level tasks, outper-\\nforming many task-speciﬁc architectures.\\n• BERT advances the state of the art for eleven\\nNLP tasks. The code and pre-trained mod-\\nels are available at https://github.com/\\ngoogle-research/bert.\\n2 Related Work\\nThere is a long history of pre-training general lan-\\nguage representations, and we brieﬂy review the\\nmost widely-used approaches in this section.\\n2.1 Unsupervised Feature-based Approaches\\nLearning widely applicable representations of\\nwords has been an active area of research for\\ndecades, including non-neural (Brown et al., 1992;\\nAndo and Zhang, 2005; Blitzer et al., 2006) and\\nneural (Mikolov et al., 2013; Pennington et al.,\\n2014) methods. Pre-trained word embeddings\\nare an integral part of modern NLP systems, of-\\nfering signiﬁcant improvements over embeddings\\nlearned from scratch (Turian et al., 2010). To pre-\\ntrain word embedding vectors, left-to-right lan-\\nguage modeling objectives have been used (Mnih\\nand Hinton, 2009), as well as objectives to dis-\\ncriminate correct from incorrect words in left and\\nright context (Mikolov et al., 2013).\\nThese approaches have been generalized to\\ncoarser granularities, such as sentence embed-\\ndings (Kiros et al., 2015; Logeswaran and Lee,\\n2018) or paragraph embeddings (Le and Mikolov,\\n2014). To train sentence representations, prior\\nwork has used objectives to rank candidate next\\nsentences (Jernite et al., 2017; Logeswaran and\\nLee, 2018), left-to-right generation of next sen-\\ntence words given a representation of the previous\\nsentence (Kiros et al., 2015), or denoising auto-\\nencoder derived objectives (Hill et al., 2016).\\nELMo and its predecessor (Peters et al., 2017,\\n2018a) generalize traditional word embedding re-\\nsearch along a different dimension. They extract\\ncontext-sensitive features from a left-to-right and a\\nright-to-left language model. The contextual rep-\\nresentation of each token is the concatenation of\\nthe left-to-right and right-to-left representations.\\nWhen integrating contextual word embeddings\\nwith existing task-speciﬁc architectures, ELMo\\nadvances the state of the art for several major NLP\\nbenchmarks (Peters et al., 2018a) including ques-\\ntion answering (Rajpurkar et al., 2016), sentiment\\nanalysis (Socher et al., 2013), and named entity\\nrecognition (Tjong Kim Sang and De Meulder,\\n2003). Melamud et al. (2016) proposed learning\\ncontextual representations through a task to pre-\\ndict a single word from both left and right context\\nusing LSTMs. Similar to ELMo, their model is\\nfeature-based and not deeply bidirectional. Fedus\\net al. (2018) shows that the cloze task can be used\\nto improve the robustness of text generation mod-\\nels.\\n2.2 Unsupervised Fine-tuning Approaches\\nAs with the feature-based approaches, the ﬁrst\\nworks in this direction only pre-trained word em-\\nbedding parameters from unlabeled text (Col-\\nlobert and Weston, 2008).\\nMore recently, sentence or document encoders\\nwhich produce contextual token representations\\nhave been pre-trained from unlabeled text and\\nﬁne-tuned for a supervised downstream task (Dai\\nand Le, 2015; Howard and Ruder, 2018; Radford\\net al., 2018). The advantage of these approaches\\nis that few parameters need to be learned from\\nscratch. At least partly due to this advantage,\\nOpenAI GPT (Radford et al., 2018) achieved pre-\\nviously state-of-the-art results on many sentence-\\nlevel tasks from the GLUE benchmark (Wang\\net al., 2018a). Left-to-right language model-\\x0cBERT BERT\\nE\\n[CLS]\\nE\\n1\\nE\\n[SEP]\\n... E\\nN\\nE\\n1\\n’ ... E\\nM\\n’\\nC T\\n1\\nT\\n[SEP]\\n... T\\nN\\nT\\n1\\n’ ... T\\nM\\n’\\n[CLS] Tok 1 [SEP]\\n... Tok N Tok 1 ... TokM\\nQuestion Paragraph\\nStart/End Span\\nBERT\\nE\\n[CLS]\\nE\\n1\\nE\\n[SEP]\\n... E\\nN\\nE\\n1\\n’ ... E\\nM\\n’\\nC T\\n1\\nT\\n[SEP]\\n... T\\nN\\nT\\n1\\n’ ... T\\nM\\n’\\n[CLS] Tok 1 [SEP]\\n... Tok N Tok 1 ... TokM\\nMasked Sentence A Masked Sentence B\\nPre-training Fine-Tuning\\nNSP Mask LM Mask LM\\nUnlabeled Sentence A and B Pair\\nSQuAD\\nQuestion Answer Pair\\nNER\\nMNLI\\nFigure 1: Overall pre-training and ﬁne-tuning procedures for BERT. Apart from output layers, the same architec-\\ntures are used in both pre-training and ﬁne-tuning. The same pre-trained model parameters are used to initialize\\nmodels for different down-stream tasks. During ﬁne-tuning, all parameters are ﬁne-tuned. [CLS] is a special\\nsymbol added in front of every input example, and [SEP] is a special separator token (e.g. separating ques-\\ntions/answers).\\ning and auto-encoder objectives have been used\\nfor pre-training such models (Howard and Ruder,\\n2018; Radford et al., 2018; Dai and Le, 2015).\\n2.3 Transfer Learning from Supervised Data\\nThere has also been work showing effective trans-\\nfer from supervised tasks with large datasets, such\\nas natural language inference (Conneau et al.,\\n2017) and machine translation (McCann et al.,\\n2017). Computer vision research has also demon-\\nstrated the importance of transfer learning from\\nlarge pre-trained models, where an effective recipe\\nis to ﬁne-tune models pre-trained with Ima-\\ngeNet (Deng et al., 2009; Yosinski et al., 2014).\\n3 BERT\\nWe introduce BERT and its detailed implementa-\\ntion in this section. There are two steps in our\\nframework: pre-training and ﬁne-tuning. Dur-\\ning pre-training, the model is trained on unlabeled\\ndata over different pre-training tasks. For ﬁne-\\ntuning, the BERT model is ﬁrst initialized with\\nthe pre-trained parameters, and all of the param-\\neters are ﬁne-tuned using labeled data from the\\ndownstream tasks. Each downstream task has sep-\\narate ﬁne-tuned models, even though they are ini-\\ntialized with the same pre-trained parameters. The\\nquestion-answering example in Figure 1 will serve\\nas a running example for this section.\\nA distinctive feature of BERT is its uniﬁed ar-\\nchitecture across different tasks. There is mini-\\nmal difference between the pre-trained architec-\\nture and the ﬁnal downstream architecture.\\nModel Architecture BERT’s model architec-\\nture is a multi-layer bidirectional Transformer en-\\ncoder based on the original implementation de-\\nscribed in Vaswani et al. (2017) and released in\\nthe tensor2tensor library.1 Because the use\\nof Transformers has become common and our im-\\nplementation is almost identical to the original,\\nwe will omit an exhaustive background descrip-\\ntion of the model architecture and refer readers to\\nVaswani et al. (2017) as well as excellent guides\\nsuch as “The Annotated Transformer.”2\\nIn this work, we denote the number of layers\\n(i.e., Transformer blocks) as L, the hidden size as\\nH, and the number of self-attention heads as A.3\\nWe primarily report results on two model sizes:\\nBERTBASE (L=12, H=768, A=12, Total Param-\\neters=110M) and BERTLARGE (L=24, H=1024,\\nA=16, Total Parameters=340M).\\nBERTBASE was chosen to have the same model\\nsize as OpenAI GPT for comparison purposes.\\nCritically, however, the BERT Transformer uses\\nbidirectional self-attention, while the GPT Trans-\\nformer uses constrained self-attention where every\\ntoken can only attend to context to its left.4\\n1https://github.com/tensorﬂow/tensor2tensor\\n2http://nlp.seas.harvard.edu/2018/04/03/attention.html\\n3In all cases we set the feed-forward/ﬁlter size to be 4H,\\ni.e., 3072 for the H = 768 and 4096 for the H = 1024.\\n4We note that in the literature the bidirectional Trans-\\x0cInput/Output Representations To make BERT\\nhandle a variety of down-stream tasks, our input\\nrepresentation is able to unambiguously represent\\nboth a single sentence and a pair of sentences\\n(e.g., Question, Answer ) in one token sequence.\\nThroughout this work, a “sentence” can be an arbi-\\ntrary span of contiguous text, rather than an actual\\nlinguistic sentence. A “sequence” refers to the in-\\nput token sequence to BERT, which may be a sin-\\ngle sentence or two sentences packed together.\\nWe use WordPiece embeddings (Wu et al.,\\n2016) with a 30,000 token vocabulary. The ﬁrst\\ntoken of every sequence is always a special clas-\\nsiﬁcation token ([CLS]). The ﬁnal hidden state\\ncorresponding to this token is used as the ag-\\ngregate sequence representation for classiﬁcation\\ntasks. Sentence pairs are packed together into a\\nsingle sequence. We differentiate the sentences in\\ntwo ways. First, we separate them with a special\\ntoken ([SEP]). Second, we add a learned embed-\\nding to every token indicating whether it belongs\\nto sentence A or sentence B. As shown in Figure 1,\\nwe denote input embedding as E, the ﬁnal hidden\\nvector of the special [CLS] token as C ∈ RH,\\nand the ﬁnal hidden vector for the ith input token\\nas Ti ∈ RH.\\nFor a given token, its input representation is\\nconstructed by summing the corresponding token,\\nsegment, and position embeddings. A visualiza-\\ntion of this construction can be seen in Figure 2.\\n3.1 Pre-training BERT\\nUnlike Peters et al. (2018a) and Radford et al.\\n(2018), we do not use traditional left-to-right or\\nright-to-left language models to pre-train BERT.\\nInstead, we pre-train BERT using two unsuper-\\nvised tasks, described in this section. This step\\nis presented in the left part of Figure 1.\\nTask #1: Masked LM Intuitively, it is reason-\\nable to believe that a deep bidirectional model is\\nstrictly more powerful than either a left-to-right\\nmodel or the shallow concatenation of a left-to-\\nright and a right-to-left model. Unfortunately,\\nstandard conditional language models can only be\\ntrained left-to-right or right-to-left, since bidirec-\\ntional conditioning would allow each word to in-\\ndirectly “see itself”, and the model could trivially\\npredict the target word in a multi-layered context.\\nformer is often referred to as a “Transformer encoder” while\\nthe left-context-only version is referred to as a “Transformer\\ndecoder” since it can be used for text generation.\\nIn order to train a deep bidirectional representa-\\ntion, we simply mask some percentage of the input\\ntokens at random, and then predict those masked\\ntokens. We refer to this procedure as a “masked\\nLM” (MLM), although it is often referred to as a\\nCloze task in the literature (Taylor, 1953). In this\\ncase, the ﬁnal hidden vectors corresponding to the\\nmask tokens are fed into an output softmax over\\nthe vocabulary, as in a standard LM. In all of our\\nexperiments, we mask 15% of all WordPiece to-\\nkens in each sequence at random. In contrast to\\ndenoising auto-encoders (Vincent et al., 2008), we\\nonly predict the masked words rather than recon-\\nstructing the entire input.\\nAlthough this allows us to obtain a bidirec-\\ntional pre-trained model, a downside is that we\\nare creating a mismatch between pre-training and\\nﬁne-tuning, since the [MASK] token does not ap-\\npear during ﬁne-tuning. To mitigate this, we do\\nnot always replace “masked” words with the ac-\\ntual [MASK] token. The training data generator\\nchooses 15% of the token positions at random for\\nprediction. If the i-th token is chosen, we replace\\nthe i-th token with (1) the [MASK] token 80% of\\nthe time (2) a random token 10% of the time (3)\\nthe unchanged i-th token 10% of the time. Then,\\nTi will be used to predict the original token with\\ncross entropy loss. We compare variations of this\\nprocedure in Appendix C.2.\\nTask #2: Next Sentence Prediction (NSP)\\nMany important downstream tasks such as Ques-\\ntion Answering (QA) and Natural Language Infer-\\nence (NLI) are based on understanding the rela-\\ntionship between two sentences, which is not di-\\nrectly captured by language modeling. In order\\nto train a model that understands sentence rela-\\ntionships, we pre-train for a binarized next sen-\\ntence prediction task that can be trivially gener-\\nated from any monolingual corpus. Speciﬁcally,\\nwhen choosing the sentences A and B for each pre-\\ntraining example, 50% of the time B is the actual\\nnext sentence that follows A (labeled as IsNext),\\nand 50% of the time it is a random sentence from\\nthe corpus (labeled as NotNext). As we show\\nin Figure 1, C is used for next sentence predic-\\ntion (NSP).5 Despite its simplicity, we demon-\\nstrate in Section 5.1 that pre-training towards this\\ntask is very beneﬁcial to both QA and NLI. 6\\n5The ﬁnal model achieves 97%-98% accuracy on NSP.\\n6The vector C is not a meaningful sentence representation\\nwithout ﬁne-tuning, since it was trained with NSP.\\x0c[CLS] he likes play ##ing [SEP]\\nmy dog is cute [SEP]\\nInput\\nE\\n[CLS]\\nE\\nhe\\nE\\nlikes\\nE\\nplay\\nE\\n##ing\\nE\\n[SEP]\\nE\\nmy\\nE\\ndog\\nE\\nis\\nE\\ncute\\nE\\n[SEP]\\nToken\\nEmbeddings\\nE\\nA\\nE\\nB\\nE\\nB\\nE\\nB\\nE\\nB\\nE\\nB\\nE\\nA\\nE\\nA\\nE\\nA\\nE\\nA\\nE\\nA\\nSegment\\nEmbeddings\\nE\\n0\\nE\\n6\\nE\\n7\\nE\\n8\\nE\\n9\\nE\\n10\\nE\\n1\\nE\\n2\\nE\\n3\\nE\\n4\\nE\\n5\\nPosition\\nEmbeddings\\nFigure 2: BERT input representation. The input embeddings are the sum of the token embeddings, the segmenta-\\ntion embeddings and the position embeddings.\\nThe NSP task is closely related to representation-\\nlearning objectives used in Jernite et al. (2017) and\\nLogeswaran and Lee (2018). However, in prior\\nwork, only sentence embeddings are transferred to\\ndown-stream tasks, where BERT transfers all pa-\\nrameters to initialize end-task model parameters.\\nPre-training data The pre-training procedure\\nlargely follows the existing literature on language\\nmodel pre-training. For the pre-training corpus we\\nuse the BooksCorpus (800M words) (Zhu et al.,\\n2015) and English Wikipedia (2,500M words).\\nFor Wikipedia we extract only the text passages\\nand ignore lists, tables, and headers. It is criti-\\ncal to use a document-level corpus rather than a\\nshufﬂed sentence-level corpus such as the Billion\\nWord Benchmark (Chelba et al., 2013) in order to\\nextract long contiguous sequences.\\n3.2 Fine-tuning BERT\\nFine-tuning is straightforward since the self-\\nattention mechanism in the Transformer al-\\nlows BERT to model many downstream tasks—\\nwhether they involve single text or text pairs—by\\nswapping out the appropriate inputs and outputs.\\nFor applications involving text pairs, a common\\npattern is to independently encode text pairs be-\\nfore applying bidirectional cross attention, such\\nas Parikh et al. (2016); Seo et al. (2017). BERT\\ninstead uses the self-attention mechanism to unify\\nthese two stages, as encoding a concatenated text\\npair with self-attention effectively includes bidi-\\nrectional cross attention between two sentences.\\nFor each task, we simply plug in the task-\\nspeciﬁc inputs and outputs into BERT and ﬁne-\\ntune all the parameters end-to-end. At the in-\\nput, sentence A and sentence B from pre-training\\nare analogous to (1) sentence pairs in paraphras-\\ning, (2) hypothesis-premise pairs in entailment, (3)\\nquestion-passage pairs in question answering, and\\n(4) a degenerate text-∅ pair in text classiﬁcation\\nor sequence tagging. At the output, the token rep-\\nresentations are fed into an output layer for token-\\nlevel tasks, such as sequence tagging or question\\nanswering, and the [CLS] representation is fed\\ninto an output layer for classiﬁcation, such as en-\\ntailment or sentiment analysis.\\nCompared to pre-training, ﬁne-tuning is rela-\\ntively inexpensive. All of the results in the pa-\\nper can be replicated in at most 1 hour on a sin-\\ngle Cloud TPU, or a few hours on a GPU, starting\\nfrom the exact same pre-trained model.7 We de-\\nscribe the task-speciﬁc details in the correspond-\\ning subsections of Section 4. More details can be\\nfound in Appendix A.5.\\n4 Experiments\\nIn this section, we present BERT ﬁne-tuning re-\\nsults on 11 NLP tasks.\\n4.1 GLUE\\nThe General Language Understanding Evaluation\\n(GLUE) benchmark (Wang et al., 2018a) is a col-\\nlection of diverse natural language understanding\\ntasks. Detailed descriptions of GLUE datasets are\\nincluded in Appendix B.1.\\nTo ﬁne-tune on GLUE, we represent the input\\nsequence (for single sentence or sentence pairs)\\nas described in Section 3, and use the ﬁnal hid-\\nden vector C ∈ RH corresponding to the ﬁrst\\ninput token ([CLS]) as the aggregate representa-\\ntion. The only new parameters introduced during\\nﬁne-tuning are classiﬁcation layer weights W ∈\\nRK×H, where K is the number of labels. We com-\\npute a standard classiﬁcation loss with C and W,\\ni.e., log(softmax(CWT )).\\n7For example, the BERT SQuAD model can be trained in\\naround 30 minutes on a single Cloud TPU to achieve a Dev\\nF1 score of 91.0%.\\n8See (10) in https://gluebenchmark.com/faq.\\x0cSystem MNLI-(m/mm) QQP QNLI SST-2 CoLA STS-B MRPC RTE Average\\n392k 363k 108k 67k 8.5k 5.7k 3.5k 2.5k -\\nPre-OpenAI SOTA 80.6/80.1 66.1 82.3 93.2 35.0 81.0 86.0 61.7 74.0\\nBiLSTM+ELMo+Attn 76.4/76.1 64.8 79.8 90.4 36.0 73.3 84.9 56.8 71.0\\nOpenAI GPT 82.1/81.4 70.3 87.4 91.3 45.4 80.0 82.3 56.0 75.1\\nBERTBASE 84.6/83.4 71.2 90.5 93.5 52.1 85.8 88.9 66.4 79.6\\nBERTLARGE\\n86.7/85.9 72.1 92.7 94.9 60.5 86.5 89.3 70.1 82.1\\nTable 1: GLUE Test results, scored by the evaluation server (https://gluebenchmark.com/leaderboard).\\nThe number below each task denotes the number of training examples. The “Average” column is slightly different\\nthan the ofﬁcial GLUE score, since we exclude the problematic WNLI set.8 BERT and OpenAI GPT are single-\\nmodel, single task. F1 scores are reported for QQP and MRPC, Spearman correlations are reported for STS-B, and\\naccuracy scores are reported for the other tasks. We exclude entries that use BERT as one of their components.\\nWe use a batch size of 32 and ﬁne-tune for 3\\nepochs over the data for all GLUE tasks. For each\\ntask, we selected the best ﬁne-tuning learning rate\\n(among 5e-5, 4e-5, 3e-5, and 2e-5) on the Dev set.\\nAdditionally, for BERTLARGE we found that ﬁne-\\ntuning was sometimes unstable on small datasets,\\nso we ran several random restarts and selected the\\nbest model on the Dev set. With random restarts,\\nwe use the same pre-trained checkpoint but per-\\nform different ﬁne-tuning data shufﬂing and clas-\\nsiﬁer layer initialization.9\\nResults are presented in Table 1. Both\\nBERTBASE and BERTLARGE outperform all sys-\\ntems on all tasks by a substantial margin, obtaining\\n4.5% and 7.0% respective average accuracy im-\\nprovement over the prior state of the art. Note that\\nBERTBASE and OpenAI GPT are nearly identical\\nin terms of model architecture apart from the at-\\ntention masking. For the largest and most widely\\nreported GLUE task, MNLI, BERT obtains a 4.6%\\nabsolute accuracy improvement. On the ofﬁcial\\nGLUE leaderboard10, BERTLARGE obtains a score\\nof 80.5, compared to OpenAI GPT, which obtains\\n72.8 as of the date of writing.\\nWe ﬁnd that BERTLARGE signiﬁcantly outper-\\nforms BERTBASE across all tasks, especially those\\nwith very little training data. The effect of model\\nsize is explored more thoroughly in Section 5.2.\\n4.2 SQuAD v1.1\\nThe Stanford Question Answering Dataset\\n(SQuAD v1.1) is a collection of 100k crowd-\\nsourced question/answer pairs (Rajpurkar et al.,\\n2016). Given a question and a passage from\\n9The GLUE data set distribution does not include the Test\\nlabels, and we only made a single GLUE evaluation server\\nsubmission for each of BERTBASE and BERTLARGE.\\n10https://gluebenchmark.com/leaderboard\\nWikipedia containing the answer, the task is to\\npredict the answer text span in the passage.\\nAs shown in Figure 1, in the question answer-\\ning task, we represent the input question and pas-\\nsage as a single packed sequence, with the ques-\\ntion using the A embedding and the passage using\\nthe B embedding. We only introduce a start vec-\\ntor S ∈ RH and an end vector E ∈ RH during\\nﬁne-tuning. The probability of word i being the\\nstart of the answer span is computed as a dot prod-\\nuct between Ti and S followed by a softmax over\\nall of the words in the paragraph: Pi = eS·Ti\\nj\\neS·Tj\\n.\\nThe analogous formula is used for the end of the\\nanswer span. The score of a candidate span from\\nposition i to position j is deﬁned as S·Ti + E·Tj,\\nand the maximum scoring span where j ≥ i is\\nused as a prediction. The training objective is the\\nsum of the log-likelihoods of the correct start and\\nend positions. We ﬁne-tune for 3 epochs with a\\nlearning rate of 5e-5 and a batch size of 32.\\nTable 2 shows top leaderboard entries as well\\nas results from top published systems (Seo et al.,\\n2017; Clark and Gardner, 2018; Peters et al.,\\n2018a; Hu et al., 2018). The top results from the\\nSQuAD leaderboard do not have up-to-date public\\nsystem descriptions available,11 and are allowed to\\nuse any public data when training their systems.\\nWe therefore use modest data augmentation in\\nour system by ﬁrst ﬁne-tuning on TriviaQA (Joshi\\net al., 2017) befor ﬁne-tuning on SQuAD.\\nOur best performing system outperforms the top\\nleaderboard system by +1.5 F1 in ensembling and\\n+1.3 F1 as a single system. In fact, our single\\nBERT model outperforms the top ensemble sys-\\ntem in terms of F1 score. Without TriviaQA ﬁne-\\n11QANet is described in Yu et al. (2018), but the system\\nhas improved substantially after publication.\\x0cSystem Dev Test\\nEM F1 EM F1\\nTop Leaderboard Systems (Dec 10th, 2018)\\nHuman - - 82.3 91.2\\n#1 Ensemble - nlnet - - 86.0 91.7\\n#2 Ensemble - QANet - - 84.5 90.5\\nPublished\\nBiDAF+ELMo (Single) - 85.6 - 85.8\\nR.M. Reader (Ensemble) 81.2 87.9 82.3 88.5\\nOurs\\nBERTBASE (Single) 80.8 88.5 - -\\nBERTLARGE (Single) 84.1 90.9 - -\\nBERTLARGE (Ensemble) 85.8 91.8 - -\\nBERTLARGE (Sgl.+TriviaQA) 84.2 91.1 85.1 91.8\\nBERTLARGE (Ens.+TriviaQA) 86.2 92.2 87.4 93.2\\nTable 2: SQuAD 1.1 results. The BERT ensemble\\nis 7x systems which use different pre-training check-\\npoints and ﬁne-tuning seeds.\\nSystem Dev Test\\nEM F1 EM F1\\nTop Leaderboard Systems (Dec 10th, 2018)\\nHuman 86.3 89.0 86.9 89.5\\n#1 Single - MIR-MRC (F-Net) - - 74.8 78.0\\n#2 Single - nlnet - - 74.2 77.1\\nPublished\\nunet (Ensemble) - - 71.4 74.9\\nSLQA+ (Single) - 71.4 74.4\\nOurs\\nBERTLARGE (Single) 78.7 81.9 80.0 83.1\\nTable 3: SQuAD 2.0 results. We exclude entries that\\nuse BERT as one of their components.\\ntuning data, we only lose 0.1-0.4 F1, still outper-\\nforming all existing systems by a wide margin.12\\n4.3 SQuAD v2.0\\nThe SQuAD 2.0 task extends the SQuAD 1.1\\nproblem deﬁnition by allowing for the possibility\\nthat no short answer exists in the provided para-\\ngraph, making the problem more realistic.\\nWe use a simple approach to extend the SQuAD\\nv1.1 BERT model for this task. We treat ques-\\ntions that do not have an answer as having an an-\\nswer span with start and end at the [CLS] to-\\nken. The probability space for the start and end\\nanswer span positions is extended to include the\\nposition of the [CLS] token. For prediction, we\\ncompare the score of the no-answer span: snull\\n=\\nS·C + E·C to the score of the best non-null span\\n12The TriviaQA data we used consists of paragraphs from\\nTriviaQA-Wiki formed of the ﬁrst 400 tokens in documents,\\nthat contain at least one of the provided possible answers.\\nSystem Dev Test\\nESIM+GloVe 51.9 52.7\\nESIM+ELMo 59.1 59.2\\nOpenAI GPT - 78.0\\nBERTBASE 81.6 -\\nBERTLARGE\\n86.6 86.3\\nHuman (expert)† - 85.0\\nHuman (5 annotations)† - 88.0\\nTable 4: SWAG Dev and Test accuracies. †Human per-\\nformance is measured with 100 samples, as reported in\\nthe SWAG paper.\\nˆ\\nsi,j = maxj≥iS·Ti + E·Tj. We predict a non-null\\nanswer when ˆ\\nsi,j > snull\\n+ τ, where the thresh-\\nold τ is selected on the dev set to maximize F1.\\nWe did not use TriviaQA data for this model. We\\nﬁne-tuned for 2 epochs with a learning rate of 5e-5\\nand a batch size of 48.\\nThe results compared to prior leaderboard en-\\ntries and top published work (Sun et al., 2018;\\nWang et al., 2018b) are shown in Table 3, exclud-\\ning systems that use BERT as one of their com-\\nponents. We observe a +5.1 F1 improvement over\\nthe previous best system.\\n4.4 SWAG\\nThe Situations With Adversarial Generations\\n(SWAG) dataset contains 113k sentence-pair com-\\npletion examples that evaluate grounded common-\\nsense inference (Zellers et al., 2018). Given a sen-\\ntence, the task is to choose the most plausible con-\\ntinuation among four choices.\\nWhen ﬁne-tuning on the SWAG dataset, we\\nconstruct four input sequences, each containing\\nthe concatenation of the given sentence (sentence\\nA) and a possible continuation (sentence B). The\\nonly task-speciﬁc parameters introduced is a vec-\\ntor whose dot product with the [CLS] token rep-\\nresentation C denotes a score for each choice\\nwhich is normalized with a softmax layer.\\nWe ﬁne-tune the model for 3 epochs with a\\nlearning rate of 2e-5 and a batch size of 16. Re-\\nsults are presented in Table 4. BERTLARGE out-\\nperforms the authors’ baseline ESIM+ELMo sys-\\ntem by +27.1% and OpenAI GPT by 8.3%.\\n5 Ablation Studies\\nIn this section, we perform ablation experiments\\nover a number of facets of BERT in order to better\\nunderstand their relative importance. Additional\\x0cDev Set\\nTasks MNLI-m QNLI MRPC SST-2 SQuAD\\n(Acc) (Acc) (Acc) (Acc) (F1)\\nBERTBASE 84.4 88.4 86.7 92.7 88.5\\nNo NSP 83.9 84.9 86.5 92.6 87.9\\nLTR & No NSP 82.1 84.3 77.5 92.1 77.8\\n+ BiLSTM 82.1 84.1 75.7 91.6 84.9\\nTable 5: Ablation over the pre-training tasks using the\\nBERTBASE architecture. “No NSP” is trained without\\nthe next sentence prediction task. “LTR & No NSP” is\\ntrained as a left-to-right LM without the next sentence\\nprediction, like OpenAI GPT. “+ BiLSTM” adds a ran-\\ndomly initialized BiLSTM on top of the “LTR + No\\nNSP” model during ﬁne-tuning.\\nablation studies can be found in Appendix C.\\n5.1 Effect of Pre-training Tasks\\nWe demonstrate the importance of the deep bidi-\\nrectionality of BERT by evaluating two pre-\\ntraining objectives using exactly the same pre-\\ntraining data, ﬁne-tuning scheme, and hyperpa-\\nrameters as BERTBASE:\\nNo NSP: A bidirectional model which is trained\\nusing the “masked LM” (MLM) but without the\\n“next sentence prediction” (NSP) task.\\nLTR & No NSP: A left-context-only model which\\nis trained using a standard Left-to-Right (LTR)\\nLM, rather than an MLM. The left-only constraint\\nwas also applied at ﬁne-tuning, because removing\\nit introduced a pre-train/ﬁne-tune mismatch that\\ndegraded downstream performance. Additionally,\\nthis model was pre-trained without the NSP task.\\nThis is directly comparable to OpenAI GPT, but\\nusing our larger training dataset, our input repre-\\nsentation, and our ﬁne-tuning scheme.\\nWe ﬁrst examine the impact brought by the NSP\\ntask. In Table 5, we show that removing NSP\\nhurts performance signiﬁcantly on QNLI, MNLI,\\nand SQuAD 1.1. Next, we evaluate the impact\\nof training bidirectional representations by com-\\nparing “No NSP” to “LTR & No NSP”. The LTR\\nmodel performs worse than the MLM model on all\\ntasks, with large drops on MRPC and SQuAD.\\nFor SQuAD it is intuitively clear that a LTR\\nmodel will perform poorly at token predictions,\\nsince the token-level hidden states have no right-\\nside context. In order to make a good faith at-\\ntempt at strengthening the LTR system, we added\\na randomly initialized BiLSTM on top. This does\\nsigniﬁcantly improve results on SQuAD, but the\\nresults are still far worse than those of the pre-\\ntrained bidirectional models. The BiLSTM hurts\\nperformance on the GLUE tasks.\\nWe recognize that it would also be possible to\\ntrain separate LTR and RTL models and represent\\neach token as the concatenation of the two mod-\\nels, as ELMo does. However: (a) this is twice as\\nexpensive as a single bidirectional model; (b) this\\nis non-intuitive for tasks like QA, since the RTL\\nmodel would not be able to condition the answer\\non the question; (c) this it is strictly less powerful\\nthan a deep bidirectional model, since it can use\\nboth left and right context at every layer.\\n5.2 Effect of Model Size\\nIn this section, we explore the effect of model size\\non ﬁne-tuning task accuracy. We trained a number\\nof BERT models with a differing number of layers,\\nhidden units, and attention heads, while otherwise\\nusing the same hyperparameters and training pro-\\ncedure as described previously.\\nResults on selected GLUE tasks are shown in\\nTable 6. In this table, we report the average Dev\\nSet accuracy from 5 random restarts of ﬁne-tuning.\\nWe can see that larger models lead to a strict ac-\\ncuracy improvement across all four datasets, even\\nfor MRPC which only has 3,600 labeled train-\\ning examples, and is substantially different from\\nthe pre-training tasks. It is also perhaps surpris-\\ning that we are able to achieve such signiﬁcant\\nimprovements on top of models which are al-\\nready quite large relative to the existing literature.\\nFor example, the largest Transformer explored in\\nVaswani et al. (2017) is (L=6, H=1024, A=16)\\nwith 100M parameters for the encoder, and the\\nlargest Transformer we have found in the literature\\nis (L=64, H=512, A=2) with 235M parameters\\n(Al-Rfou et al., 2018). By contrast, BERTBASE\\ncontains 110M parameters and BERTLARGE con-\\ntains 340M parameters.\\nIt has long been known that increasing the\\nmodel size will lead to continual improvements\\non large-scale tasks such as machine translation\\nand language modeling, which is demonstrated\\nby the LM perplexity of held-out training data\\nshown in Table 6. However, we believe that\\nthis is the ﬁrst work to demonstrate convinc-\\ningly that scaling to extreme model sizes also\\nleads to large improvements on very small scale\\ntasks, provided that the model has been sufﬁ-\\nciently pre-trained. Peters et al. (2018b) presented\\x0cmixed results on the downstream task impact of\\nincreasing the pre-trained bi-LM size from two\\nto four layers and Melamud et al. (2016) men-\\ntioned in passing that increasing hidden dimen-\\nsion size from 200 to 600 helped, but increasing\\nfurther to 1,000 did not bring further improve-\\nments. Both of these prior works used a feature-\\nbased approach — we hypothesize that when the\\nmodel is ﬁne-tuned directly on the downstream\\ntasks and uses only a very small number of ran-\\ndomly initialized additional parameters, the task-\\nspeciﬁc models can beneﬁt from the larger, more\\nexpressive pre-trained representations even when\\ndownstream task data is very small.\\n5.3 Feature-based Approach with BERT\\nAll of the BERT results presented so far have used\\nthe ﬁne-tuning approach, where a simple classiﬁ-\\ncation layer is added to the pre-trained model, and\\nall parameters are jointly ﬁne-tuned on a down-\\nstream task. However, the feature-based approach,\\nwhere ﬁxed features are extracted from the pre-\\ntrained model, has certain advantages. First, not\\nall tasks can be easily represented by a Trans-\\nformer encoder architecture, and therefore require\\na task-speciﬁc model architecture to be added.\\nSecond, there are major computational beneﬁts\\nto pre-compute an expensive representation of the\\ntraining data once and then run many experiments\\nwith cheaper models on top of this representation.\\nIn this section, we compare the two approaches\\nby applying BERT to the CoNLL-2003 Named\\nEntity Recognition (NER) task (Tjong Kim Sang\\nand De Meulder, 2003). In the input to BERT, we\\nuse a case-preserving WordPiece model, and we\\ninclude the maximal document context provided\\nby the data. Following standard practice, we for-\\nmulate this as a tagging task but do not use a CRF\\nHyperparams Dev Set Accuracy\\n#L #H #A LM (ppl) MNLI-m MRPC SST-2\\n3 768 12 5.84 77.9 79.8 88.4\\n6 768 3 5.24 80.6 82.2 90.7\\n6 768 12 4.68 81.9 84.8 91.3\\n12 768 12 3.99 84.4 86.7 92.9\\n12 1024 16 3.54 85.7 86.9 93.3\\n24 1024 16 3.23 86.6 87.8 93.7\\nTable 6: Ablation over BERT model size. #L = the\\nnumber of layers; #H = hidden size; #A = number of at-\\ntention heads. “LM (ppl)” is the masked LM perplexity\\nof held-out training data.\\nSystem Dev F1 Test F1\\nELMo (Peters et al., 2018a) 95.7 92.2\\nCVT (Clark et al., 2018) - 92.6\\nCSE (Akbik et al., 2018) - 93.1\\nFine-tuning approach\\nBERTLARGE 96.6 92.8\\nBERTBASE 96.4 92.4\\nFeature-based approach (BERTBASE)\\nEmbeddings 91.0 -\\nSecond-to-Last Hidden 95.6 -\\nLast Hidden 94.9 -\\nWeighted Sum Last Four Hidden 95.9 -\\nConcat Last Four Hidden 96.1 -\\nWeighted Sum All 12 Layers 95.5 -\\nTable 7: CoNLL-2003 Named Entity Recognition re-\\nsults. Hyperparameters were selected using the Dev\\nset. The reported Dev and Test scores are averaged over\\n5 random restarts using those hyperparameters.\\nlayer in the output. We use the representation of\\nthe ﬁrst sub-token as the input to the token-level\\nclassiﬁer over the NER label set.\\nTo ablate the ﬁne-tuning approach, we apply the\\nfeature-based approach by extracting the activa-\\ntions from one or more layers without ﬁne-tuning\\nany parameters of BERT. These contextual em-\\nbeddings are used as input to a randomly initial-\\nized two-layer 768-dimensional BiLSTM before\\nthe classiﬁcation layer.\\nResults are presented in Table 7. BERTLARGE\\nperforms competitively with state-of-the-art meth-\\nods. The best performing method concatenates the\\ntoken representations from the top four hidden lay-\\ners of the pre-trained Transformer, which is only\\n0.3 F1 behind ﬁne-tuning the entire model. This\\ndemonstrates that BERT is effective for both ﬁne-\\ntuning and feature-based approaches.\\n6 Conclusion\\nRecent empirical improvements due to transfer\\nlearning with language models have demonstrated\\nthat rich, unsupervised pre-training is an integral\\npart of many language understanding systems. In\\nparticular, these results enable even low-resource\\ntasks to beneﬁt from deep unidirectional architec-\\ntures. Our major contribution is further general-\\nizing these ﬁndings to deep bidirectional architec-\\ntures, allowing the same pre-trained model to suc-\\ncessfully tackle a broad set of NLP tasks.\\x0cReferences\\nAlan Akbik, Duncan Blythe, and Roland Vollgraf.\\n2018. Contextual string embeddings for sequence\\nlabeling. In Proceedings of the 27th International\\nConference on Computational Linguistics, pages\\n1638–1649.\\nRami Al-Rfou, Dokook Choe, Noah Constant, Mandy\\nGuo, and Llion Jones. 2018. Character-level lan-\\nguage modeling with deeper self-attention. arXiv\\npreprint arXiv:1808.04444.\\nRie Kubota Ando and Tong Zhang. 2005. A framework\\nfor learning predictive structures from multiple tasks\\nand unlabeled data. Journal of Machine Learning\\nResearch, 6(Nov):1817–1853.\\nLuisa Bentivogli, Bernardo Magnini, Ido Dagan,\\nHoa Trang Dang, and Danilo Giampiccolo. 2009.\\nThe ﬁfth PASCAL recognizing textual entailment\\nchallenge. In TAC. NIST.\\nJohn Blitzer, Ryan McDonald, and Fernando Pereira.\\n2006. Domain adaptation with structural correspon-\\ndence learning. In Proceedings of the 2006 confer-\\nence on empirical methods in natural language pro-\\ncessing, pages 120–128. Association for Computa-\\ntional Linguistics.\\nSamuel R. Bowman, Gabor Angeli, Christopher Potts,\\nand Christopher D. Manning. 2015. A large anno-\\ntated corpus for learning natural language inference.\\nIn EMNLP. Association for Computational Linguis-\\ntics.\\nPeter F Brown, Peter V Desouza, Robert L Mercer,\\nVincent J Della Pietra, and Jenifer C Lai. 1992.\\nClass-based n-gram models of natural language.\\nComputational linguistics, 18(4):467–479.\\nDaniel Cer, Mona Diab, Eneko Agirre, Inigo Lopez-\\nGazpio, and Lucia Specia. 2017. Semeval-2017\\ntask 1: Semantic textual similarity multilingual and\\ncrosslingual focused evaluation. In Proceedings\\nof the 11th International Workshop on Semantic\\nEvaluation (SemEval-2017), pages 1–14, Vancou-\\nver, Canada. Association for Computational Lin-\\nguistics.\\nCiprian Chelba, Tomas Mikolov, Mike Schuster, Qi Ge,\\nThorsten Brants, Phillipp Koehn, and Tony Robin-\\nson. 2013. One billion word benchmark for measur-\\ning progress in statistical language modeling. arXiv\\npreprint arXiv:1312.3005.\\nZ. Chen, H. Zhang, X. Zhang, and L. Zhao. 2018.\\nQuora question pairs.\\nChristopher Clark and Matt Gardner. 2018. Simple\\nand effective multi-paragraph reading comprehen-\\nsion. In ACL.\\nKevin Clark, Minh-Thang Luong, Christopher D Man-\\nning, and Quoc Le. 2018. Semi-supervised se-\\nquence modeling with cross-view training. In Pro-\\nceedings of the 2018 Conference on Empirical Meth-\\nods in Natural Language Processing, pages 1914–\\n1925.\\nRonan Collobert and Jason Weston. 2008. A uniﬁed\\narchitecture for natural language processing: Deep\\nneural networks with multitask learning. In Pro-\\nceedings of the 25th international conference on\\nMachine learning, pages 160–167. ACM.\\nAlexis Conneau, Douwe Kiela, Holger Schwenk, Lo¨\\nıc\\nBarrault, and Antoine Bordes. 2017. Supervised\\nlearning of universal sentence representations from\\nnatural language inference data. In Proceedings of\\nthe 2017 Conference on Empirical Methods in Nat-\\nural Language Processing, pages 670–680, Copen-\\nhagen, Denmark. Association for Computational\\nLinguistics.\\nAndrew M Dai and Quoc V Le. 2015. Semi-supervised\\nsequence learning. In Advances in neural informa-\\ntion processing systems, pages 3079–3087.\\nJ. Deng, W. Dong, R. Socher, L.-J. Li, K. Li, and L. Fei-\\nFei. 2009. ImageNet: A Large-Scale Hierarchical\\nImage Database. In CVPR09.\\nWilliam B Dolan and Chris Brockett. 2005. Automati-\\ncally constructing a corpus of sentential paraphrases.\\nIn Proceedings of the Third International Workshop\\non Paraphrasing (IWP2005).\\nWilliam Fedus, Ian Goodfellow, and Andrew M Dai.\\n2018. Maskgan: Better text generation via ﬁlling in\\nthe . arXiv preprint arXiv:1801.07736.\\nDan Hendrycks and Kevin Gimpel. 2016. Bridging\\nnonlinearities and stochastic regularizers with gaus-\\nsian error linear units. CoRR, abs/1606.08415.\\nFelix Hill, Kyunghyun Cho, and Anna Korhonen. 2016.\\nLearning distributed representations of sentences\\nfrom unlabelled data. In Proceedings of the 2016\\nConference of the North American Chapter of the\\nAssociation for Computational Linguistics: Human\\nLanguage Technologies. Association for Computa-\\ntional Linguistics.\\nJeremy Howard and Sebastian Ruder. 2018. Universal\\nlanguage model ﬁne-tuning for text classiﬁcation. In\\nACL. Association for Computational Linguistics.\\nMinghao Hu, Yuxing Peng, Zhen Huang, Xipeng Qiu,\\nFuru Wei, and Ming Zhou. 2018. Reinforced\\nmnemonic reader for machine reading comprehen-\\nsion. In IJCAI.\\nYacine Jernite, Samuel R. Bowman, and David Son-\\ntag. 2017. Discourse-based objectives for fast un-\\nsupervised sentence representation learning. CoRR,\\nabs/1705.00557.\\x0cMandar Joshi, Eunsol Choi, Daniel S Weld, and Luke\\nZettlemoyer. 2017. Triviaqa: A large scale distantly\\nsupervised challenge dataset for reading comprehen-\\nsion. In ACL.\\nRyan Kiros, Yukun Zhu, Ruslan R Salakhutdinov,\\nRichard Zemel, Raquel Urtasun, Antonio Torralba,\\nand Sanja Fidler. 2015. Skip-thought vectors. In\\nAdvances in neural information processing systems,\\npages 3294–3302.\\nQuoc Le and Tomas Mikolov. 2014. Distributed rep-\\nresentations of sentences and documents. In Inter-\\nnational Conference on Machine Learning, pages\\n1188–1196.\\nHector J Levesque, Ernest Davis, and Leora Morgen-\\nstern. 2011. The winograd schema challenge. In\\nAaai spring symposium: Logical formalizations of\\ncommonsense reasoning, volume 46, page 47.\\nLajanugen Logeswaran and Honglak Lee. 2018. An\\nefﬁcient framework for learning sentence represen-\\ntations. In International Conference on Learning\\nRepresentations.\\nBryan McCann, James Bradbury, Caiming Xiong, and\\nRichard Socher. 2017. Learned in translation: Con-\\ntextualized word vectors. In NIPS.\\nOren Melamud, Jacob Goldberger, and Ido Dagan.\\n2016. context2vec: Learning generic context em-\\nbedding with bidirectional LSTM. In CoNLL.\\nTomas Mikolov, Ilya Sutskever, Kai Chen, Greg S Cor-\\nrado, and Jeff Dean. 2013. Distributed representa-\\ntions of words and phrases and their compositional-\\nity. In Advances in Neural Information Processing\\nSystems 26, pages 3111–3119. Curran Associates,\\nInc.\\nAndriy Mnih and Geoffrey E Hinton. 2009. A scal-\\nable hierarchical distributed language model. In\\nD. Koller, D. Schuurmans, Y. Bengio, and L. Bot-\\ntou, editors, Advances in Neural Information Pro-\\ncessing Systems 21, pages 1081–1088. Curran As-\\nsociates, Inc.\\nAnkur P Parikh, Oscar T¨\\nackstr¨\\nom, Dipanjan Das, and\\nJakob Uszkoreit. 2016. A decomposable attention\\nmodel for natural language inference. In EMNLP.\\nJeffrey Pennington, Richard Socher, and Christo-\\npher D. Manning. 2014. Glove: Global vectors for\\nword representation. In Empirical Methods in Nat-\\nural Language Processing (EMNLP), pages 1532–\\n1543.\\nMatthew Peters, Waleed Ammar, Chandra Bhagavat-\\nula, and Russell Power. 2017. Semi-supervised se-\\nquence tagging with bidirectional language models.\\nIn ACL.\\nMatthew Peters, Mark Neumann, Mohit Iyyer, Matt\\nGardner, Christopher Clark, Kenton Lee, and Luke\\nZettlemoyer. 2018a. Deep contextualized word rep-\\nresentations. In NAACL.\\nMatthew Peters, Mark Neumann, Luke Zettlemoyer,\\nand Wen-tau Yih. 2018b. Dissecting contextual\\nword embeddings: Architecture and representation.\\nIn Proceedings of the 2018 Conference on Empiri-\\ncal Methods in Natural Language Processing, pages\\n1499–1509.\\nAlec Radford, Karthik Narasimhan, Tim Salimans, and\\nIlya Sutskever. 2018. Improving language under-\\nstanding with unsupervised learning. Technical re-\\nport, OpenAI.\\nPranav Rajpurkar, Jian Zhang, Konstantin Lopyrev, and\\nPercy Liang. 2016. Squad: 100,000+ questions for\\nmachine comprehension of text. In Proceedings of\\nthe 2016 Conference on Empirical Methods in Nat-\\nural Language Processing, pages 2383–2392.\\nMinjoon Seo, Aniruddha Kembhavi, Ali Farhadi, and\\nHannaneh Hajishirzi. 2017. Bidirectional attention\\nﬂow for machine comprehension. In ICLR.\\nRichard Socher, Alex Perelygin, Jean Wu, Jason\\nChuang, Christopher D Manning, Andrew Ng, and\\nChristopher Potts. 2013. Recursive deep models\\nfor semantic compositionality over a sentiment tree-\\nbank. In Proceedings of the 2013 conference on\\nempirical methods in natural language processing,\\npages 1631–1642.\\nFu Sun, Linyang Li, Xipeng Qiu, and Yang Liu.\\n2018. U-net: Machine reading comprehension\\nwith unanswerable questions. arXiv preprint\\narXiv:1810.06638.\\nWilson L Taylor. 1953. Cloze procedure: A new\\ntool for measuring readability. Journalism Bulletin,\\n30(4):415–433.\\nErik F Tjong Kim Sang and Fien De Meulder.\\n2003. Introduction to the conll-2003 shared task:\\nLanguage-independent named entity recognition. In\\nCoNLL.\\nJoseph Turian, Lev Ratinov, and Yoshua Bengio. 2010.\\nWord representations: A simple and general method\\nfor semi-supervised learning. In Proceedings of the\\n48th Annual Meeting of the Association for Compu-\\ntational Linguistics, ACL ’10, pages 384–394.\\nAshish Vaswani, Noam Shazeer, Niki Parmar, Jakob\\nUszkoreit, Llion Jones, Aidan N Gomez, Lukasz\\nKaiser, and Illia Polosukhin. 2017. Attention is all\\nyou need. In Advances in Neural Information Pro-\\ncessing Systems, pages 6000–6010.\\nPascal Vincent, Hugo Larochelle, Yoshua Bengio, and\\nPierre-Antoine Manzagol. 2008. Extracting and\\ncomposing robust features with denoising autoen-\\ncoders. In Proceedings of the 25th international\\nconference on Machine learning, pages 1096–1103.\\nACM.\\nAlex Wang, Amanpreet Singh, Julian Michael, Fe-\\nlix Hill, Omer Levy, and Samuel Bowman. 2018a.\\nGlue: A multi-task benchmark and analysis platform\\x0cfor natural language understanding. In Proceedings\\nof the 2018 EMNLP Workshop BlackboxNLP: An-\\nalyzing and Interpreting Neural Networks for NLP,\\npages 353–355.\\nWei Wang, Ming Yan, and Chen Wu. 2018b. Multi-\\ngranularity hierarchical attention fusion networks\\nfor reading comprehension and question answering.\\nIn Proceedings of the 56th Annual Meeting of the As-\\nsociation for Computational Linguistics (Volume 1:\\nLong Papers). Association for Computational Lin-\\nguistics.\\nAlex Warstadt, Amanpreet Singh, and Samuel R Bow-\\nman. 2018. Neural network acceptability judg-\\nments. arXiv preprint arXiv:1805.12471.\\nAdina Williams, Nikita Nangia, and Samuel R Bow-\\nman. 2018. A broad-coverage challenge corpus\\nfor sentence understanding through inference. In\\nNAACL.\\nYonghui Wu, Mike Schuster, Zhifeng Chen, Quoc V\\nLe, Mohammad Norouzi, Wolfgang Macherey,\\nMaxim Krikun, Yuan Cao, Qin Gao, Klaus\\nMacherey, et al. 2016. Google’s neural ma-\\nchine translation system: Bridging the gap between\\nhuman and machine translation. arXiv preprint\\narXiv:1609.08144.\\nJason Yosinski, Jeff Clune, Yoshua Bengio, and Hod\\nLipson. 2014. How transferable are features in deep\\nneural networks? In Advances in neural information\\nprocessing systems, pages 3320–3328.\\nAdams Wei Yu, David Dohan, Minh-Thang Luong, Rui\\nZhao, Kai Chen, Mohammad Norouzi, and Quoc V\\nLe. 2018. QANet: Combining local convolution\\nwith global self-attention for reading comprehen-\\nsion. In ICLR.\\nRowan Zellers, Yonatan Bisk, Roy Schwartz, and Yejin\\nChoi. 2018. Swag: A large-scale adversarial dataset\\nfor grounded commonsense inference. In Proceed-\\nings of the 2018 Conference on Empirical Methods\\nin Natural Language Processing (EMNLP).\\nYukun Zhu, Ryan Kiros, Rich Zemel, Ruslan Salakhut-\\ndinov, Raquel Urtasun, Antonio Torralba, and Sanja\\nFidler. 2015. Aligning books and movies: Towards\\nstory-like visual explanations by watching movies\\nand reading books. In Proceedings of the IEEE\\ninternational conference on computer vision, pages\\n19–27.\\nAppendix for “BERT: Pre-training of\\nDeep Bidirectional Transformers for\\nLanguage Understanding”\\nWe organize the appendix into three sections:\\n• Additional implementation details for BERT\\nare presented in Appendix A;\\n• Additional details for our experiments are\\npresented in Appendix B; and\\n• Additional ablation studies are presented in\\nAppendix C.\\nWe present additional ablation studies for\\nBERT including:\\n– Effect of Number of Training Steps; and\\n– Ablation for Different Masking Proce-\\ndures.\\nA Additional Details for BERT\\nA.1 Illustration of the Pre-training Tasks\\nWe provide examples of the pre-training tasks in\\nthe following.\\nMasked LM and the Masking Procedure As-\\nsuming the unlabeled sentence is my dog is\\nhairy, and during the random masking procedure\\nwe chose the 4-th token (which corresponding to\\nhairy), our masking procedure can be further il-\\nlustrated by\\n• 80% of the time: Replace the word with the\\n[MASK] token, e.g., my dog is hairy →\\nmy dog is [MASK]\\n• 10% of the time: Replace the word with a\\nrandom word, e.g., my dog is hairy → my\\ndog is apple\\n• 10% of the time: Keep the word un-\\nchanged, e.g., my dog is hairy → my dog\\nis hairy. The purpose of this is to bias the\\nrepresentation towards the actual observed\\nword.\\nThe advantage of this procedure is that the\\nTransformer encoder does not know which words\\nit will be asked to predict or which have been re-\\nplaced by random words, so it is forced to keep\\na distributional contextual representation of ev-\\nery input token. Additionally, because random\\nreplacement only occurs for 1.5% of all tokens\\n(i.e., 10% of 15%), this does not seem to harm\\nthe model’s language understanding capability. In\\nSection C.2, we evaluate the impact this proce-\\ndure.\\nCompared to standard langauge model training,\\nthe masked LM only make predictions on 15% of\\ntokens in each batch, which suggests that more\\npre-training steps may be required for the model\\x0cBERT (Ours)\\nTrm Trm Trm\\nTrm Trm Trm\\n...\\n...\\nTrm Trm Trm\\nTrm Trm Trm\\n...\\n...\\nOpenAI GPT\\nLstm\\nELMo\\nLstm Lstm\\nLstm Lstm Lstm\\nLstm Lstm Lstm\\nLstm Lstm Lstm\\nT\\n1\\nT\\n2\\nT\\nN\\n...\\n...\\n...\\n...\\n...\\nE\\n1\\nE\\n2\\nE\\nN\\n...\\nT\\n1\\nT\\n2\\nT\\nN\\n...\\nE\\n1\\nE\\n2\\nE\\nN\\n...\\nT\\n1\\nT\\n2\\nT\\nN\\n...\\nE\\n1\\nE\\n2\\nE\\nN\\n...\\nFigure 3: Differences in pre-training model architectures. BERT uses a bidirectional Transformer. OpenAI GPT\\nuses a left-to-right Transformer. ELMo uses the concatenation of independently trained left-to-right and right-to-\\nleft LSTMs to generate features for downstream tasks. Among the three, only BERT representations are jointly\\nconditioned on both left and right context in all layers. In addition to the architecture differences, BERT and\\nOpenAI GPT are ﬁne-tuning approaches, while ELMo is a feature-based approach.\\nto converge. In Section C.1 we demonstrate that\\nMLM does converge marginally slower than a left-\\nto-right model (which predicts every token), but\\nthe empirical improvements of the MLM model\\nfar outweigh the increased training cost.\\nNext Sentence Prediction The next sentence\\nprediction task can be illustrated in the following\\nexamples.\\nInput = [CLS] the man went to [MASK] store [SEP]\\nhe bought a gallon [MASK] milk [SEP]\\nLabel = IsNext\\nInput = [CLS] the man [MASK] to the store [SEP]\\npenguin [MASK] are flight ##less birds [SEP]\\nLabel = NotNext\\nA.2 Pre-training Procedure\\nTo generate each training input sequence, we sam-\\nple two spans of text from the corpus, which we\\nrefer to as “sentences” even though they are typ-\\nically much longer than single sentences (but can\\nbe shorter also). The ﬁrst sentence receives the A\\nembedding and the second receives the B embed-\\nding. 50% of the time B is the actual next sentence\\nthat follows A and 50% of the time it is a random\\nsentence, which is done for the “next sentence pre-\\ndiction” task. They are sampled such that the com-\\nbined length is ≤ 512 tokens. The LM masking is\\napplied after WordPiece tokenization with a uni-\\nform masking rate of 15%, and no special consid-\\neration given to partial word pieces.\\nWe train with batch size of 256 sequences (256\\nsequences * 512 tokens = 128,000 tokens/batch)\\nfor 1,000,000 steps, which is approximately 40\\nepochs over the 3.3 billion word corpus. We\\nuse Adam with learning rate of 1e-4, β1 = 0.9,\\nβ2 = 0.999, L2 weight decay of 0.01, learning\\nrate warmup over the ﬁrst 10,000 steps, and linear\\ndecay of the learning rate. We use a dropout prob-\\nability of 0.1 on all layers. We use a gelu acti-\\nvation (Hendrycks and Gimpel, 2016) rather than\\nthe standard relu, following OpenAI GPT. The\\ntraining loss is the sum of the mean masked LM\\nlikelihood and the mean next sentence prediction\\nlikelihood.\\nTraining of BERTBASE was performed on 4\\nCloud TPUs in Pod conﬁguration (16 TPU chips\\ntotal).13 Training of BERTLARGE was performed\\non 16 Cloud TPUs (64 TPU chips total). Each pre-\\ntraining took 4 days to complete.\\nLonger sequences are disproportionately expen-\\nsive because attention is quadratic to the sequence\\nlength. To speed up pretraing in our experiments,\\nwe pre-train the model with sequence length of\\n128 for 90% of the steps. Then, we train the rest\\n10% of the steps of sequence of 512 to learn the\\npositional embeddings.\\nA.3 Fine-tuning Procedure\\nFor ﬁne-tuning, most model hyperparameters are\\nthe same as in pre-training, with the exception of\\nthe batch size, learning rate, and number of train-\\ning epochs. The dropout probability was always\\nkept at 0.1. The optimal hyperparameter values\\nare task-speciﬁc, but we found the following range\\nof possible values to work well across all tasks:\\n• Batch size: 16, 32\\n13https://cloudplatform.googleblog.com/2018/06/Cloud-\\nTPU-now-offers-preemptible-pricing-and-global-\\navailability.html\\x0c• Learning rate (Adam): 5e-5, 3e-5, 2e-5\\n• Number of epochs: 2, 3, 4\\nWe also observed that large data sets (e.g.,\\n100k+ labeled training examples) were far less\\nsensitive to hyperparameter choice than small data\\nsets. Fine-tuning is typically very fast, so it is rea-\\nsonable to simply run an exhaustive search over\\nthe above parameters and choose the model that\\nperforms best on the development set.\\nA.4 Comparison of BERT, ELMo ,and\\nOpenAI GPT\\nHere we studies the differences in recent popular\\nrepresentation learning models including ELMo,\\nOpenAI GPT and BERT. The comparisons be-\\ntween the model architectures are shown visually\\nin Figure 3. Note that in addition to the architec-\\nture differences, BERT and OpenAI GPT are ﬁne-\\ntuning approaches, while ELMo is a feature-based\\napproach.\\nThe most comparable existing pre-training\\nmethod to BERT is OpenAI GPT, which trains a\\nleft-to-right Transformer LM on a large text cor-\\npus. In fact, many of the design decisions in BERT\\nwere intentionally made to make it as close to\\nGPT as possible so that the two methods could be\\nminimally compared. The core argument of this\\nwork is that the bi-directionality and the two pre-\\ntraining tasks presented in Section 3.1 account for\\nthe majority of the empirical improvements, but\\nwe do note that there are several other differences\\nbetween how BERT and GPT were trained:\\n• GPT is trained on the BooksCorpus (800M\\nwords); BERT is trained on the BooksCor-\\npus (800M words) and Wikipedia (2,500M\\nwords).\\n• GPT uses a sentence separator ([SEP]) and\\nclassiﬁer token ([CLS]) which are only in-\\ntroduced at ﬁne-tuning time; BERT learns\\n[SEP], [CLS] and sentence A/B embed-\\ndings during pre-training.\\n• GPT was trained for 1M steps with a batch\\nsize of 32,000 words; BERT was trained for\\n1M steps with a batch size of 128,000 words.\\n• GPT used the same learning rate of 5e-5 for\\nall ﬁne-tuning experiments; BERT chooses a\\ntask-speciﬁc ﬁne-tuning learning rate which\\nperforms the best on the development set.\\nTo isolate the effect of these differences, we per-\\nform ablation experiments in Section 5.1 which\\ndemonstrate that the majority of the improvements\\nare in fact coming from the two pre-training tasks\\nand the bidirectionality they enable.\\nA.5 Illustrations of Fine-tuning on Different\\nTasks\\nThe illustration of ﬁne-tuning BERT on different\\ntasks can be seen in Figure 4. Our task-speciﬁc\\nmodels are formed by incorporating BERT with\\none additional output layer, so a minimal num-\\nber of parameters need to be learned from scratch.\\nAmong the tasks, (a) and (b) are sequence-level\\ntasks while (c) and (d) are token-level tasks. In\\nthe ﬁgure, E represents the input embedding, Ti\\nrepresents the contextual representation of token i,\\n[CLS] is the special symbol for classiﬁcation out-\\nput, and [SEP] is the special symbol to separate\\nnon-consecutive token sequences.\\nB Detailed Experimental Setup\\nB.1 Detailed Descriptions for the GLUE\\nBenchmark Experiments.\\nOur GLUE results in Table1 are obtained\\nfrom https://gluebenchmark.com/\\nleaderboard and https://blog.\\nopenai.com/language-unsupervised.\\nThe GLUE benchmark includes the following\\ndatasets, the descriptions of which were originally\\nsummarized in Wang et al. (2018a):\\nMNLI Multi-Genre Natural Language Inference\\nis a large-scale, crowdsourced entailment classiﬁ-\\ncation task (Williams et al., 2018). Given a pair of\\nsentences, the goal is to predict whether the sec-\\nond sentence is an entailment, contradiction, or\\nneutral with respect to the ﬁrst one.\\nQQP Quora Question Pairs is a binary classiﬁ-\\ncation task where the goal is to determine if two\\nquestions asked on Quora are semantically equiv-\\nalent (Chen et al., 2018).\\nQNLI Question Natural Language Inference is\\na version of the Stanford Question Answering\\nDataset (Rajpurkar et al., 2016) which has been\\nconverted to a binary classiﬁcation task (Wang\\net al., 2018a). The positive examples are (ques-\\ntion, sentence) pairs which do contain the correct\\nanswer, and the negative examples are (question,\\nsentence) from the same paragraph which do not\\ncontain the answer.\\x0cBERT\\nE\\n[CLS]\\nE\\n1\\nE\\n[SEP]\\n... E\\nN\\nE\\n1\\n’ ... E\\nM\\n’\\nC T\\n1\\nT\\n[SEP]\\n... T\\nN\\nT\\n1\\n’ ... T\\nM\\n’\\n[CLS]\\nTok\\n1\\n[SEP]\\n... Tok\\nN\\nTok\\n1\\n... Tok\\nM\\nQuestion Paragraph\\nBERT\\nE\\n[CLS]\\nE\\n1\\nE\\n2\\nE\\nN\\nC T\\n1\\nT\\n2\\nT\\nN\\nSingle Sentence\\n...\\n...\\nBERT\\nTok 1 Tok 2 Tok N\\n...\\n[CLS]\\nE\\n[CLS]\\nE\\n1\\nE\\n2\\nE\\nN\\nC T\\n1\\nT\\n2\\nT\\nN\\nSingle Sentence\\nB-PER\\nO O\\n...\\n...\\nE\\n[CLS]\\nE\\n1\\nE\\n[SEP]\\nClass\\nLabel\\n... E\\nN\\nE\\n1\\n’ ... E\\nM\\n’\\nC T\\n1\\nT\\n[SEP]\\n... T\\nN\\nT\\n1\\n’ ... T\\nM\\n’\\nStart/End Span\\nClass\\nLabel\\nBERT\\nTok 1 Tok 2 Tok N\\n...\\n[CLS] Tok 1\\n[CLS]\\n[CLS]\\nTok\\n1\\n[SEP]\\n... Tok\\nN\\nTok\\n1\\n... Tok\\nM\\nSentence 1\\n...\\nSentence 2\\nFigure 4: Illustrations of Fine-tuning BERT on Different Tasks.\\nSST-2 The Stanford Sentiment Treebank is a\\nbinary single-sentence classiﬁcation task consist-\\ning of sentences extracted from movie reviews\\nwith human annotations of their sentiment (Socher\\net al., 2013).\\nCoLA The Corpus of Linguistic Acceptability is\\na binary single-sentence classiﬁcation task, where\\nthe goal is to predict whether an English sentence\\nis linguistically “acceptable” or not (Warstadt\\net al., 2018).\\nSTS-B The Semantic Textual Similarity Bench-\\nmark is a collection of sentence pairs drawn from\\nnews headlines and other sources (Cer et al.,\\n2017). They were annotated with a score from 1\\nto 5 denoting how similar the two sentences are in\\nterms of semantic meaning.\\nMRPC Microsoft Research Paraphrase Corpus\\nconsists of sentence pairs automatically extracted\\nfrom online news sources, with human annotations\\nfor whether the sentences in the pair are semanti-\\ncally equivalent (Dolan and Brockett, 2005).\\nRTE Recognizing Textual Entailment is a bi-\\nnary entailment task similar to MNLI, but with\\nmuch less training data (Bentivogli et al., 2009).14\\nWNLI Winograd NLI is a small natural lan-\\nguage inference dataset (Levesque et al., 2011).\\nThe GLUE webpage notes that there are issues\\nwith the construction of this dataset, 15 and every\\ntrained system that’s been submitted to GLUE has\\nperformed worse than the 65.1 baseline accuracy\\nof predicting the majority class. We therefore ex-\\nclude this set to be fair to OpenAI GPT. For our\\nGLUE submission, we always predicted the ma-\\n14Note that we only report single-task ﬁne-tuning results\\nin this paper. A multitask ﬁne-tuning approach could poten-\\ntially push the performance even further. For example, we\\ndid observe substantial improvements on RTE from multi-\\ntask training with MNLI.\\n15https://gluebenchmark.com/faq\\x0cjority class.\\nC Additional Ablation Studies\\nC.1 Effect of Number of Training Steps\\nFigure 5 presents MNLI Dev accuracy after ﬁne-\\ntuning from a checkpoint that has been pre-trained\\nfor k steps. This allows us to answer the following\\nquestions:\\n1. Question: Does BERT really need such\\na large amount of pre-training (128,000\\nwords/batch * 1,000,000 steps) to achieve\\nhigh ﬁne-tuning accuracy?\\nAnswer: Yes, BERTBASE achieves almost\\n1.0% additional accuracy on MNLI when\\ntrained on 1M steps compared to 500k steps.\\n2. Question: Does MLM pre-training converge\\nslower than LTR pre-training, since only 15%\\nof words are predicted in each batch rather\\nthan every word?\\nAnswer: The MLM model does converge\\nslightly slower than the LTR model. How-\\never, in terms of absolute accuracy the MLM\\nmodel begins to outperform the LTR model\\nalmost immediately.\\nC.2 Ablation for Different Masking\\nProcedures\\nIn Section 3.1, we mention that BERT uses a\\nmixed strategy for masking the target tokens when\\npre-training with the masked language model\\n(MLM) objective. The following is an ablation\\nstudy to evaluate the effect of different masking\\nstrategies.\\n200 400 600 800 1,000\\n76\\n78\\n80\\n82\\n84\\nPre-training Steps (Thousands)\\nMNLI Dev Accuracy\\nBERTBASE (Masked LM)\\nBERTBASE (Left-to-Right)\\nFigure 5: Ablation over number of training steps. This\\nshows the MNLI accuracy after ﬁne-tuning, starting\\nfrom model parameters that have been pre-trained for\\nk steps. The x-axis is the value of k.\\nNote that the purpose of the masking strategies\\nis to reduce the mismatch between pre-training\\nand ﬁne-tuning, as the [MASK] symbol never ap-\\npears during the ﬁne-tuning stage. We report the\\nDev results for both MNLI and NER. For NER,\\nwe report both ﬁne-tuning and feature-based ap-\\nproaches, as we expect the mismatch will be am-\\npliﬁed for the feature-based approach as the model\\nwill not have the chance to adjust the representa-\\ntions.\\nMasking Rates Dev Set Results\\nMASK SAME RND MNLI NER\\nFine-tune Fine-tune Feature-based\\n80% 10% 10% 84.2 95.4 94.9\\n100% 0% 0% 84.3 94.9 94.0\\n80% 0% 20% 84.1 95.2 94.6\\n80% 20% 0% 84.4 95.2 94.7\\n0% 20% 80% 83.7 94.8 94.6\\n0% 0% 100% 83.6 94.9 94.6\\nTable 8: Ablation over different masking strategies.\\nThe results are presented in Table 8. In the table,\\nMASK means that we replace the target token with\\nthe [MASK] symbol for MLM; SAME means that\\nwe keep the target token as is; RND means that\\nwe replace the target token with another random\\ntoken.\\nThe numbers in the left part of the table repre-\\nsent the probabilities of the speciﬁc strategies used\\nduring MLM pre-training (BERT uses 80%, 10%,\\n10%). The right part of the paper represents the\\nDev set results. For the feature-based approach,\\nwe concatenate the last 4 layers of BERT as the\\nfeatures, which was shown to be the best approach\\nin Section 5.3.\\nFrom the table it can be seen that ﬁne-tuning is\\nsurprisingly robust to different masking strategies.\\nHowever, as expected, using only the MASK strat-\\negy was problematic when applying the feature-\\nbased approach to NER. Interestingly, using only\\nthe RND strategy performs much worse than our\\nstrategy as well.', 'content_type': 'text', 'score': None, 'meta': {'name': 'bert.pdf'}, 'embedding': None, 'id': 'c2b55becdc215bc618f0c9509f8db0ab'}>,\n",
              " <Document: {'content': 'Classics or classical studies is the study of classical antiquity, and in the Western world traditionally refers to the study of Classical Greek and Roman literature in their original languages of Ancient Greek and Latin, respectively. It may also include Greco-Roman philosophy, history, and archaeology as secondary subjects.\\n\\nIn Western civilization, the study of the Greek and Roman classics was traditionally considered to be the foundation of the humanities, and study of classics has therefore traditionally been the cornerstone of a typical elite European education.\\n\\nEtymology\\n\\nThe word classics is derived from the Latin adjective classicus, meaning \"belonging to the highest class of citizens.\" The word was originally used to describe the members of the highest class in ancient Rome. By the 2nd century AD the word was used in literary criticism to describe writers of the highest quality.[1] For example, Aulus Gellius, in his Attic Nights, contrasts \"classicus\" and \"proletarius\" writers.[2] By the 6th century AD, the word had acquired a second meaning, referring to pupils at a school.[1] Thus, the two modern meanings of the word, referring both to literature considered to be of the highest quality, and to the standard texts used as part of a curriculum, both derive from Roman use.[1]\\nHistory\\nMiddle Ages\\nPhotograph of a bronze bust of a man. It rests on a stone plinth, on which the words \"Gaius Valerius Catullus 87 AC–54 AC\" are written.\\nThe Roman poet Catullus was virtually unknown during the medieval period, in contrast to his modern popularity.\\n\\nIn the Middle Ages, classics and education were tightly intertwined; according to Jan Ziolkowski, there is no era in history in which the link was tighter.[3] Medieval education taught students to imitate earlier classical models,[4] and Latin continued to be the language of scholarship and culture, despite the increasing difference between literary Latin and the vernacular languages of Europe during the period.[4]\\n\\nWhile Latin was hugely influential, however, Greek was barely studied, and Greek literature survived almost solely in Latin translation.[5] The works of even major Greek authors such as Hesiod, whose names continued to be known by educated Europeans, were unavailable in the Middle Ages.[5] In the thirteenth century, the English philosopher Roger Bacon wrote that \"there are not four men in Latin Christendom who are acquainted with the Greek, Hebrew, and Arabic grammars.\"[6]\\n\\nAlong with the unavailability of Greek authors, there were other differences between the classical canon known today and the works valued in the Middle Ages. Catullus, for instance, was almost entirely unknown in the medieval period.[5] The popularity of different authors also waxed and waned throughout the period: Lucretius, popular during the Carolingian period, was barely read in the twelfth century, while for Quintilian the reverse is true.[5]\\nRenaissance\\n\\nThe Renaissance led to the increasing study of both ancient literature and ancient history,[7] as well as a revival of classical styles of Latin.[8] From the 14th century, first in Italy and then increasingly across Europe, Renaissance Humanism, an intellectual movement that \"advocated the study and imitation of classical antiquity\",[7] developed. Humanism saw a reform in education in Europe, introducing a wider range of Latin authors as well as bringing back the study of Greek language and literature to Western Europe.[8] This reintroduction was initiated by Petrarch (1304–1374) and Boccaccio (1313–1375) who commissioned a Calabrian scholar to translate the Homeric poems.[9] This humanist educational reform spread from Italy, in Catholic countries as it was adopted by the Jesuits, and in countries that became Protestant such as England, Germany, and the Low Countries, in order to ensure that future clerics were able to study the New Testament in the original language.[10]\\nNeoclassicism\\n\\nThe late 17th and 18th centuries are the period in Western European literary history which is most associated with the classical tradition, as writers consciously adapted classical models.[11] Classical models were so highly prized that the plays of William Shakespeare were rewritten along neoclassical lines, and these \"improved\" versions were performed throughout the 18th century.[12]\\n\\nFrom the beginning of the 18th century, the study of Greek became increasingly important relative to that of Latin.[13] In this period Johann Winckelmann\\'s claims for the superiority of the Greek visual arts influenced a shift in aesthetic judgements, while in the literary sphere, G.E. Lessing \"returned Homer to the centre of artistic achievement\".[14] In the United Kingdom, the study of Greek in schools began in the late 18th century. The poet Walter Savage Landor claimed to have been one of the first English schoolboys to write in Greek during his time at Rugby School.[15]\\n19th century\\n\\nThe 19th century saw the influence of the classical world, and the value of a classical education, decline,[16] especially in the United States, where the subject was often criticised for its elitism.[17] By the 19th century, little new literature was still being written in Latin – a practice which had continued as late as the 18th century – and a command of Latin declined in importance.[10] Correspondingly, classical education from the 19th century onwards began to increasingly de-emphasise the importance of the ability to write and speak Latin.[13] In the United Kingdom this process took longer than elsewhere. Composition continued to be the dominant classical skill in England until the 1870s, when new areas within the discipline began to increase in popularity.[18] In the same decade came the first challenges to the requirement of Greek at the universities of Oxford and Cambridge, though it would not be finally abolished for another 50 years.[19]\\n\\nThough the influence of classics as the dominant mode of education in Europe and North America was in decline in the 19th century, the discipline was rapidly evolving in the same period. Classical scholarship was becoming more systematic and scientific, especially with the \"new philology\" created at the end of the 18th and beginning of the 19th century.[20] Its scope was also broadening: it was during the 19th century that ancient history and classical archaeology began to be seen as part of classics, rather than separate disciplines.[18]\\n20th century to present\\n\\nDuring the 20th century, the study of classics became less common. In England, for instance, Oxford and Cambridge universities stopped requiring students to have qualifications in Greek in 1920,[19] and in Latin at the end of the 1950s.[21] When the National Curriculum was introduced in England, Wales, and Northern Ireland in 1988, it did not mention the classics.[21] By 2003, only about 10% of state schools in Britain offered any classical subjects to their students at all.[22] In 2016, AQA, the largest exam board for A-Levels and GCSE\\'s in England, Wales and Northern Ireland, announced that it would be scrapping A-Level subjects in Classical Civilization, Archaeology, and Art History.[23] This left just one out of five exam boards in England which still offered Classical Civilization as a subject. The decision was immediately denounced by archaeologists and historians, with Natalie Haynes of the Guardian stating that the loss of the A-Level would deprive state school students, 93% of all students, the opportunity to study classics while making it once again the exclusive purview of wealthy private-school students.[24]\\n\\nHowever, the study of classics has not declined as fast elsewhere in Europe. In 2009, a review of Meeting the Challenge, a collection of conference papers about the teaching of Latin in Europe, noted that though there is opposition to the teaching of Latin in Italy, it is nonetheless still compulsory in most secondary schools.[25] The same can be said in the case of France or Greece, too. Indeed, Ancient Greek is one of the compulsory subjects in Greek secondary education, whereas in France, Latin is one of the optional subjects that can be chosen in a majority of middle schools and high schools. Ancient Greek is also still being taught, but not as much as Latin.\\nSub-disciplines\\n\\nOne of the most notable characteristics of the modern study of classics is the diversity of the field. Although traditionally focused on ancient Greece and Rome, the study now encompasses the entire ancient Mediterranean world, thus expanding the studies to Northern Africa as well as parts of the Middle East.[citation needed]\\nPhilology\\nFurther information: Philology\\nFor the journal, see Classical Philology (journal).\\nBlack-and-white image of Friedrich August Wolf in profile\\nThe eighteenth-century classicist Friedrich August Wolf was the author of Prolegomena to Homer, one of the first great works of classical philology.\\n\\nPhilology is the study of language preserved in written sources; classical philology is thus concerned with understanding any texts from the classical period written in the classical languages of Latin and Greek.[26] The roots of classical philology lie in the Renaissance, as humanist intellectuals attempted to return to the Latin of the classical period, especially of Cicero,[27] and as scholars attempted to produce more accurate editions of ancient texts.[28] Some of the principles of philology still used today were developed during this period, for instance, the observation that if a manuscript could be shown to be a copy of an earlier extant manuscript, then it provides no further evidence of the original text, was made as early as 1489 by Angelo Poliziano.[29] Other philological tools took longer to be developed: the first statement, for instance, of the principle that a more difficult reading should be preferred over a simpler one, was in 1697 by Jean Le Clerc.[30]\\n\\nThe modern discipline of classical philology began in Germany at the turn of the nineteenth century.[20] It was during this period that scientific principles of philology began to be put together into a coherent whole,[31] in order to provide a set of rules by which scholars could determine which manuscripts were most accurate.[32] This \"new philology\", as it was known, centred around the construction of a genealogy of manuscripts, with which a hypothetical common ancestor, closer to the original text than any existing manuscript, could be reconstructed.[33]\\nArchaeology\\nMain article: Classical archaeology\\nBlack and white photograph of the Lion Gate at Mycenae.\\nSchliemann and Dörpfeld\\'s excavation at Mycenae was one of the earliest excavations in the field of classical archaeology.\\n\\nClassical archaeology is the oldest branch of archaeology,[34] with its roots going back to J.J. Winckelmann\\'s work on Herculaneum in the 1760s.[35] It was not until the last decades of the 19th century, however, that classical archaeology became part of the tradition of Western classical scholarship.[35] It was included as part of Cambridge University\\'s Classical Tripos for the first time after the reforms of the 1880s, though it did not become part of Oxford\\'s Greats until much later.[19]\\n\\nThe second half of the 19th century saw Schliemann\\'s excavations of Troy and Mycenae; the first excavations at Olympia and Delos; and Arthur Evans\\' work in Crete, particularly on Knossos.[36] This period also saw the foundation of important archaeological associations (e.g. the Archaeological Institute of America in 1879),[37] including many foreign archaeological institutes in Athens and Rome (the American School of Classical Studies at Athens in 1881, British School at Athens in 1886, American Academy in Rome in 1895, and British School at Rome in 1900).[38]\\n\\nMore recently, classical archaeology has taken little part in the theoretical changes in the rest of the discipline,[39] largely ignoring the popularity of \"New Archaeology\", which emphasised the development of general laws derived from studying material culture, in the 1960s.[40] New Archaeology is still criticized by traditional minded scholars of classical archaeology despite a wide acceptance of its basic techniques.[41]\\nArt history\\nMain article: Art history\\n\\nSome art historians focus their study on the development of art in the classical world. Indeed, the art and architecture of Ancient Rome and Greece is very well regarded and remains at the heart of much of our art today. For example, Ancient Greek architecture gave us the Classical Orders: Doric, Ionic, and Corinthian. The Parthenon is still the architectural symbol of the classical world.\\n\\nGreek sculpture is well known and we know the names of several Ancient Greek artists: for example, Phidias.\\nAncient history\\n\\nWith philology, archaeology, and art history, scholars seek understanding of the history and culture of a civilisation, through critical study of the extant literary and physical artefacts, in order to compose and establish a continual historic narrative of the Ancient World and its peoples. The task is difficult due to a dearth of physical evidence: for example, Sparta was a leading Greek city-state, yet little evidence of it survives to study, and what is available comes from Athens, Sparta\\'s principal rival; likewise, the Roman Empire destroyed most evidence (cultural artefacts) of earlier, conquered civilizations, such as that of the Etruscans.\\nPhilosophy\\nMain article: Ancient philosophy\\n\\nThe English word \"philosophy\" comes from the Greek word φιλοσοφία, meaning \"love of wisdom\", probably coined by Pythagoras. Along with the word itself, the discipline of philosophy as we know it today has its roots in ancient Greek thought, and according to Martin West \"philosophy as we understand it is a Greek creation\".[42] Ancient philosophy was traditionally divided into three branches: logic, physics, and ethics.[43] However, not all of the works of ancient philosophers fit neatly into one of these three branches. For instance, Aristotle\\'s Rhetoric and Poetics have been traditionally classified in the West as \"ethics\", but in the Arabic world were grouped with logic; in reality, they do not fit neatly into either category.[43]\\n\\nFrom the last decade of the eighteenth century, scholars of ancient philosophy began to study the discipline historically.[44] Previously, works on ancient philosophy had been unconcerned with chronological sequence and with reconstructing the reasoning of ancient thinkers; with what Wolfgang-Ranier Mann calls \"New Philosophy\", this changed.[45]\\nReception studies\\nMain article: Classical reception studies\\n\\nA relatively recent new discipline within the classics is \"reception studies\",[46] which developed in the 1960s at the University of Konstanz.[47] Reception studies is concerned with how students of classical texts have understood and interpreted them.[47] As such, reception studies is interested in a two-way interaction between reader and text,[48] taking place within a historical context.[49]\\n\\nThough the idea of an \"aesthetics of reception\" was first put forward by Hans Robert Jauss in 1967, the principles of reception theory go back much earlier than this.[48] As early as 1920, T. S. Eliot wrote that \"the past [is] altered by the present as much as the present is directed by the past\";[50] Charles Martindale describes this as a \"cardinal principle\" for many versions of modern reception theory.[48]\\nClassical Greece\\nMain articles: Ancient Greece, Outline of ancient Greece, and Timeline of ancient Greece\\n\\nAncient Greece was the civilization belonging to the period of Greek history lasting from the Archaic period, beginning in the eighth century BC, to the Roman conquest of Greece after the Battle of Corinth in 146 BC. The Classical period, during the fifth and fourth centuries BC, has traditionally been considered the height of Greek civilisation.[51] The Classical period of Greek history is generally considered to have begun with the first and second Persian invasions of Greece at the start of the Greco-Persian wars,[52] and to have ended with the death of Alexander the Great.\\n\\nClassical Greek culture had a powerful influence on the Roman Empire, which carried a version of it to many parts of the Mediterranean region and Europe; thus Classical Greece is generally considered to be the seminal culture which provided the foundation of Western civilization.\\nLanguage\\nMap showing the regional dialects of Greek during the Classical period\\nMain articles: Ancient Greek, Mycenaean Greek language, and Koine Greek\\n\\nAncient Greek is the historical stage in the development of the Greek language spanning the Archaic (c. 8th to 6th centuries BC), Classical (c. 5th to 4th centuries BC), and Hellenistic (c. 3rd century BC to 6th century AD) periods of ancient Greece and the ancient world. It is predated in the 2nd millennium BC by Mycenaean Greek. Its Hellenistic phase is known as Koine (\"common\") or Biblical Greek, and its late period mutates imperceptibly into Medieval Greek. Koine is regarded as a separate historical stage of its own, although in its earlier form it closely resembles Classical Greek. Prior to the Koine period, Greek of the classical and earlier periods included several regional dialects.\\n\\nAncient Greek was the language of Homer and of classical Athenian historians, playwrights, and philosophers. It has contributed many words to the vocabulary of English and many other European languages, and has been a standard subject of study in Western educational institutions since the Renaissance. Latinized forms of Ancient Greek roots are used in many of the scientific names of species and in other scientific terminology.\\nLiterature\\nMain article: Ancient Greek literature\\n\\nThe earliest surviving works of Greek literature are epic poetry. Homer\\'s Iliad and Odyssey are the earliest to survive to us today, probably composed in the eighth century BC.[53] These early epics were oral compositions, created without the use of writing.[54] Around the same time that the Homeric epics were composed, the Greek alphabet was introduced; the earliest surviving inscriptions date from around 750 BC.[55]\\n\\nEuropean drama was invented in ancient Greece. Traditionally this was attributed to Thespis, around the middle of the sixth century BC,[56] though the earliest surviving work of Greek drama is Aeschylus\\' tragedy The Persians, which dates to 472 BC.[57] Early Greek tragedy was performed by a chorus and two actors, but by the end of Aeschylus\\' life, a third actor had been introduced, either by him or by Sophocles.[57] The last surviving Greek tragedies are the Bacchae of Euripides and Sophocles\\' Oedipus at Colonus, both from the end of the fifth century BC.[58]\\n\\nSurviving Greek comedy begins later than tragedy; the earliest surviving work, Aristophanes\\' Acharnians, comes from 425 BC.[59] However, comedy dates back as early as 486 BC, when the Dionysia added a competition for comedy to the much earlier competition for tragedy.[59] The comedy of the fifth century is known as Old Comedy, and it comes down to us solely in the eleven surviving plays of Aristophanes, along with a few fragments.[59] Sixty years after the end of Aristophanes\\' career, the next author of comedies to have any substantial body of work survive is Menander, whose style is known as New Comedy.[60]\\n\\nTwo historians flourished during Greece\\'s classical age: Herodotus and Thucydides. Herodotus is commonly called the father of history, and his \"History\" contains the first truly literary use of prose in Western literature. Of the two, Thucydides was the more careful historian. His critical use of sources, inclusion of documents, and laborious research made his History of the Peloponnesian War a significant influence on later generations of historians. The greatest achievement of the 4th century was in philosophy. There were many Greek philosophers, but three names tower above the rest: Socrates, Plato, and Aristotle. These have had a profound influence on Western society.\\nMythology and religion\\nMain articles: Greek mythology and Religion in Ancient Greece\\n\\nGreek mythology is the body of myths and legends belonging to the ancient Greeks concerning their gods and heroes, the nature of the world, and the origins and significance of their own cult and ritual practices. They were a part of religion in ancient Greece. Modern scholars refer to the myths and study them in an attempt to throw light on the religious and political institutions of Ancient Greece and its civilization, and to gain understanding of the nature of myth-making itself.\\n\\nGreek religion encompassed the collection of beliefs and rituals practiced in ancient Greece in the form of both popular public religion and cult practices. These different groups varied enough for it to be possible to speak of Greek religions or \"cults\" in the plural, though most of them shared similarities. Also, the Greek religion extended out of Greece and out to neighbouring islands.\\n\\nMany Greek people recognized the major gods and goddesses: Zeus, Poseidon, Hades, Apollo, Artemis, Aphrodite, Ares, Dionysus, Hephaestus, Athena, Hermes, Demeter, Hestia and Hera; though philosophies such as Stoicism and some forms of Platonism used language that seems to posit a transcendent single deity. Different cities often worshipped the same deities, sometimes with epithets that distinguished them and specified their local nature.\\nPhilosophy\\nMain article: Ancient Greek philosophy\\nA bust of Socrates\\nSo influential was Socrates to classical philosophy that earlier philosophers are today known as pre-Socratics.\\n\\nThe earliest surviving philosophy from ancient Greece dates back to the 6th century BC, when according to Aristotle Thales of Miletus was considered to have been the first Greek philosopher.[61] Other influential pre-Socratic philosophers include Pythagoras and Heraclitus. The most famous and significant figures in classical Athenian philosophy, from the 5th to the 3rd centuries BC, are Socrates, his student Plato, and Aristotle, who studied at Plato\\'s Academy before founding his own school, known as the Lyceum. Later Greek schools of philosophy, including the Cynics, Stoics, and Epicureans, continued to be influential after the Roman annexation of Greece, and into the post-Classical world.\\n\\nGreek philosophy dealt with a wide variety of subjects, including political philosophy, ethics, metaphysics, ontology, and logic, as well as disciplines which are not today thought of as part of philosophy, such as biology and rhetoric.\\nClassical Rome\\nMain articles: Ancient Rome and Culture of Ancient Rome\\nLanguage\\nMain article: Latin\\nPhotograph of a gold brooch\\nThe Praeneste fibula is believed to bear the oldest known Latin inscription. The inscription means \"Manius made me for Numerius\".\\n\\nThe language of ancient Rome was Latin, a member of the Italic family of languages. The earliest surviving inscription in Latin comes from the 7th century BC, on a brooch from Palestrina. Latin from between this point and the early 1st century BC is known as Old Latin. Most surviving Latin literature is Classical Latin, from the 1st century BC to the 2nd century AD. Latin then evolved into Late Latin, in use during the late antique period. Late Latin survived long after the end of classical antiquity, and was finally replaced by written Romance languages around the 9th century AD. Along with literary forms of Latin, there existed various vernacular dialects, generally known as Vulgar Latin, in use throughout antiquity. These are mainly preserved in sources such as graffiti and the Vindolanda tablets.\\nLiterature\\nMain article: Latin literature\\n\\nLatin literature seems to have started in 240 BC, when a Roman audience saw a play adapted from the Greek by Livius Andronicus. Andronicus also translated Homer\\'s Odyssey into an Saturnian verse. The poets Ennius, Accius, and Patruvius followed. Their work survives only in fragments; the earliest Latin authors whose work we have full examples of are the playwrights Plautus and Terence. Much of the best known and most highly thought of Latin literature comes from the classical period, with poets such as Virgil, Horace, and Ovid; historians such as Julius Caesar and Tacitus; orators such as Cicero; and philosophers such as Seneca the Younger and Lucretius. Late Latin authors include many Christian writers such as Lactantius, Tertullian and Ambrose; non-Christian authors, such as the historian Ammianus Marcellinus, are also preserved.\\nHistory\\nMain article: Timeline of ancient Rome\\n\\nAccording to legend, the city of Rome was founded in 753 BC;[62] in reality, there had been a settlement on the site since around 1000 BC, when the Palatine Hill was settled.[63] The city was originally ruled by kings, first Roman, and then Etruscan – according to Roman tradition, the first Etruscan king of Rome, Tarquinius Priscus, ruled from 616 BC.[64] Over the course of the 6th century BC, the city expanded its influence over the entirety of Latium.[65] Around the end of the 6th century – traditionally in 510 BC – the kings of Rome were driven out, and the city became a republic.[66]\\n\\nAround 387 BC, Rome was sacked by the Gauls following the Battle of the Allia.[67] It soon recovered from this humiliating defeat, however, and in 381 the inhabitants of Tusculum in Latium were made Roman citizens. This was the first time Roman citizenship was extended in this way.[68] Rome went on to expand its area of influence, until by 269 the entirety of the Italian peninsula was under Roman rule.[69] Soon afterwards, in 264, the First Punic War began; it lasted until 241.[70] The Second Punic War began in 218, and by the end of that year, the Carthaginian general Hannibal had invaded Italy.[71] The war saw Rome\\'s worst defeat to that point at Cannae; the largest army Rome had yet put into the field was wiped out, and one of the two consuls leading it was killed.[72] However, Rome continued to fight, annexing much of Spain[73] and eventually defeating Carthage, ending her position as a major power and securing Roman preeminence in the Western Mediterranean.[74]\\nLegacy of the classical world\\n\\nThe classical languages of the Ancient Mediterranean world influenced every European language, imparting to each a learned vocabulary of international application. Thus, Latin grew from a highly developed cultural product of the Golden and Silver eras of Latin literature to become the international lingua franca in matters diplomatic, scientific, philosophic and religious, until the 17th century. Long before this, Latin had evolved into the Romance languages and Ancient Greek into Modern Greek and its dialects. In the specialised science and technology vocabularies, the influence of Latin and Greek is notable. Ecclesiastical Latin, the Roman Catholic Church\\'s official language, remains a living legacy of the classical world in the contemporary world.\\n\\nLatin had an impact far beyond the classical world. It continued to be the pre-eminent language for serious writings in Europe long after the fall of the Roman empire.[75] The modern Romance languages – such as French, Spanish, and Italian – all derive from Latin.[76] Latin is still seen as a foundational aspect of European culture.[77]\\n\\nThe legacy of the classical world is not confined to the influence of classical languages. The Roman empire was taken as a model by later European empires, such as the Spanish and British empires.[78] Classical art has been taken as a model in later periods – medieval Romanesque architecture[79] and Enlightenment-era neoclassical literature[11] were both influenced by classical models, to take but two examples, while Joyce\\'s Ulysses is one of the most influential works of twentieth century literature.[80]', 'content_type': 'text', 'score': None, 'meta': {'name': 'classics.txt'}, 'embedding': None, 'id': 'b23943a6251bceabcbc409095d86ec23'}>,\n",
              " <Document: {'content': 'Heavy metal\\n\\nHeavy metal (or simply metal) is a genre of [3][4] that developed in the late 1960s and early 1970s, largely in the United Kingdom and the United States.[5] With roots in , , and ,[6] heavy metal bands developed a thick, massive sound, characterized by , extended , emphatic beats, and loudness. The lyrics and performances are sometimes associated with  and .[6] \\nIn 1968, three of the genre\\'s most famous pioneers, ,  and , were founded.[7] Though they came to attract wide audiences, they were often derided by critics. Several American bands modified heavy metal into more accessible forms during the 1970s: the raw, sleazy sound and  of  and ; the blues-rooted rock of ; and the flashy guitar leads and wild party rock of .[8] During the mid-1970s,  helped spur the genre\\'s evolution by discarding much of its  influence,[9][10] while  introduced a  sensibility and an increasing emphasis on speed. Beginning in the late 1970s, bands in the  such as  and  followed in a similar vein. By the end of the decade, heavy metal fans became known as \"\" or \"\". \\nDuring the 1980s,  became popular with groups such as  and .  produced an array of more aggressive styles:  broke into the mainstream with bands such as , , , and , while other  such as  and  remain  phenomena. Since the mid-1990s, popular styles have expanded the definition of the genre. These include  and , the latter of which often incorporates elements of  and . \\n\\n\\n\\n\\nNow we are in Page 2\\n\\n\\n\\n\\nPage 3 was empty this is page 4', 'content_type': 'text', 'score': None, 'meta': {'name': 'heavy_metal.docx'}, 'embedding': None, 'id': 'd0e87ab57f52bbeb16f5e7bdf39cadfd'}>]"
            ]
          },
          "metadata": {},
          "execution_count": 8
        }
      ]
    },
    {
      "cell_type": "markdown",
      "source": [
        "## PreProcessor\n",
        "\n",
        "* The **PreProcessor** class is designed to help you **clean text and split text** into sensible units.\n",
        "* **File splitting** can have a very significant impact on the system's performance and is absolutely **mandatory for Dense Passage Retrieval** models.\n",
        "* In general, we recommend **you split the text from your files** into **small documents of around 100 words for dense retrieval methods**\n",
        "and **no more than 10,000 words for sparse methods**.\n",
        "\n",
        "* Have a look at the [Preprocessing](https://docs.haystack.deepset.ai/docs/preprocessor)\n",
        "and [Optimization](https://docs.haystack.deepset.ai/docs/optimization) pages on our website for more details."
      ],
      "metadata": {
        "id": "F6AdtB9IK03i"
      }
    },
    {
      "cell_type": "code",
      "source": [
        "from haystack.nodes import PreProcessor\n",
        "\n",
        "\n",
        "# This is a default usage of the PreProcessor.\n",
        "# Here, it performs cleaning of consecutive whitespaces\n",
        "# and splits a single large document into smaller documents.\n",
        "# Each document is up to 1000 words long and document breaks cannot fall in the middle of sentences\n",
        "# Note how the single document passed into the document gets split into 5 smaller documents\n",
        "\n",
        "preprocessor = PreProcessor(\n",
        "    clean_empty_lines=True,\n",
        "    clean_whitespace=True,\n",
        "    clean_header_footer=False,\n",
        "    split_by=\"word\",\n",
        "    split_length=100,\n",
        "    split_respect_sentence_boundary=True,\n",
        ")\n",
        "docs_default = preprocessor.process([doc_txt])\n",
        "print(f\"n_docs_input: 1\\nn_docs_output: {len(docs_default)}\")"
      ],
      "metadata": {
        "colab": {
          "base_uri": "https://localhost:8080/",
          "height": 118,
          "referenced_widgets": [
            "2636d9790726447495ed34e8a6e24322",
            "a246e5587f1948008db5df56397001f9",
            "ee4d3f1b99b846daac5a702e2516393e",
            "92ecb636c43040dc941ee83c11094141",
            "2bfdaa863f62472c92a1ec2ce2ee0be2",
            "65f85f97520a4563bb08a2819d0eee8d",
            "0bb0c012770e40e489602064361b18a7",
            "a449a85ae8084a41b99f4c78322e990f",
            "62de9d48209a41419036fa8f3ce40d74",
            "2feda16cb46443ee9e62b5e8d87cdf9f",
            "1380a168887948e1b955a364687d3ee8"
          ]
        },
        "id": "7DkxP4bvKkNs",
        "outputId": "df555c8b-ca5b-4716-ffbc-6c8ab922debc"
      },
      "execution_count": 9,
      "outputs": [
        {
          "output_type": "stream",
          "name": "stderr",
          "text": [
            "[nltk_data] Downloading package punkt to /root/nltk_data...\n",
            "[nltk_data]   Unzipping tokenizers/punkt.zip.\n"
          ]
        },
        {
          "output_type": "display_data",
          "data": {
            "text/plain": [
              "Preprocessing:   0%|          | 0/1 [00:00<?, ?docs/s]"
            ],
            "application/vnd.jupyter.widget-view+json": {
              "version_major": 2,
              "version_minor": 0,
              "model_id": "2636d9790726447495ed34e8a6e24322"
            }
          },
          "metadata": {}
        },
        {
          "output_type": "stream",
          "name": "stdout",
          "text": [
            "n_docs_input: 1\n",
            "n_docs_output: 51\n"
          ]
        }
      ]
    },
    {
      "cell_type": "markdown",
      "source": [
        "## Cleaning\n",
        "\n",
        "- `clean_empty_lines` will normalize 3 or more consecutive empty lines to be just a two empty lines\n",
        "- `clean_whitespace` will remove any whitespace at the beginning or end of each line in the text\n",
        "- `clean_header_footer` will remove any long header or footer texts that are repeated on each page"
      ],
      "metadata": {
        "id": "_Iie_5x6MpPY"
      }
    },
    {
      "cell_type": "markdown",
      "source": [
        "## Splitting\n",
        "By default, the PreProcessor will respect sentence boundaries, meaning that documents will not start or end\n",
        "midway through a sentence.\n",
        "This will help reduce the possibility of answer phrases being split between two documents.\n",
        "This feature can be turned off by setting `split_respect_sentence_boundary=False`."
      ],
      "metadata": {
        "id": "n1KBrvqVPaKM"
      }
    },
    {
      "cell_type": "code",
      "source": [
        "# Not respecting sentence boundary vs respecting sentence boundary\n",
        "\n",
        "preprocessor_nrsb = PreProcessor(split_respect_sentence_boundary=False)\n",
        "docs_nrsb = preprocessor_nrsb.process([doc_txt])\n",
        "\n",
        "print(\"RESPECTING SENTENCE BOUNDARY\")\n",
        "end_text = docs_default[0].content[-50:]\n",
        "print('End of document: \"...' + end_text + '\"')\n",
        "print()\n",
        "print(\"NOT RESPECTING SENTENCE BOUNDARY\")\n",
        "end_text_nrsb = docs_nrsb[0].content[-50:]\n",
        "print('End of document: \"...' + end_text_nrsb + '\"')"
      ],
      "metadata": {
        "colab": {
          "base_uri": "https://localhost:8080/",
          "height": 170,
          "referenced_widgets": [
            "60d091d929284c46bf549bd584bd0b04",
            "a324c3435cf1410ab6da740a89bc7459",
            "d52c9589725f498cb9546661668845b1",
            "63c4277592ec416d9627f5037221facf",
            "fffd3f35dd4d4df1abd45de55be31ce5",
            "c042a1886b0b4cafa4d5067af3636b34",
            "abf1059b857941af8d893917949ff91a",
            "917a801457ed4c48bcf58cb8bc1c5e67",
            "945dacdabb7a46e4bb5f42408e56de8a",
            "3f3b8fc451b54172b6aae11d6e5ac422",
            "c6b05c07d07246a2a609bbaf2dd30f95"
          ]
        },
        "id": "4-oEmqooMmjE",
        "outputId": "63af363b-015b-4a70-d324-555d48b66aea"
      },
      "execution_count": 10,
      "outputs": [
        {
          "output_type": "display_data",
          "data": {
            "text/plain": [
              "Preprocessing:   0%|          | 0/1 [00:00<?, ?docs/s]"
            ],
            "application/vnd.jupyter.widget-view+json": {
              "version_major": 2,
              "version_minor": 0,
              "model_id": "60d091d929284c46bf549bd584bd0b04"
            }
          },
          "metadata": {}
        },
        {
          "output_type": "stream",
          "name": "stdout",
          "text": [
            "RESPECTING SENTENCE BOUNDARY\n",
            "End of document: \"...rnerstone of a typical elite European education.\n",
            "\n",
            "\"\n",
            "\n",
            "NOT RESPECTING SENTENCE BOUNDARY\n",
            "End of document: \"...xts used as part of a curriculum, both derive from\"\n"
          ]
        }
      ]
    },
    {
      "cell_type": "markdown",
      "source": [
        "A commonly used strategy to split long documents, especially in the field of Question Answering,\n",
        "is the sliding window approach. If `split_length=10` and `split_overlap=3`, your documents will look like this:\n",
        "\n",
        "- doc1 = words[0:10]\n",
        "- doc2 = words[7:17]\n",
        "- doc3 = words[14:24]\n",
        "- ...\n",
        "\n",
        "You can use this strategy by following the code below."
      ],
      "metadata": {
        "id": "T6HpRu84oJhg"
      }
    },
    {
      "cell_type": "code",
      "source": [
        "# Sliding window approach\n",
        "\n",
        "preprocessor_sliding_window = PreProcessor(split_overlap=3, split_length=10, split_respect_sentence_boundary=False)\n",
        "docs_sliding_window = preprocessor_sliding_window.process([doc_txt])\n",
        "\n",
        "doc1 = docs_sliding_window[0].content[:200]\n",
        "doc2 = docs_sliding_window[1].content[:100]\n",
        "doc3 = docs_sliding_window[2].content[:100]\n",
        "\n",
        "print('Document 1: \"' + doc1 + '...\"')\n",
        "print('Document 2: \"' + doc2 + '...\"')\n",
        "print('Document 3: \"' + doc3 + '...\"')"
      ],
      "metadata": {
        "colab": {
          "base_uri": "https://localhost:8080/",
          "height": 101,
          "referenced_widgets": [
            "c510a6bedb814e518e5add0a10e50525",
            "f0e5377d723d4092816c487097b76f7b",
            "f2e8cc5becd849a18e0a2f00a2d7b31e",
            "56ecee518dc84b46aefc344da43e2ac3",
            "ad57211a32404c4c8318a568e88986b3",
            "6ff6c42824064144a63c0eb4ae7dd1f4",
            "b11b7f9008ff401eaa778ff8d75f7df2",
            "27ebed3c41744999a216d5bab99f82fd",
            "75b796a8b824484bb81c00410f383370",
            "7ad6f41112b8405b8caf43707921c899",
            "34259bee0e924f9cb7ababd0bdc861a2"
          ]
        },
        "id": "HVYGzTIBoKRK",
        "outputId": "3d2308bd-a833-4ec6-c9b0-76e86c1998fe"
      },
      "execution_count": 11,
      "outputs": [
        {
          "output_type": "display_data",
          "data": {
            "text/plain": [
              "Preprocessing:   0%|          | 0/1 [00:00<?, ?docs/s]"
            ],
            "application/vnd.jupyter.widget-view+json": {
              "version_major": 2,
              "version_minor": 0,
              "model_id": "c510a6bedb814e518e5add0a10e50525"
            }
          },
          "metadata": {}
        },
        {
          "output_type": "stream",
          "name": "stdout",
          "text": [
            "Document 1: \"Classics or classical studies is the study of classical antiquity,...\"\n",
            "Document 2: \"of classical antiquity, and in the Western world traditionally refers...\"\n",
            "Document 3: \"world traditionally refers to the study of Classical Greek and...\"\n"
          ]
        }
      ]
    },
    {
      "cell_type": "markdown",
      "source": [
        "## Bringing it all together"
      ],
      "metadata": {
        "id": "JL2a3Z_FrIJn"
      }
    },
    {
      "cell_type": "code",
      "source": [
        "# convert_files_to_docs automatically applies the right converter to each file in a directory\n",
        "all_docs = convert_files_to_docs(dir_path=doc_dir)\n",
        "#  PreProcessor class is designed to help clean text and split text \n",
        "preprocessor = PreProcessor(\n",
        "    clean_empty_lines=True,\n",
        "    clean_whitespace=True,\n",
        "    clean_header_footer=False,\n",
        "    split_by=\"word\",\n",
        "    split_length=100,\n",
        "    split_respect_sentence_boundary=True,\n",
        ")\n",
        "docs = preprocessor.process(all_docs)\n",
        "\n",
        "print(f\"n_files_input: {len(all_docs)}\\nn_docs_output: {len(docs)}\")"
      ],
      "metadata": {
        "colab": {
          "base_uri": "https://localhost:8080/",
          "height": 153,
          "referenced_widgets": [
            "0c2121cecdf7485ebd951c444f4cb0b5",
            "c7e8b9facc964eebb66b28db95d152cc",
            "76d11c4ac79649e6830ab849924527c6",
            "c413924fc1aa480fadbd623f88a7a3dd",
            "4be1161c910341c8b9516c52411f7e19",
            "237e4a63cf554372a35669f5aa770a47",
            "7dfcde8f135d4abaa08cd9c94c01e9bf",
            "db986f57e6d845a3b622d09fb06c6f3d",
            "03f3368cbe384562a84598009c28f9f6",
            "46127668a81d4d69b880ef7387ef7d3a",
            "32ab2f73d88b4d85b182d379941edab4"
          ]
        },
        "id": "VwGIuKYBrwUj",
        "outputId": "a8c9fb29-bd8a-450f-947e-1ca8c7c6ff7f"
      },
      "execution_count": 12,
      "outputs": [
        {
          "output_type": "stream",
          "name": "stderr",
          "text": [
            "INFO:haystack.utils.preprocessing:Converting data/tutorial8/bert.pdf\n",
            "INFO:haystack.utils.preprocessing:Converting data/tutorial8/classics.txt\n",
            "INFO:haystack.utils.preprocessing:Converting data/tutorial8/heavy_metal.docx\n"
          ]
        },
        {
          "output_type": "display_data",
          "data": {
            "text/plain": [
              "Preprocessing:   0%|          | 0/3 [00:00<?, ?docs/s]"
            ],
            "application/vnd.jupyter.widget-view+json": {
              "version_major": 2,
              "version_minor": 0,
              "model_id": "0c2121cecdf7485ebd951c444f4cb0b5"
            }
          },
          "metadata": {}
        },
        {
          "output_type": "stream",
          "name": "stderr",
          "text": [
            "WARNING:haystack.nodes.preprocessor.preprocessor:We found one or more sentences whose word count is higher than the split length.\n"
          ]
        },
        {
          "output_type": "stream",
          "name": "stdout",
          "text": [
            "n_files_input: 3\n",
            "n_docs_output: 177\n"
          ]
        }
      ]
    },
    {
      "cell_type": "code",
      "source": [
        "docs"
      ],
      "metadata": {
        "colab": {
          "base_uri": "https://localhost:8080/"
        },
        "id": "7UP3aLeOr0k5",
        "outputId": "79d23a42-b86a-45e0-b419-6e42b24b0b33"
      },
      "execution_count": 13,
      "outputs": [
        {
          "output_type": "execute_result",
          "data": {
            "text/plain": [
              "[<Document: {'content': 'BERT: Pre-training of Deep Bidirectional Transformers for\\nLanguage Understanding\\nJacob Devlin Ming-Wei Chang Kenton Lee Kristina Toutanova\\nGoogle AI Language\\n{jacobdevlin,mingweichang,kentonl,kristout}@google.com\\nAbstract\\nWe introduce a new language representa-\\ntion model called BERT, which stands for\\nBidirectional Encoder Representations from\\nTransformers. Unlike recent language repre-\\nsentation models (Peters et al., 2018a; Rad-\\nford et al., 2018), BERT is designed to pre-\\ntrain deep bidirectional representations from\\nunlabeled text by jointly conditioning on both\\nleft and right context in all layers. ', 'content_type': 'text', 'score': None, 'meta': {'name': 'bert.pdf', '_split_id': 0}, 'embedding': None, 'id': '1f6ca8a2bd6c9903813607120d8d48bc'}>,\n",
              " <Document: {'content': 'As a re-\\nsult, the pre-trained BERT model can be ﬁne-\\ntuned with just one additional output layer\\nto create state-of-the-art models for a wide\\nrange of tasks, such as question answering and\\nlanguage inference, without substantial task-\\nspeciﬁc architecture modiﬁcations.\\nBERT is conceptually simple and empirically\\npowerful. ', 'content_type': 'text', 'score': None, 'meta': {'name': 'bert.pdf', '_split_id': 1}, 'embedding': None, 'id': 'df3bdb14fb7dbc0d96f819ef053c649f'}>,\n",
              " <Document: {'content': 'It obtains new state-of-the-art re-\\nsults on eleven natural language processing\\ntasks, including pushing the GLUE score to\\n80.5% (7.7% point absolute improvement),\\nMultiNLI accuracy to 86.7% (4.6% absolute\\nimprovement), SQuAD v1.1 question answer-\\ning Test F1 to 93.2 (1.5 point absolute im-\\nprovement) and SQuAD v2.0 Test F1 to 83.1\\n(5.1 point absolute improvement).\\n1 Introduction\\nLanguage model pre-training has been shown to\\nbe effective for improving many natural language\\nprocessing tasks (Dai and Le, 2015; Peters et al.,\\n2018a; Radford et al., 2018; Howard and Ruder,\\n2018). ', 'content_type': 'text', 'score': None, 'meta': {'name': 'bert.pdf', '_split_id': 2}, 'embedding': None, 'id': '6677def4f8281d18f7717ca66dc1a4cd'}>,\n",
              " <Document: {'content': 'These include sentence-level tasks such as\\nnatural language inference (Bowman et al., 2015;\\nWilliams et al., 2018) and paraphrasing (Dolan\\nand Brockett, 2005), which aim to predict the re-\\nlationships between sentences by analyzing them\\nholistically, as well as token-level tasks such as\\nnamed entity recognition and question answering,\\nwhere models are required to produce ﬁne-grained\\noutput at the token level (Tjong Kim Sang and\\nDe Meulder, 2003; Rajpurkar et al., 2016).\\nThere are two existing strategies for apply-\\ning pre-trained language representations to down-\\nstream tasks: feature-based and ﬁne-tuning. ', 'content_type': 'text', 'score': None, 'meta': {'name': 'bert.pdf', '_split_id': 3}, 'embedding': None, 'id': '1ca8d997f10796c951ab1ab07393f64a'}>,\n",
              " <Document: {'content': 'The\\nfeature-based approach, such as ELMo (Peters\\net al., 2018a), uses task-speciﬁc architectures that\\ninclude the pre-trained representations as addi-\\ntional features. The ﬁne-tuning approach, such as\\nthe Generative Pre-trained Transformer (OpenAI\\nGPT) (Radford et al., 2018), introduces minimal\\ntask-speciﬁc parameters, and is trained on the\\ndownstream tasks by simply ﬁne-tuning all pre-\\ntrained parameters. The two approaches share the\\nsame objective function during pre-training, where\\nthey use unidirectional language models to learn\\ngeneral language representations.\\nWe argue that current techniques restrict the\\npower of the pre-trained representations, espe-\\ncially for the ﬁne-tuning approaches. ', 'content_type': 'text', 'score': None, 'meta': {'name': 'bert.pdf', '_split_id': 4}, 'embedding': None, 'id': 'ffcc8218f79d17d83b956127bce3ee94'}>,\n",
              " <Document: {'content': 'The ma-\\njor limitation is that standard language models are\\nunidirectional, and this limits the choice of archi-\\ntectures that can be used during pre-training. For\\nexample, in OpenAI GPT, the authors use a left-to-\\nright architecture, where every token can only at-\\ntend to previous tokens in the self-attention layers\\nof the Transformer (Vaswani et al., 2017). Such re-\\nstrictions are sub-optimal for sentence-level tasks,\\nand could be very harmful when applying ﬁne-\\ntuning based approaches to token-level tasks such\\nas question answering, where it is crucial to incor-\\nporate context from both directions.\\n', 'content_type': 'text', 'score': None, 'meta': {'name': 'bert.pdf', '_split_id': 5}, 'embedding': None, 'id': '1ce1d29f4e2f00e9379a58339492cc4f'}>,\n",
              " <Document: {'content': 'In this paper, we improve the ﬁne-tuning based\\napproaches by proposing BERT: Bidirectional\\nEncoder Representations from Transformers.\\nBERT alleviates the previously mentioned unidi-\\nrectionality constraint by using a “masked lan-\\nguage model” (MLM) pre-training objective, in-\\nspired by the Cloze task (Taylor, 1953). The\\nmasked language model randomly masks some of\\nthe tokens from the input, and the objective is to\\npredict the original vocabulary id of the masked\\narXiv:1810.04805v2 [cs.CL] 24 May 2019\\x0cword based only on its context. ', 'content_type': 'text', 'score': None, 'meta': {'name': 'bert.pdf', '_split_id': 6}, 'embedding': None, 'id': '5c63a05ba8a83a8fa85c60c3cae1c010'}>,\n",
              " <Document: {'content': 'Unlike left-to-\\nright language model pre-training, the MLM ob-\\njective enables the representation to fuse the left\\nand the right context, which allows us to pre-\\ntrain a deep bidirectional Transformer. In addi-\\ntion to the masked language model, we also use\\na “next sentence prediction” task that jointly pre-\\ntrains text-pair representations. The contributions\\nof our paper are as follows:\\n• We demonstrate the importance of bidirectional\\npre-training for language representations. Un-\\nlike Radford et al. (2018), which uses unidirec-\\ntional language models for pre-training, BERT\\nuses masked language models to enable pre-\\ntrained deep bidirectional representations. ', 'content_type': 'text', 'score': None, 'meta': {'name': 'bert.pdf', '_split_id': 7}, 'embedding': None, 'id': 'b8e79adeee278f6a803a8eff0e1bdd9b'}>,\n",
              " <Document: {'content': 'This\\nis also in contrast to Peters et al. (2018a), which\\nuses a shallow concatenation of independently\\ntrained left-to-right and right-to-left LMs.\\n• We show that pre-trained representations reduce\\nthe need for many heavily-engineered task-\\nspeciﬁc architectures. BERT is the ﬁrst ﬁne-\\ntuning based representation model that achieves\\nstate-of-the-art performance on a large suite\\nof sentence-level and token-level tasks, outper-\\nforming many task-speciﬁc architectures.\\n• BERT advances the state of the art for eleven\\nNLP tasks. The code and pre-trained mod-\\nels are available at https://github.com/\\ngoogle-research/bert.\\n', 'content_type': 'text', 'score': None, 'meta': {'name': 'bert.pdf', '_split_id': 8}, 'embedding': None, 'id': '28236b34b509d97a9003d6f5110c145f'}>,\n",
              " <Document: {'content': '2 Related Work\\nThere is a long history of pre-training general lan-\\nguage representations, and we brieﬂy review the\\nmost widely-used approaches in this section.\\n2.1 Unsupervised Feature-based Approaches\\nLearning widely applicable representations of\\nwords has been an active area of research for\\ndecades, including non-neural (Brown et al., 1992;\\nAndo and Zhang, 2005; Blitzer et al., 2006) and\\nneural (Mikolov et al., 2013; Pennington et al.,\\n2014) methods. Pre-trained word embeddings\\nare an integral part of modern NLP systems, of-\\nfering signiﬁcant improvements over embeddings\\nlearned from scratch (Turian et al., 2010). ', 'content_type': 'text', 'score': None, 'meta': {'name': 'bert.pdf', '_split_id': 9}, 'embedding': None, 'id': 'c943f429cea84931b5daa1057c071372'}>,\n",
              " <Document: {'content': 'To pre-\\ntrain word embedding vectors, left-to-right lan-\\nguage modeling objectives have been used (Mnih\\nand Hinton, 2009), as well as objectives to dis-\\ncriminate correct from incorrect words in left and\\nright context (Mikolov et al., 2013).\\nThese approaches have been generalized to\\ncoarser granularities, such as sentence embed-\\ndings (Kiros et al., 2015; Logeswaran and Lee,\\n2018) or paragraph embeddings (Le and Mikolov,\\n2014). To train sentence representations, prior\\nwork has used objectives to rank candidate next\\nsentences (Jernite et al.', 'content_type': 'text', 'score': None, 'meta': {'name': 'bert.pdf', '_split_id': 10}, 'embedding': None, 'id': 'a02b0751f5f938dc7885b3fe9ec694a7'}>,\n",
              " <Document: {'content': ', 2017; Logeswaran and\\nLee, 2018), left-to-right generation of next sen-\\ntence words given a representation of the previous\\nsentence (Kiros et al., 2015), or denoising auto-\\nencoder derived objectives (Hill et al., 2016).\\nELMo and its predecessor (Peters et al., 2017,\\n2018a) generalize traditional word embedding re-\\nsearch along a different dimension. They extract\\ncontext-sensitive features from a left-to-right and a\\nright-to-left language model. The contextual rep-\\nresentation of each token is the concatenation of\\nthe left-to-right and right-to-left representations.\\n', 'content_type': 'text', 'score': None, 'meta': {'name': 'bert.pdf', '_split_id': 11}, 'embedding': None, 'id': '1e4b7f56ab5cad3af6654f76a138681b'}>,\n",
              " <Document: {'content': 'When integrating contextual word embeddings\\nwith existing task-speciﬁc architectures, ELMo\\nadvances the state of the art for several major NLP\\nbenchmarks (Peters et al., 2018a) including ques-\\ntion answering (Rajpurkar et al., 2016), sentiment\\nanalysis (Socher et al., 2013), and named entity\\nrecognition (Tjong Kim Sang and De Meulder,\\n2003). Melamud et al. (2016) proposed learning\\ncontextual representations through a task to pre-\\ndict a single word from both left and right context\\nusing LSTMs. Similar to ELMo, their model is\\nfeature-based and not deeply bidirectional. Fedus\\net al. ', 'content_type': 'text', 'score': None, 'meta': {'name': 'bert.pdf', '_split_id': 12}, 'embedding': None, 'id': '336ca4c945b14727210ec916b46b51b3'}>,\n",
              " <Document: {'content': '(2018) shows that the cloze task can be used\\nto improve the robustness of text generation mod-\\nels.\\n2.2 Unsupervised Fine-tuning Approaches\\nAs with the feature-based approaches, the ﬁrst\\nworks in this direction only pre-trained word em-\\nbedding parameters from unlabeled text (Col-\\nlobert and Weston, 2008).\\nMore recently, sentence or document encoders\\nwhich produce contextual token representations\\nhave been pre-trained from unlabeled text and\\nﬁne-tuned for a supervised downstream task (Dai\\nand Le, 2015; Howard and Ruder, 2018; Radford\\net al., 2018). The advantage of these approaches\\nis that few parameters need to be learned from\\nscratch. ', 'content_type': 'text', 'score': None, 'meta': {'name': 'bert.pdf', '_split_id': 13}, 'embedding': None, 'id': '1ba65b735ab1fca76d972b8386954fc4'}>,\n",
              " <Document: {'content': 'At least partly due to this advantage,\\nOpenAI GPT (Radford et al., 2018) achieved pre-\\nviously state-of-the-art results on many sentence-\\nlevel tasks from the GLUE benchmark (Wang\\net al., 2018a). ', 'content_type': 'text', 'score': None, 'meta': {'name': 'bert.pdf', '_split_id': 14}, 'embedding': None, 'id': '9b7c595552716175e0690c4d16bffc47'}>,\n",
              " <Document: {'content': 'Left-to-right language model-\\x0cBERT BERT\\nE\\n[CLS]\\nE\\n1\\nE\\n[SEP]\\n... E\\nN\\nE\\n1\\n’ ... E\\nM\\n’\\nC T\\n1\\nT\\n[SEP]\\n... T\\nN\\nT\\n1\\n’ ... T\\nM\\n’\\n[CLS] Tok 1 [SEP]\\n... Tok N Tok 1 ... TokM\\nQuestion Paragraph\\nStart/End Span\\nBERT\\nE\\n[CLS]\\nE\\n1\\nE\\n[SEP]\\n... E\\nN\\nE\\n1\\n’ ... E\\nM\\n’\\nC T\\n1\\nT\\n[SEP]\\n... T\\nN\\nT\\n1\\n’ ... T\\nM\\n’\\n[CLS] Tok 1 [SEP]\\n... Tok N Tok 1 ... TokM\\nMasked Sentence A Masked Sentence B\\nPre-training Fine-Tuning\\nNSP Mask LM Mask LM\\nUnlabeled Sentence A and B Pair\\nSQuAD\\nQuestion Answer Pair\\nNER\\nMNLI\\nFigure 1: Overall pre-training and ﬁne-tuning procedures for BERT. ', 'content_type': 'text', 'score': None, 'meta': {'name': 'bert.pdf', '_split_id': 15}, 'embedding': None, 'id': '4074e02d412d685fedb4b51190b0a39'}>,\n",
              " <Document: {'content': 'Apart from output layers, the same architec-\\ntures are used in both pre-training and ﬁne-tuning. The same pre-trained model parameters are used to initialize\\nmodels for different down-stream tasks. During ﬁne-tuning, all parameters are ﬁne-tuned. [CLS] is a special\\nsymbol added in front of every input example, and [SEP] is a special separator token (e.g. separating ques-\\ntions/answers).\\ning and auto-encoder objectives have been used\\nfor pre-training such models (Howard and Ruder,\\n2018; Radford et al.', 'content_type': 'text', 'score': None, 'meta': {'name': 'bert.pdf', '_split_id': 16}, 'embedding': None, 'id': '45b10bb4508ec9329bb676ba160093da'}>,\n",
              " <Document: {'content': ', 2018; Dai and Le, 2015).\\n2.3 Transfer Learning from Supervised Data\\nThere has also been work showing effective trans-\\nfer from supervised tasks with large datasets, such\\nas natural language inference (Conneau et al.,\\n2017) and machine translation (McCann et al.,\\n2017). Computer vision research has also demon-\\nstrated the importance of transfer learning from\\nlarge pre-trained models, where an effective recipe\\nis to ﬁne-tune models pre-trained with Ima-\\ngeNet (Deng et al., 2009; Yosinski et al., 2014).\\n3 BERT\\nWe introduce BERT and its detailed implementa-\\ntion in this section. ', 'content_type': 'text', 'score': None, 'meta': {'name': 'bert.pdf', '_split_id': 17}, 'embedding': None, 'id': '3db28eef217fb6dcde14e7b56bf8278f'}>,\n",
              " <Document: {'content': 'There are two steps in our\\nframework: pre-training and ﬁne-tuning. Dur-\\ning pre-training, the model is trained on unlabeled\\ndata over different pre-training tasks. For ﬁne-\\ntuning, the BERT model is ﬁrst initialized with\\nthe pre-trained parameters, and all of the param-\\neters are ﬁne-tuned using labeled data from the\\ndownstream tasks. Each downstream task has sep-\\narate ﬁne-tuned models, even though they are ini-\\ntialized with the same pre-trained parameters. The\\nquestion-answering example in Figure 1 will serve\\nas a running example for this section.\\nA distinctive feature of BERT is its uniﬁed ar-\\nchitecture across different tasks. ', 'content_type': 'text', 'score': None, 'meta': {'name': 'bert.pdf', '_split_id': 18}, 'embedding': None, 'id': 'daf7d146c892e1d34e1d51aff447de6'}>,\n",
              " <Document: {'content': 'There is mini-\\nmal difference between the pre-trained architec-\\nture and the ﬁnal downstream architecture.\\nModel Architecture BERT’s model architec-\\nture is a multi-layer bidirectional Transformer en-\\ncoder based on the original implementation de-\\nscribed in Vaswani et al. (2017) and released in\\nthe tensor2tensor library.1 Because the use\\nof Transformers has become common and our im-\\nplementation is almost identical to the original,\\nwe will omit an exhaustive background descrip-\\ntion of the model architecture and refer readers to\\nVaswani et al. ', 'content_type': 'text', 'score': None, 'meta': {'name': 'bert.pdf', '_split_id': 19}, 'embedding': None, 'id': '28e7319de8cf1c19cb53bc0efd135563'}>,\n",
              " <Document: {'content': '(2017) as well as excellent guides\\nsuch as “The Annotated Transformer.”2\\nIn this work, we denote the number of layers\\n(i.e., Transformer blocks) as L, the hidden size as\\nH, and the number of self-attention heads as A.3\\nWe primarily report results on two model sizes:\\nBERTBASE (L=12, H=768, A=12, Total Param-\\neters=110M) and BERTLARGE (L=24, H=1024,\\nA=16, Total Parameters=340M).\\nBERTBASE was chosen to have the same model\\nsize as OpenAI GPT for comparison purposes.\\n', 'content_type': 'text', 'score': None, 'meta': {'name': 'bert.pdf', '_split_id': 20}, 'embedding': None, 'id': '7ee74ccf9a8e5444ecd699afc75df9cc'}>,\n",
              " <Document: {'content': 'Critically, however, the BERT Transformer uses\\nbidirectional self-attention, while the GPT Trans-\\nformer uses constrained self-attention where every\\ntoken can only attend to context to its left.4\\n1https://github.com/tensorﬂow/tensor2tensor\\n2http://nlp.seas.harvard.edu/2018/04/03/attention.html\\n3In all cases we set the feed-forward/ﬁlter size to be 4H,\\ni.e., 3072 for the H = 768 and 4096 for the H = 1024.\\n4We note that in the literature the bidirectional Trans-\\x0cInput/Output Representations To make BERT\\nhandle a variety of down-stream tasks, our input\\nrepresentation is able to unambiguously represent\\nboth a single sentence and a pair of sentences\\n(e.g.', 'content_type': 'text', 'score': None, 'meta': {'name': 'bert.pdf', '_split_id': 21}, 'embedding': None, 'id': 'a29d7c9fdfc97bc2588aff8dfc26aa77'}>,\n",
              " <Document: {'content': ', Question, Answer ) in one token sequence.\\nThroughout this work, a “sentence” can be an arbi-\\ntrary span of contiguous text, rather than an actual\\nlinguistic sentence. A “sequence” refers to the in-\\nput token sequence to BERT, which may be a sin-\\ngle sentence or two sentences packed together.\\nWe use WordPiece embeddings (Wu et al.,\\n2016) with a 30,000 token vocabulary. The ﬁrst\\ntoken of every sequence is always a special clas-\\nsiﬁcation token ([CLS]). The ﬁnal hidden state\\ncorresponding to this token is used as the ag-\\ngregate sequence representation for classiﬁcation\\ntasks. ', 'content_type': 'text', 'score': None, 'meta': {'name': 'bert.pdf', '_split_id': 22}, 'embedding': None, 'id': '8135f3f802b405b1fe7ee31ec80e4f71'}>,\n",
              " <Document: {'content': 'Sentence pairs are packed together into a\\nsingle sequence. We differentiate the sentences in\\ntwo ways. First, we separate them with a special\\ntoken ([SEP]). Second, we add a learned embed-\\nding to every token indicating whether it belongs\\nto sentence A or sentence B. As shown in Figure 1,\\nwe denote input embedding as E, the ﬁnal hidden\\nvector of the special [CLS] token as C ∈ RH,\\nand the ﬁnal hidden vector for the ith input token\\nas Ti ∈ RH.\\n', 'content_type': 'text', 'score': None, 'meta': {'name': 'bert.pdf', '_split_id': 23}, 'embedding': None, 'id': '6255d0225c180a6d68c389ae6f579bc7'}>,\n",
              " <Document: {'content': 'For a given token, its input representation is\\nconstructed by summing the corresponding token,\\nsegment, and position embeddings. A visualiza-\\ntion of this construction can be seen in Figure 2.\\n3.1 Pre-training BERT\\nUnlike Peters et al. (2018a) and Radford et al.\\n(2018), we do not use traditional left-to-right or\\nright-to-left language models to pre-train BERT.\\nInstead, we pre-train BERT using two unsuper-\\nvised tasks, described in this section. This step\\nis presented in the left part of Figure 1.\\n', 'content_type': 'text', 'score': None, 'meta': {'name': 'bert.pdf', '_split_id': 24}, 'embedding': None, 'id': 'be955e8345d7e0b5eaf941379199b897'}>,\n",
              " <Document: {'content': 'Task #1: Masked LM Intuitively, it is reason-\\nable to believe that a deep bidirectional model is\\nstrictly more powerful than either a left-to-right\\nmodel or the shallow concatenation of a left-to-\\nright and a right-to-left model. Unfortunately,\\nstandard conditional language models can only be\\ntrained left-to-right or right-to-left, since bidirec-\\ntional conditioning would allow each word to in-\\ndirectly “see itself”, and the model could trivially\\npredict the target word in a multi-layered context.\\n', 'content_type': 'text', 'score': None, 'meta': {'name': 'bert.pdf', '_split_id': 25}, 'embedding': None, 'id': '20f4eb083a41d8d491a8d8e52f3a0c75'}>,\n",
              " <Document: {'content': 'former is often referred to as a “Transformer encoder” while\\nthe left-context-only version is referred to as a “Transformer\\ndecoder” since it can be used for text generation.\\nIn order to train a deep bidirectional representa-\\ntion, we simply mask some percentage of the input\\ntokens at random, and then predict those masked\\ntokens. We refer to this procedure as a “masked\\nLM” (MLM), although it is often referred to as a\\nCloze task in the literature (Taylor, 1953). ', 'content_type': 'text', 'score': None, 'meta': {'name': 'bert.pdf', '_split_id': 26}, 'embedding': None, 'id': 'd44e00950176d96b8537cea4e9f78de2'}>,\n",
              " <Document: {'content': 'In this\\ncase, the ﬁnal hidden vectors corresponding to the\\nmask tokens are fed into an output softmax over\\nthe vocabulary, as in a standard LM. In all of our\\nexperiments, we mask 15% of all WordPiece to-\\nkens in each sequence at random. In contrast to\\ndenoising auto-encoders (Vincent et al., 2008), we\\nonly predict the masked words rather than recon-\\nstructing the entire input.\\n', 'content_type': 'text', 'score': None, 'meta': {'name': 'bert.pdf', '_split_id': 27}, 'embedding': None, 'id': 'fa6251523d0bf08577e5dfa6d768317b'}>,\n",
              " <Document: {'content': 'Although this allows us to obtain a bidirec-\\ntional pre-trained model, a downside is that we\\nare creating a mismatch between pre-training and\\nﬁne-tuning, since the [MASK] token does not ap-\\npear during ﬁne-tuning. To mitigate this, we do\\nnot always replace “masked” words with the ac-\\ntual [MASK] token. The training data generator\\nchooses 15% of the token positions at random for\\nprediction. ', 'content_type': 'text', 'score': None, 'meta': {'name': 'bert.pdf', '_split_id': 28}, 'embedding': None, 'id': '93551ff3de7515d036cb40f07af92e3a'}>,\n",
              " <Document: {'content': 'If the i-th token is chosen, we replace\\nthe i-th token with (1) the [MASK] token 80% of\\nthe time (2) a random token 10% of the time (3)\\nthe unchanged i-th token 10% of the time. Then,\\nTi will be used to predict the original token with\\ncross entropy loss. We compare variations of this\\nprocedure in Appendix C.2.\\n', 'content_type': 'text', 'score': None, 'meta': {'name': 'bert.pdf', '_split_id': 29}, 'embedding': None, 'id': '80d911f4445510cc9cf8de796959995d'}>,\n",
              " <Document: {'content': 'Task #2: Next Sentence Prediction (NSP)\\nMany important downstream tasks such as Ques-\\ntion Answering (QA) and Natural Language Infer-\\nence (NLI) are based on understanding the rela-\\ntionship between two sentences, which is not di-\\nrectly captured by language modeling. In order\\nto train a model that understands sentence rela-\\ntionships, we pre-train for a binarized next sen-\\ntence prediction task that can be trivially gener-\\nated from any monolingual corpus. ', 'content_type': 'text', 'score': None, 'meta': {'name': 'bert.pdf', '_split_id': 30}, 'embedding': None, 'id': '1ac00f5b7b5b533af1a5fbef1d7ef82b'}>,\n",
              " <Document: {'content': 'Speciﬁcally,\\nwhen choosing the sentences A and B for each pre-\\ntraining example, 50% of the time B is the actual\\nnext sentence that follows A (labeled as IsNext),\\nand 50% of the time it is a random sentence from\\nthe corpus (labeled as NotNext). As we show\\nin Figure 1, C is used for next sentence predic-\\ntion (NSP).5 Despite its simplicity, we demon-\\nstrate in Section 5.1 that pre-training towards this\\ntask is very beneﬁcial to both QA and NLI. 6\\n5The ﬁnal model achieves 97%-98% accuracy on NSP.\\n', 'content_type': 'text', 'score': None, 'meta': {'name': 'bert.pdf', '_split_id': 31}, 'embedding': None, 'id': '449d7b06d684684935c5bb561d7c6fd8'}>,\n",
              " <Document: {'content': '6The vector C is not a meaningful sentence representation\\nwithout ﬁne-tuning, since it was trained with NSP.\\x0c', 'content_type': 'text', 'score': None, 'meta': {'name': 'bert.pdf', '_split_id': 32}, 'embedding': None, 'id': 'f8535b087c08693a9ba249cecec1c5f7'}>,\n",
              " <Document: {'content': '[CLS] he likes play ##ing [SEP]\\nmy dog is cute [SEP]\\nInput\\nE\\n[CLS]\\nE\\nhe\\nE\\nlikes\\nE\\nplay\\nE\\n##ing\\nE\\n[SEP]\\nE\\nmy\\nE\\ndog\\nE\\nis\\nE\\ncute\\nE\\n[SEP]\\nToken\\nEmbeddings\\nE\\nA\\nE\\nB\\nE\\nB\\nE\\nB\\nE\\nB\\nE\\nB\\nE\\nA\\nE\\nA\\nE\\nA\\nE\\nA\\nE\\nA\\nSegment\\nEmbeddings\\nE\\n0\\nE\\n6\\nE\\n7\\nE\\n8\\nE\\n9\\nE\\n10\\nE\\n1\\nE\\n2\\nE\\n3\\nE\\n4\\nE\\n5\\nPosition\\nEmbeddings\\nFigure 2: BERT input representation. ', 'content_type': 'text', 'score': None, 'meta': {'name': 'bert.pdf', '_split_id': 33}, 'embedding': None, 'id': 'aec223f4f6776167299a2dce6d5c6e0a'}>,\n",
              " <Document: {'content': 'The input embeddings are the sum of the token embeddings, the segmenta-\\ntion embeddings and the position embeddings.\\nThe NSP task is closely related to representation-\\nlearning objectives used in Jernite et al. (2017) and\\nLogeswaran and Lee (2018). However, in prior\\nwork, only sentence embeddings are transferred to\\ndown-stream tasks, where BERT transfers all pa-\\nrameters to initialize end-task model parameters.\\nPre-training data The pre-training procedure\\nlargely follows the existing literature on language\\nmodel pre-training. For the pre-training corpus we\\nuse the BooksCorpus (800M words) (Zhu et al.,\\n2015) and English Wikipedia (2,500M words).\\n', 'content_type': 'text', 'score': None, 'meta': {'name': 'bert.pdf', '_split_id': 34}, 'embedding': None, 'id': '5dca96a0021280a521ab5fb3ecd30a48'}>,\n",
              " <Document: {'content': 'For Wikipedia we extract only the text passages\\nand ignore lists, tables, and headers. It is criti-\\ncal to use a document-level corpus rather than a\\nshufﬂed sentence-level corpus such as the Billion\\nWord Benchmark (Chelba et al., 2013) in order to\\nextract long contiguous sequences.\\n3.2 Fine-tuning BERT\\nFine-tuning is straightforward since the self-\\nattention mechanism in the Transformer al-\\nlows BERT to model many downstream tasks—\\nwhether they involve single text or text pairs—by\\nswapping out the appropriate inputs and outputs.\\n', 'content_type': 'text', 'score': None, 'meta': {'name': 'bert.pdf', '_split_id': 35}, 'embedding': None, 'id': '3e0c4da06fd92604449a598b4a86ca1b'}>,\n",
              " <Document: {'content': 'For applications involving text pairs, a common\\npattern is to independently encode text pairs be-\\nfore applying bidirectional cross attention, such\\nas Parikh et al. (2016); Seo et al. (2017). BERT\\ninstead uses the self-attention mechanism to unify\\nthese two stages, as encoding a concatenated text\\npair with self-attention effectively includes bidi-\\nrectional cross attention between two sentences.\\nFor each task, we simply plug in the task-\\nspeciﬁc inputs and outputs into BERT and ﬁne-\\ntune all the parameters end-to-end. ', 'content_type': 'text', 'score': None, 'meta': {'name': 'bert.pdf', '_split_id': 36}, 'embedding': None, 'id': '5d914cc6184b07d9db5660731ce42729'}>,\n",
              " <Document: {'content': 'At the in-\\nput, sentence A and sentence B from pre-training\\nare analogous to (1) sentence pairs in paraphras-\\ning, (2) hypothesis-premise pairs in entailment, (3)\\nquestion-passage pairs in question answering, and\\n(4) a degenerate text-∅ pair in text classiﬁcation\\nor sequence tagging. At the output, the token rep-\\nresentations are fed into an output layer for token-\\nlevel tasks, such as sequence tagging or question\\nanswering, and the [CLS] representation is fed\\ninto an output layer for classiﬁcation, such as en-\\ntailment or sentiment analysis.\\nCompared to pre-training, ﬁne-tuning is rela-\\ntively inexpensive. ', 'content_type': 'text', 'score': None, 'meta': {'name': 'bert.pdf', '_split_id': 37}, 'embedding': None, 'id': '4ef910759ec107b2aee183c7a43e8dc6'}>,\n",
              " <Document: {'content': 'All of the results in the pa-\\nper can be replicated in at most 1 hour on a sin-\\ngle Cloud TPU, or a few hours on a GPU, starting\\nfrom the exact same pre-trained model.7 We de-\\nscribe the task-speciﬁc details in the correspond-\\ning subsections of Section 4. More details can be\\nfound in Appendix A.5.\\n4 Experiments\\nIn this section, we present BERT ﬁne-tuning re-\\nsults on 11 NLP tasks.\\n4.1 GLUE\\nThe General Language Understanding Evaluation\\n(GLUE) benchmark (Wang et al., 2018a) is a col-\\nlection of diverse natural language understanding\\ntasks. ', 'content_type': 'text', 'score': None, 'meta': {'name': 'bert.pdf', '_split_id': 38}, 'embedding': None, 'id': 'a73390d1a34002734d91d2a86aa8ad1'}>,\n",
              " <Document: {'content': 'Detailed descriptions of GLUE datasets are\\nincluded in Appendix B.1.\\nTo ﬁne-tune on GLUE, we represent the input\\nsequence (for single sentence or sentence pairs)\\nas described in Section 3, and use the ﬁnal hid-\\nden vector C ∈ RH corresponding to the ﬁrst\\ninput token ([CLS]) as the aggregate representa-\\ntion. The only new parameters introduced during\\nﬁne-tuning are classiﬁcation layer weights W ∈\\nRK×H, where K is the number of labels. We com-\\npute a standard classiﬁcation loss with C and W,\\ni.e., log(softmax(CWT )).\\n', 'content_type': 'text', 'score': None, 'meta': {'name': 'bert.pdf', '_split_id': 39}, 'embedding': None, 'id': 'a51a93b56e0c2b13d7a14653f8f7a742'}>,\n",
              " <Document: {'content': '7For example, the BERT SQuAD model can be trained in\\naround 30 minutes on a single Cloud TPU to achieve a Dev\\nF1 score of 91.0%.\\n8See (10) in https://gluebenchmark.com/faq.\\x0c', 'content_type': 'text', 'score': None, 'meta': {'name': 'bert.pdf', '_split_id': 40}, 'embedding': None, 'id': 'c1c72050ca317410b548dd60355dcbf1'}>,\n",
              " <Document: {'content': 'System MNLI-(m/mm) QQP QNLI SST-2 CoLA STS-B MRPC RTE Average\\n392k 363k 108k 67k 8.5k 5.7k 3.5k 2.5k -\\nPre-OpenAI SOTA 80.6/80.1 66.1 82.3 93.2 35.0 81.0 86.0 61.7 74.0\\nBiLSTM+ELMo+Attn 76.4/76.1 64.8 79.8 90.4 36.0 73.3 84.9 56.8 71.0\\nOpenAI GPT 82.1/81.4 70.3 87.4 91.3 45.4 80.0 82.3 56.0 75.1\\nBERTBASE 84.6/83.4 71.2 90.5 93.5 52.1 85.8 88.9 66.4 79.6\\nBERTLARGE\\n86.7/85.9 72.1 92.7 94.9 60.5 86.5 89.3 70.1 82.1\\nTable 1: GLUE Test results, scored by the evaluation server (https://gluebenchmark.com/leaderboard).\\nThe number below each task denotes the number of training examples. ', 'content_type': 'text', 'score': None, 'meta': {'name': 'bert.pdf', '_split_id': 41}, 'embedding': None, 'id': '41064a8992bb5ff7c2034e61f9d469e9'}>,\n",
              " <Document: {'content': 'The “Average” column is slightly different\\nthan the ofﬁcial GLUE score, since we exclude the problematic WNLI set.8 BERT and OpenAI GPT are single-\\nmodel, single task. F1 scores are reported for QQP and MRPC, Spearman correlations are reported for STS-B, and\\naccuracy scores are reported for the other tasks. We exclude entries that use BERT as one of their components.\\nWe use a batch size of 32 and ﬁne-tune for 3\\nepochs over the data for all GLUE tasks. For each\\ntask, we selected the best ﬁne-tuning learning rate\\n(among 5e-5, 4e-5, 3e-5, and 2e-5) on the Dev set.\\n', 'content_type': 'text', 'score': None, 'meta': {'name': 'bert.pdf', '_split_id': 42}, 'embedding': None, 'id': '88c66a32dbdcc19075918c4a32f9a6e0'}>,\n",
              " <Document: {'content': 'Additionally, for BERTLARGE we found that ﬁne-\\ntuning was sometimes unstable on small datasets,\\nso we ran several random restarts and selected the\\nbest model on the Dev set. With random restarts,\\nwe use the same pre-trained checkpoint but per-\\nform different ﬁne-tuning data shufﬂing and clas-\\nsiﬁer layer initialization.9\\nResults are presented in Table 1. Both\\nBERTBASE and BERTLARGE outperform all sys-\\ntems on all tasks by a substantial margin, obtaining\\n4.5% and 7.0% respective average accuracy im-\\nprovement over the prior state of the art. ', 'content_type': 'text', 'score': None, 'meta': {'name': 'bert.pdf', '_split_id': 43}, 'embedding': None, 'id': 'c004cc98235069652005a9e4c5d43e3f'}>,\n",
              " <Document: {'content': 'Note that\\nBERTBASE and OpenAI GPT are nearly identical\\nin terms of model architecture apart from the at-\\ntention masking. For the largest and most widely\\nreported GLUE task, MNLI, BERT obtains a 4.6%\\nabsolute accuracy improvement. On the ofﬁcial\\nGLUE leaderboard10, BERTLARGE obtains a score\\nof 80.5, compared to OpenAI GPT, which obtains\\n72.8 as of the date of writing.\\nWe ﬁnd that BERTLARGE signiﬁcantly outper-\\nforms BERTBASE across all tasks, especially those\\nwith very little training data. ', 'content_type': 'text', 'score': None, 'meta': {'name': 'bert.pdf', '_split_id': 44}, 'embedding': None, 'id': '251456d608256511fd93a44918e51d11'}>,\n",
              " <Document: {'content': 'The effect of model\\nsize is explored more thoroughly in Section 5.2.\\n4.2 SQuAD v1.1\\nThe Stanford Question Answering Dataset\\n(SQuAD v1.1) is a collection of 100k crowd-\\nsourced question/answer pairs (Rajpurkar et al.,\\n2016). Given a question and a passage from\\n9The GLUE data set distribution does not include the Test\\nlabels, and we only made a single GLUE evaluation server\\nsubmission for each of BERTBASE and BERTLARGE.\\n10https://gluebenchmark.com/leaderboard\\nWikipedia containing the answer, the task is to\\npredict the answer text span in the passage.\\n', 'content_type': 'text', 'score': None, 'meta': {'name': 'bert.pdf', '_split_id': 45}, 'embedding': None, 'id': '93cd71bdcbecf0ddf4fb7988bbce6d61'}>,\n",
              " <Document: {'content': 'As shown in Figure 1, in the question answer-\\ning task, we represent the input question and pas-\\nsage as a single packed sequence, with the ques-\\ntion using the A embedding and the passage using\\nthe B embedding. We only introduce a start vec-\\ntor S ∈ RH and an end vector E ∈ RH during\\nﬁne-tuning. The probability of word i being the\\nstart of the answer span is computed as a dot prod-\\nuct between Ti and S followed by a softmax over\\nall of the words in the paragraph: Pi = eS·Ti\\nj\\neS·Tj\\n.\\n', 'content_type': 'text', 'score': None, 'meta': {'name': 'bert.pdf', '_split_id': 46}, 'embedding': None, 'id': 'e31881219fdd460c08ff925d8568533e'}>,\n",
              " <Document: {'content': 'The analogous formula is used for the end of the\\nanswer span. The score of a candidate span from\\nposition i to position j is deﬁned as S·Ti + E·Tj,\\nand the maximum scoring span where j ≥ i is\\nused as a prediction. The training objective is the\\nsum of the log-likelihoods of the correct start and\\nend positions. We ﬁne-tune for 3 epochs with a\\nlearning rate of 5e-5 and a batch size of 32.\\nTable 2 shows top leaderboard entries as well\\nas results from top published systems (Seo et al.', 'content_type': 'text', 'score': None, 'meta': {'name': 'bert.pdf', '_split_id': 47}, 'embedding': None, 'id': '5198c6f0b7cb3d04c76095e69af33b6a'}>,\n",
              " <Document: {'content': ',\\n2017; Clark and Gardner, 2018; Peters et al.,\\n2018a; Hu et al., 2018). The top results from the\\nSQuAD leaderboard do not have up-to-date public\\nsystem descriptions available,11 and are allowed to\\nuse any public data when training their systems.\\nWe therefore use modest data augmentation in\\nour system by ﬁrst ﬁne-tuning on TriviaQA (Joshi\\net al., 2017) befor ﬁne-tuning on SQuAD.\\nOur best performing system outperforms the top\\nleaderboard system by +1.5 F1 in ensembling and\\n+1.3 F1 as a single system. ', 'content_type': 'text', 'score': None, 'meta': {'name': 'bert.pdf', '_split_id': 48}, 'embedding': None, 'id': '66cbbe685969ca7802915ed848e61e7c'}>,\n",
              " <Document: {'content': 'In fact, our single\\nBERT model outperforms the top ensemble sys-\\ntem in terms of F1 score. Without TriviaQA ﬁne-\\n11QANet is described in Yu et al. (2018), but the system\\nhas improved substantially after publication.\\x0cSystem Dev Test\\nEM F1 EM F1\\nTop Leaderboard Systems (Dec 10th, 2018)\\nHuman - - 82.3 91.2\\n#1 Ensemble - nlnet - - 86.0 91.7\\n#2 Ensemble - QANet - - 84.5 90.5\\nPublished\\nBiDAF+ELMo (Single) - 85.6 - 85.8\\nR.M. ', 'content_type': 'text', 'score': None, 'meta': {'name': 'bert.pdf', '_split_id': 49}, 'embedding': None, 'id': 'daab7d694237cdf855f9c41f9a452feb'}>,\n",
              " <Document: {'content': 'Reader (Ensemble) 81.2 87.9 82.3 88.5\\nOurs\\nBERTBASE (Single) 80.8 88.5 - -\\nBERTLARGE (Single) 84.1 90.9 - -\\nBERTLARGE (Ensemble) 85.8 91.8 - -\\nBERTLARGE (Sgl.+TriviaQA) 84.2 91.1 85.1 91.8\\nBERTLARGE (Ens.+TriviaQA) 86.2 92.2 87.4 93.2\\nTable 2: SQuAD 1.1 results. The BERT ensemble\\nis 7x systems which use different pre-training check-\\npoints and ﬁne-tuning seeds.\\n', 'content_type': 'text', 'score': None, 'meta': {'name': 'bert.pdf', '_split_id': 50}, 'embedding': None, 'id': '975f922b25290e93bda0f90d8f13fd35'}>,\n",
              " <Document: {'content': 'System Dev Test\\nEM F1 EM F1\\nTop Leaderboard Systems (Dec 10th, 2018)\\nHuman 86.3 89.0 86.9 89.5\\n#1 Single - MIR-MRC (F-Net) - - 74.8 78.0\\n#2 Single - nlnet - - 74.2 77.1\\nPublished\\nunet (Ensemble) - - 71.4 74.9\\nSLQA+ (Single) - 71.4 74.4\\nOurs\\nBERTLARGE (Single) 78.7 81.9 80.0 83.1\\nTable 3: SQuAD 2.0 results. We exclude entries that\\nuse BERT as one of their components.\\n', 'content_type': 'text', 'score': None, 'meta': {'name': 'bert.pdf', '_split_id': 51}, 'embedding': None, 'id': '89e576f6f5bb33a3dd9564b00b25e5eb'}>,\n",
              " <Document: {'content': 'tuning data, we only lose 0.1-0.4 F1, still outper-\\nforming all existing systems by a wide margin.12\\n4.3 SQuAD v2.0\\nThe SQuAD 2.0 task extends the SQuAD 1.1\\nproblem deﬁnition by allowing for the possibility\\nthat no short answer exists in the provided para-\\ngraph, making the problem more realistic.\\nWe use a simple approach to extend the SQuAD\\nv1.1 BERT model for this task. We treat ques-\\ntions that do not have an answer as having an an-\\nswer span with start and end at the [CLS] to-\\nken. ', 'content_type': 'text', 'score': None, 'meta': {'name': 'bert.pdf', '_split_id': 52}, 'embedding': None, 'id': 'c15bc444fd9ba07e086da292f1a9e607'}>,\n",
              " <Document: {'content': 'The probability space for the start and end\\nanswer span positions is extended to include the\\nposition of the [CLS] token. For prediction, we\\ncompare the score of the no-answer span: snull\\n=\\nS·C + E·C to the score of the best non-null span\\n12The TriviaQA data we used consists of paragraphs from\\nTriviaQA-Wiki formed of the ﬁrst 400 tokens in documents,\\nthat contain at least one of the provided possible answers.\\n', 'content_type': 'text', 'score': None, 'meta': {'name': 'bert.pdf', '_split_id': 53}, 'embedding': None, 'id': '44fbe233113145ffec7a19fda21d386c'}>,\n",
              " <Document: {'content': 'System Dev Test\\nESIM+GloVe 51.9 52.7\\nESIM+ELMo 59.1 59.2\\nOpenAI GPT - 78.0\\nBERTBASE 81.6 -\\nBERTLARGE\\n86.6 86.3\\nHuman (expert)† - 85.0\\nHuman (5 annotations)† - 88.0\\nTable 4: SWAG Dev and Test accuracies. †Human per-\\nformance is measured with 100 samples, as reported in\\nthe SWAG paper.\\nˆ\\nsi,j = maxj≥iS·Ti + E·Tj. We predict a non-null\\nanswer when ˆ\\nsi,j > snull\\n+ τ, where the thresh-\\nold τ is selected on the dev set to maximize F1.\\nWe did not use TriviaQA data for this model. ', 'content_type': 'text', 'score': None, 'meta': {'name': 'bert.pdf', '_split_id': 54}, 'embedding': None, 'id': '257b60f6f13aae3fbe15d875f2bcdce7'}>,\n",
              " <Document: {'content': 'We\\nﬁne-tuned for 2 epochs with a learning rate of 5e-5\\nand a batch size of 48.\\nThe results compared to prior leaderboard en-\\ntries and top published work (Sun et al., 2018;\\nWang et al., 2018b) are shown in Table 3, exclud-\\ning systems that use BERT as one of their com-\\nponents. We observe a +5.1 F1 improvement over\\nthe previous best system.\\n4.4 SWAG\\nThe Situations With Adversarial Generations\\n(SWAG) dataset contains 113k sentence-pair com-\\npletion examples that evaluate grounded common-\\nsense inference (Zellers et al., 2018). ', 'content_type': 'text', 'score': None, 'meta': {'name': 'bert.pdf', '_split_id': 55}, 'embedding': None, 'id': '4a0698f64488be0c6da24f249bbf78bb'}>,\n",
              " <Document: {'content': 'Given a sen-\\ntence, the task is to choose the most plausible con-\\ntinuation among four choices.\\nWhen ﬁne-tuning on the SWAG dataset, we\\nconstruct four input sequences, each containing\\nthe concatenation of the given sentence (sentence\\nA) and a possible continuation (sentence B). The\\nonly task-speciﬁc parameters introduced is a vec-\\ntor whose dot product with the [CLS] token rep-\\nresentation C denotes a score for each choice\\nwhich is normalized with a softmax layer.\\nWe ﬁne-tune the model for 3 epochs with a\\nlearning rate of 2e-5 and a batch size of 16. ', 'content_type': 'text', 'score': None, 'meta': {'name': 'bert.pdf', '_split_id': 56}, 'embedding': None, 'id': '38b04bd6f4fea78ec89a8e418b98018e'}>,\n",
              " <Document: {'content': 'Re-\\nsults are presented in Table 4. BERTLARGE out-\\nperforms the authors’ baseline ESIM+ELMo sys-\\ntem by +27.1% and OpenAI GPT by 8.3%.\\n5 Ablation Studies\\nIn this section, we perform ablation experiments\\nover a number of facets of BERT in order to better\\nunderstand their relative importance. ', 'content_type': 'text', 'score': None, 'meta': {'name': 'bert.pdf', '_split_id': 57}, 'embedding': None, 'id': '94f4d09ab3fabf3f22c7e590116de55c'}>,\n",
              " <Document: {'content': 'Additional\\x0cDev Set\\nTasks MNLI-m QNLI MRPC SST-2 SQuAD\\n(Acc) (Acc) (Acc) (Acc) (F1)\\nBERTBASE 84.4 88.4 86.7 92.7 88.5\\nNo NSP 83.9 84.9 86.5 92.6 87.9\\nLTR & No NSP 82.1 84.3 77.5 92.1 77.8\\n+ BiLSTM 82.1 84.1 75.7 91.6 84.9\\nTable 5: Ablation over the pre-training tasks using the\\nBERTBASE architecture. “No NSP” is trained without\\nthe next sentence prediction task. “LTR & No NSP” is\\ntrained as a left-to-right LM without the next sentence\\nprediction, like OpenAI GPT. ', 'content_type': 'text', 'score': None, 'meta': {'name': 'bert.pdf', '_split_id': 58}, 'embedding': None, 'id': '40d8577e91b56a44956316d55c3ab612'}>,\n",
              " <Document: {'content': '“+ BiLSTM” adds a ran-\\ndomly initialized BiLSTM on top of the “LTR + No\\nNSP” model during ﬁne-tuning.\\nablation studies can be found in Appendix C.\\n5.1 Effect of Pre-training Tasks\\nWe demonstrate the importance of the deep bidi-\\nrectionality of BERT by evaluating two pre-\\ntraining objectives using exactly the same pre-\\ntraining data, ﬁne-tuning scheme, and hyperpa-\\nrameters as BERTBASE:\\nNo NSP: A bidirectional model which is trained\\nusing the “masked LM” (MLM) but without the\\n“next sentence prediction” (NSP) task.\\n', 'content_type': 'text', 'score': None, 'meta': {'name': 'bert.pdf', '_split_id': 59}, 'embedding': None, 'id': 'c1c1da5baae345b8ffa28adae717dd9a'}>,\n",
              " <Document: {'content': 'LTR & No NSP: A left-context-only model which\\nis trained using a standard Left-to-Right (LTR)\\nLM, rather than an MLM. The left-only constraint\\nwas also applied at ﬁne-tuning, because removing\\nit introduced a pre-train/ﬁne-tune mismatch that\\ndegraded downstream performance. Additionally,\\nthis model was pre-trained without the NSP task.\\nThis is directly comparable to OpenAI GPT, but\\nusing our larger training dataset, our input repre-\\nsentation, and our ﬁne-tuning scheme.\\nWe ﬁrst examine the impact brought by the NSP\\ntask. In Table 5, we show that removing NSP\\nhurts performance signiﬁcantly on QNLI, MNLI,\\nand SQuAD 1.1. ', 'content_type': 'text', 'score': None, 'meta': {'name': 'bert.pdf', '_split_id': 60}, 'embedding': None, 'id': '7915a21fa8cc7540b983f2ca88e6cef4'}>,\n",
              " <Document: {'content': 'Next, we evaluate the impact\\nof training bidirectional representations by com-\\nparing “No NSP” to “LTR & No NSP”. The LTR\\nmodel performs worse than the MLM model on all\\ntasks, with large drops on MRPC and SQuAD.\\nFor SQuAD it is intuitively clear that a LTR\\nmodel will perform poorly at token predictions,\\nsince the token-level hidden states have no right-\\nside context. In order to make a good faith at-\\ntempt at strengthening the LTR system, we added\\na randomly initialized BiLSTM on top. ', 'content_type': 'text', 'score': None, 'meta': {'name': 'bert.pdf', '_split_id': 61}, 'embedding': None, 'id': 'bdae3cba63a7742e77126ae3fb17c99b'}>,\n",
              " <Document: {'content': 'This does\\nsigniﬁcantly improve results on SQuAD, but the\\nresults are still far worse than those of the pre-\\ntrained bidirectional models. The BiLSTM hurts\\nperformance on the GLUE tasks.\\nWe recognize that it would also be possible to\\ntrain separate LTR and RTL models and represent\\neach token as the concatenation of the two mod-\\nels, as ELMo does. ', 'content_type': 'text', 'score': None, 'meta': {'name': 'bert.pdf', '_split_id': 62}, 'embedding': None, 'id': '1a764bf1ae285539932e1ad607ae46d2'}>,\n",
              " <Document: {'content': 'However: (a) this is twice as\\nexpensive as a single bidirectional model; (b) this\\nis non-intuitive for tasks like QA, since the RTL\\nmodel would not be able to condition the answer\\non the question; (c) this it is strictly less powerful\\nthan a deep bidirectional model, since it can use\\nboth left and right context at every layer.\\n5.2 Effect of Model Size\\nIn this section, we explore the effect of model size\\non ﬁne-tuning task accuracy. ', 'content_type': 'text', 'score': None, 'meta': {'name': 'bert.pdf', '_split_id': 63}, 'embedding': None, 'id': 'f38d9e027466ee3a3906484dfa080c3e'}>,\n",
              " <Document: {'content': 'We trained a number\\nof BERT models with a differing number of layers,\\nhidden units, and attention heads, while otherwise\\nusing the same hyperparameters and training pro-\\ncedure as described previously.\\nResults on selected GLUE tasks are shown in\\nTable 6. In this table, we report the average Dev\\nSet accuracy from 5 random restarts of ﬁne-tuning.\\nWe can see that larger models lead to a strict ac-\\ncuracy improvement across all four datasets, even\\nfor MRPC which only has 3,600 labeled train-\\ning examples, and is substantially different from\\nthe pre-training tasks. ', 'content_type': 'text', 'score': None, 'meta': {'name': 'bert.pdf', '_split_id': 64}, 'embedding': None, 'id': 'e78a20d9b18274e819fa20f0ba49c8bc'}>,\n",
              " <Document: {'content': 'It is also perhaps surpris-\\ning that we are able to achieve such signiﬁcant\\nimprovements on top of models which are al-\\nready quite large relative to the existing literature.\\nFor example, the largest Transformer explored in\\nVaswani et al. (2017) is (L=6, H=1024, A=16)\\nwith 100M parameters for the encoder, and the\\nlargest Transformer we have found in the literature\\nis (L=64, H=512, A=2) with 235M parameters\\n(Al-Rfou et al., 2018). By contrast, BERTBASE\\ncontains 110M parameters and BERTLARGE con-\\ntains 340M parameters.\\n', 'content_type': 'text', 'score': None, 'meta': {'name': 'bert.pdf', '_split_id': 65}, 'embedding': None, 'id': '1d9f9c1bf74afc0d2950e62cb951cfa6'}>,\n",
              " <Document: {'content': 'It has long been known that increasing the\\nmodel size will lead to continual improvements\\non large-scale tasks such as machine translation\\nand language modeling, which is demonstrated\\nby the LM perplexity of held-out training data\\nshown in Table 6. However, we believe that\\nthis is the ﬁrst work to demonstrate convinc-\\ningly that scaling to extreme model sizes also\\nleads to large improvements on very small scale\\ntasks, provided that the model has been sufﬁ-\\nciently pre-trained. Peters et al. ', 'content_type': 'text', 'score': None, 'meta': {'name': 'bert.pdf', '_split_id': 66}, 'embedding': None, 'id': 'a4eca6e772143fb5b3c329ab846d6d89'}>,\n",
              " <Document: {'content': '(2018b) presented\\x0cmixed results on the downstream task impact of\\nincreasing the pre-trained bi-LM size from two\\nto four layers and Melamud et al. (2016) men-\\ntioned in passing that increasing hidden dimen-\\nsion size from 200 to 600 helped, but increasing\\nfurther to 1,000 did not bring further improve-\\nments. ', 'content_type': 'text', 'score': None, 'meta': {'name': 'bert.pdf', '_split_id': 67}, 'embedding': None, 'id': 'dd31ad63ec1c4e14cc3c4ae91ec020d7'}>,\n",
              " <Document: {'content': 'Both of these prior works used a feature-\\nbased approach — we hypothesize that when the\\nmodel is ﬁne-tuned directly on the downstream\\ntasks and uses only a very small number of ran-\\ndomly initialized additional parameters, the task-\\nspeciﬁc models can beneﬁt from the larger, more\\nexpressive pre-trained representations even when\\ndownstream task data is very small.\\n5.3 Feature-based Approach with BERT\\nAll of the BERT results presented so far have used\\nthe ﬁne-tuning approach, where a simple classiﬁ-\\ncation layer is added to the pre-trained model, and\\nall parameters are jointly ﬁne-tuned on a down-\\nstream task. ', 'content_type': 'text', 'score': None, 'meta': {'name': 'bert.pdf', '_split_id': 68}, 'embedding': None, 'id': '8869fea6a5b694bb7e966953113e2372'}>,\n",
              " <Document: {'content': 'However, the feature-based approach,\\nwhere ﬁxed features are extracted from the pre-\\ntrained model, has certain advantages. First, not\\nall tasks can be easily represented by a Trans-\\nformer encoder architecture, and therefore require\\na task-speciﬁc model architecture to be added.\\nSecond, there are major computational beneﬁts\\nto pre-compute an expensive representation of the\\ntraining data once and then run many experiments\\nwith cheaper models on top of this representation.\\nIn this section, we compare the two approaches\\nby applying BERT to the CoNLL-2003 Named\\nEntity Recognition (NER) task (Tjong Kim Sang\\nand De Meulder, 2003). ', 'content_type': 'text', 'score': None, 'meta': {'name': 'bert.pdf', '_split_id': 69}, 'embedding': None, 'id': 'c5627eef6e0711f00550a810122a2210'}>,\n",
              " <Document: {'content': 'In the input to BERT, we\\nuse a case-preserving WordPiece model, and we\\ninclude the maximal document context provided\\nby the data. Following standard practice, we for-\\nmulate this as a tagging task but do not use a CRF\\nHyperparams Dev Set Accuracy\\n#L #H #A LM (ppl) MNLI-m MRPC SST-2\\n3 768 12 5.84 77.9 79.8 88.4\\n6 768 3 5.24 80.6 82.2 90.7\\n6 768 12 4.68 81.9 84.8 91.3\\n12 768 12 3.99 84.4 86.7 92.9\\n12 1024 16 3.54 85.7 86.9 93.3\\n24 1024 16 3.23 86.6 87.8 93.7\\nTable 6: Ablation over BERT model size. ', 'content_type': 'text', 'score': None, 'meta': {'name': 'bert.pdf', '_split_id': 70}, 'embedding': None, 'id': 'c8003446409c7d63c837a94a2d7c8dbf'}>,\n",
              " <Document: {'content': '#L = the\\nnumber of layers; #H = hidden size; #A = number of at-\\ntention heads. “LM (ppl)” is the masked LM perplexity\\nof held-out training data.\\nSystem Dev F1 Test F1\\nELMo (Peters et al., 2018a) 95.7 92.2\\nCVT (Clark et al., 2018) - 92.6\\nCSE (Akbik et al.', 'content_type': 'text', 'score': None, 'meta': {'name': 'bert.pdf', '_split_id': 71}, 'embedding': None, 'id': '1dc86fae86855c30ccc186a68fa0304d'}>,\n",
              " <Document: {'content': ', 2018) - 93.1\\nFine-tuning approach\\nBERTLARGE 96.6 92.8\\nBERTBASE 96.4 92.4\\nFeature-based approach (BERTBASE)\\nEmbeddings 91.0 -\\nSecond-to-Last Hidden 95.6 -\\nLast Hidden 94.9 -\\nWeighted Sum Last Four Hidden 95.9 -\\nConcat Last Four Hidden 96.1 -\\nWeighted Sum All 12 Layers 95.5 -\\nTable 7: CoNLL-2003 Named Entity Recognition re-\\nsults. Hyperparameters were selected using the Dev\\nset. The reported Dev and Test scores are averaged over\\n5 random restarts using those hyperparameters.\\nlayer in the output. We use the representation of\\nthe ﬁrst sub-token as the input to the token-level\\nclassiﬁer over the NER label set.\\n', 'content_type': 'text', 'score': None, 'meta': {'name': 'bert.pdf', '_split_id': 72}, 'embedding': None, 'id': 'd8f9e2c52bcc8d86310d2c7657b2c861'}>,\n",
              " <Document: {'content': 'To ablate the ﬁne-tuning approach, we apply the\\nfeature-based approach by extracting the activa-\\ntions from one or more layers without ﬁne-tuning\\nany parameters of BERT. These contextual em-\\nbeddings are used as input to a randomly initial-\\nized two-layer 768-dimensional BiLSTM before\\nthe classiﬁcation layer.\\nResults are presented in Table 7. BERTLARGE\\nperforms competitively with state-of-the-art meth-\\nods. The best performing method concatenates the\\ntoken representations from the top four hidden lay-\\ners of the pre-trained Transformer, which is only\\n0.3 F1 behind ﬁne-tuning the entire model. ', 'content_type': 'text', 'score': None, 'meta': {'name': 'bert.pdf', '_split_id': 73}, 'embedding': None, 'id': 'b7681d74aff2a0221afcdcc20ab9763c'}>,\n",
              " <Document: {'content': 'This\\ndemonstrates that BERT is effective for both ﬁne-\\ntuning and feature-based approaches.\\n6 Conclusion\\nRecent empirical improvements due to transfer\\nlearning with language models have demonstrated\\nthat rich, unsupervised pre-training is an integral\\npart of many language understanding systems. In\\nparticular, these results enable even low-resource\\ntasks to beneﬁt from deep unidirectional architec-\\ntures. Our major contribution is further general-\\nizing these ﬁndings to deep bidirectional architec-\\ntures, allowing the same pre-trained model to suc-\\ncessfully tackle a broad set of NLP tasks.\\x0cReferences\\nAlan Akbik, Duncan Blythe, and Roland Vollgraf.\\n2018. Contextual string embeddings for sequence\\nlabeling. ', 'content_type': 'text', 'score': None, 'meta': {'name': 'bert.pdf', '_split_id': 74}, 'embedding': None, 'id': 'd33d1d338dcbc76d57eb52f3b8c7b1c6'}>,\n",
              " <Document: {'content': 'In Proceedings of the 27th International\\nConference on Computational Linguistics, pages\\n1638–1649.\\nRami Al-Rfou, Dokook Choe, Noah Constant, Mandy\\nGuo, and Llion Jones. 2018. Character-level lan-\\nguage modeling with deeper self-attention. arXiv\\npreprint arXiv:1808.04444.\\nRie Kubota Ando and Tong Zhang. 2005. A framework\\nfor learning predictive structures from multiple tasks\\nand unlabeled data. Journal of Machine Learning\\nResearch, 6(Nov):1817–1853.\\nLuisa Bentivogli, Bernardo Magnini, Ido Dagan,\\nHoa Trang Dang, and Danilo Giampiccolo. 2009.\\nThe ﬁfth PASCAL recognizing textual entailment\\nchallenge. In TAC. NIST.\\nJohn Blitzer, Ryan McDonald, and Fernando Pereira.\\n2006. Domain adaptation with structural correspon-\\ndence learning. ', 'content_type': 'text', 'score': None, 'meta': {'name': 'bert.pdf', '_split_id': 75}, 'embedding': None, 'id': 'b0066b17ba71b22bacf6257fd7cb2e45'}>,\n",
              " <Document: {'content': 'In Proceedings of the 2006 confer-\\nence on empirical methods in natural language pro-\\ncessing, pages 120–128. Association for Computa-\\ntional Linguistics.\\nSamuel R. Bowman, Gabor Angeli, Christopher Potts,\\nand Christopher D. Manning. 2015. A large anno-\\ntated corpus for learning natural language inference.\\nIn EMNLP. Association for Computational Linguis-\\ntics.\\nPeter F Brown, Peter V Desouza, Robert L Mercer,\\nVincent J Della Pietra, and Jenifer C Lai. 1992.\\nClass-based n-gram models of natural language.\\nComputational linguistics, 18(4):467–479.\\nDaniel Cer, Mona Diab, Eneko Agirre, Inigo Lopez-\\nGazpio, and Lucia Specia. 2017. ', 'content_type': 'text', 'score': None, 'meta': {'name': 'bert.pdf', '_split_id': 76}, 'embedding': None, 'id': '22deb2d4edaef3d8ddfb01a513a5f617'}>,\n",
              " <Document: {'content': 'Semeval-2017\\ntask 1: Semantic textual similarity multilingual and\\ncrosslingual focused evaluation. In Proceedings\\nof the 11th International Workshop on Semantic\\nEvaluation (SemEval-2017), pages 1–14, Vancou-\\nver, Canada. Association for Computational Lin-\\nguistics.\\nCiprian Chelba, Tomas Mikolov, Mike Schuster, Qi Ge,\\nThorsten Brants, Phillipp Koehn, and Tony Robin-\\nson. 2013. One billion word benchmark for measur-\\ning progress in statistical language modeling. arXiv\\npreprint arXiv:1312.3005.\\nZ. Chen, H. Zhang, X. Zhang, and L. Zhao. 2018.\\nQuora question pairs.\\nChristopher Clark and Matt Gardner. 2018. Simple\\nand effective multi-paragraph reading comprehen-\\nsion. In ACL.\\n', 'content_type': 'text', 'score': None, 'meta': {'name': 'bert.pdf', '_split_id': 77}, 'embedding': None, 'id': '8fcf05219210b8d5cadf62a0f1ef52fa'}>,\n",
              " <Document: {'content': 'Kevin Clark, Minh-Thang Luong, Christopher D Man-\\nning, and Quoc Le. 2018. Semi-supervised se-\\nquence modeling with cross-view training. In Pro-\\nceedings of the 2018 Conference on Empirical Meth-\\nods in Natural Language Processing, pages 1914–\\n1925.\\nRonan Collobert and Jason Weston. 2008. A uniﬁed\\narchitecture for natural language processing: Deep\\nneural networks with multitask learning. In Pro-\\nceedings of the 25th international conference on\\nMachine learning, pages 160–167. ACM.\\nAlexis Conneau, Douwe Kiela, Holger Schwenk, Lo¨\\nıc\\nBarrault, and Antoine Bordes. 2017. Supervised\\nlearning of universal sentence representations from\\nnatural language inference data. ', 'content_type': 'text', 'score': None, 'meta': {'name': 'bert.pdf', '_split_id': 78}, 'embedding': None, 'id': '7d4e6a43acfe646ea3111e4617d52f80'}>,\n",
              " <Document: {'content': 'In Proceedings of\\nthe 2017 Conference on Empirical Methods in Nat-\\nural Language Processing, pages 670–680, Copen-\\nhagen, Denmark. Association for Computational\\nLinguistics.\\nAndrew M Dai and Quoc V Le. 2015. Semi-supervised\\nsequence learning. In Advances in neural informa-\\ntion processing systems, pages 3079–3087.\\nJ. Deng, W. Dong, R. Socher, L.-J. Li, K. Li, and L. Fei-\\nFei. 2009. ImageNet: A Large-Scale Hierarchical\\nImage Database. In CVPR09.\\nWilliam B Dolan and Chris Brockett. 2005. Automati-\\ncally constructing a corpus of sentential paraphrases.\\nIn Proceedings of the Third International Workshop\\non Paraphrasing (IWP2005).\\n', 'content_type': 'text', 'score': None, 'meta': {'name': 'bert.pdf', '_split_id': 79}, 'embedding': None, 'id': 'c08596bc3533388f212b8b8949193711'}>,\n",
              " <Document: {'content': 'William Fedus, Ian Goodfellow, and Andrew M Dai.\\n2018. Maskgan: Better text generation via ﬁlling in\\nthe . arXiv preprint arXiv:1801.07736.\\nDan Hendrycks and Kevin Gimpel. 2016. Bridging\\nnonlinearities and stochastic regularizers with gaus-\\nsian error linear units. CoRR, abs/1606.08415.\\nFelix Hill, Kyunghyun Cho, and Anna Korhonen. 2016.\\nLearning distributed representations of sentences\\nfrom unlabelled data. In Proceedings of the 2016\\nConference of the North American Chapter of the\\nAssociation for Computational Linguistics: Human\\nLanguage Technologies. Association for Computa-\\ntional Linguistics.\\nJeremy Howard and Sebastian Ruder. 2018. Universal\\nlanguage model ﬁne-tuning for text classiﬁcation. In\\nACL. Association for Computational Linguistics.\\n', 'content_type': 'text', 'score': None, 'meta': {'name': 'bert.pdf', '_split_id': 80}, 'embedding': None, 'id': '61f056c9fa7c12fd0729bbc190b0bb54'}>,\n",
              " <Document: {'content': 'Minghao Hu, Yuxing Peng, Zhen Huang, Xipeng Qiu,\\nFuru Wei, and Ming Zhou. 2018. Reinforced\\nmnemonic reader for machine reading comprehen-\\nsion. In IJCAI.\\nYacine Jernite, Samuel R. Bowman, and David Son-\\ntag. 2017. Discourse-based objectives for fast un-\\nsupervised sentence representation learning. CoRR,\\nabs/1705.00557.\\x0cMandar Joshi, Eunsol Choi, Daniel S Weld, and Luke\\nZettlemoyer. 2017. Triviaqa: A large scale distantly\\nsupervised challenge dataset for reading comprehen-\\nsion. In ACL.\\nRyan Kiros, Yukun Zhu, Ruslan R Salakhutdinov,\\nRichard Zemel, Raquel Urtasun, Antonio Torralba,\\nand Sanja Fidler. 2015. Skip-thought vectors. In\\nAdvances in neural information processing systems,\\npages 3294–3302.\\n', 'content_type': 'text', 'score': None, 'meta': {'name': 'bert.pdf', '_split_id': 81}, 'embedding': None, 'id': '94cc15e9e5aabc3a5e8232a1f5e1ff3b'}>,\n",
              " <Document: {'content': 'Quoc Le and Tomas Mikolov. 2014. Distributed rep-\\nresentations of sentences and documents. In Inter-\\nnational Conference on Machine Learning, pages\\n1188–1196.\\nHector J Levesque, Ernest Davis, and Leora Morgen-\\nstern. 2011. The winograd schema challenge. In\\nAaai spring symposium: Logical formalizations of\\ncommonsense reasoning, volume 46, page 47.\\nLajanugen Logeswaran and Honglak Lee. 2018. An\\nefﬁcient framework for learning sentence represen-\\ntations. In International Conference on Learning\\nRepresentations.\\nBryan McCann, James Bradbury, Caiming Xiong, and\\nRichard Socher. 2017. Learned in translation: Con-\\ntextualized word vectors. In NIPS.\\n', 'content_type': 'text', 'score': None, 'meta': {'name': 'bert.pdf', '_split_id': 82}, 'embedding': None, 'id': 'cd34d9d2c2d9222b2179074563cf3f2c'}>,\n",
              " <Document: {'content': 'Oren Melamud, Jacob Goldberger, and Ido Dagan.\\n2016. context2vec: Learning generic context em-\\nbedding with bidirectional LSTM. In CoNLL.\\nTomas Mikolov, Ilya Sutskever, Kai Chen, Greg S Cor-\\nrado, and Jeff Dean. 2013. Distributed representa-\\ntions of words and phrases and their compositional-\\nity. In Advances in Neural Information Processing\\nSystems 26, pages 3111–3119. Curran Associates,\\nInc.\\nAndriy Mnih and Geoffrey E Hinton. 2009. A scal-\\nable hierarchical distributed language model. In\\nD. Koller, D. Schuurmans, Y. Bengio, and L. Bot-\\ntou, editors, Advances in Neural Information Pro-\\ncessing Systems 21, pages 1081–1088. ', 'content_type': 'text', 'score': None, 'meta': {'name': 'bert.pdf', '_split_id': 83}, 'embedding': None, 'id': 'e204a450d3cf6ff4570067dd0529d985'}>,\n",
              " <Document: {'content': 'Curran As-\\nsociates, Inc.\\nAnkur P Parikh, Oscar T¨\\nackstr¨\\nom, Dipanjan Das, and\\nJakob Uszkoreit. 2016. A decomposable attention\\nmodel for natural language inference. In EMNLP.\\nJeffrey Pennington, Richard Socher, and Christo-\\npher D. Manning. 2014. Glove: Global vectors for\\nword representation. In Empirical Methods in Nat-\\nural Language Processing (EMNLP), pages 1532–\\n1543.\\nMatthew Peters, Waleed Ammar, Chandra Bhagavat-\\nula, and Russell Power. 2017. Semi-supervised se-\\nquence tagging with bidirectional language models.\\nIn ACL.\\nMatthew Peters, Mark Neumann, Mohit Iyyer, Matt\\nGardner, Christopher Clark, Kenton Lee, and Luke\\nZettlemoyer. 2018a. Deep contextualized word rep-\\nresentations. In NAACL.\\n', 'content_type': 'text', 'score': None, 'meta': {'name': 'bert.pdf', '_split_id': 84}, 'embedding': None, 'id': 'e3389d9689ef6cd5a103c250233984a5'}>,\n",
              " <Document: {'content': 'Matthew Peters, Mark Neumann, Luke Zettlemoyer,\\nand Wen-tau Yih. 2018b. Dissecting contextual\\nword embeddings: Architecture and representation.\\nIn Proceedings of the 2018 Conference on Empiri-\\ncal Methods in Natural Language Processing, pages\\n1499–1509.\\nAlec Radford, Karthik Narasimhan, Tim Salimans, and\\nIlya Sutskever. 2018. Improving language under-\\nstanding with unsupervised learning. Technical re-\\nport, OpenAI.\\nPranav Rajpurkar, Jian Zhang, Konstantin Lopyrev, and\\nPercy Liang. 2016. Squad: 100,000+ questions for\\nmachine comprehension of text. In Proceedings of\\nthe 2016 Conference on Empirical Methods in Nat-\\nural Language Processing, pages 2383–2392.\\nMinjoon Seo, Aniruddha Kembhavi, Ali Farhadi, and\\nHannaneh Hajishirzi. 2017. ', 'content_type': 'text', 'score': None, 'meta': {'name': 'bert.pdf', '_split_id': 85}, 'embedding': None, 'id': '90c89ce66a41993b940ff89e493f7d43'}>,\n",
              " <Document: {'content': 'Bidirectional attention\\nﬂow for machine comprehension. In ICLR.\\nRichard Socher, Alex Perelygin, Jean Wu, Jason\\nChuang, Christopher D Manning, Andrew Ng, and\\nChristopher Potts. 2013. Recursive deep models\\nfor semantic compositionality over a sentiment tree-\\nbank. In Proceedings of the 2013 conference on\\nempirical methods in natural language processing,\\npages 1631–1642.\\nFu Sun, Linyang Li, Xipeng Qiu, and Yang Liu.\\n2018. U-net: Machine reading comprehension\\nwith unanswerable questions. arXiv preprint\\narXiv:1810.06638.\\nWilson L Taylor. 1953. Cloze procedure: A new\\ntool for measuring readability. Journalism Bulletin,\\n30(4):415–433.\\nErik F Tjong Kim Sang and Fien De Meulder.\\n2003. ', 'content_type': 'text', 'score': None, 'meta': {'name': 'bert.pdf', '_split_id': 86}, 'embedding': None, 'id': '292d84305a8a63f5f39f444599e0108'}>,\n",
              " <Document: {'content': 'Introduction to the conll-2003 shared task:\\nLanguage-independent named entity recognition. In\\nCoNLL.\\nJoseph Turian, Lev Ratinov, and Yoshua Bengio. 2010.\\nWord representations: A simple and general method\\nfor semi-supervised learning. In Proceedings of the\\n48th Annual Meeting of the Association for Compu-\\ntational Linguistics, ACL ’10, pages 384–394.\\nAshish Vaswani, Noam Shazeer, Niki Parmar, Jakob\\nUszkoreit, Llion Jones, Aidan N Gomez, Lukasz\\nKaiser, and Illia Polosukhin. 2017. Attention is all\\nyou need. In Advances in Neural Information Pro-\\ncessing Systems, pages 6000–6010.\\nPascal Vincent, Hugo Larochelle, Yoshua Bengio, and\\nPierre-Antoine Manzagol. 2008. ', 'content_type': 'text', 'score': None, 'meta': {'name': 'bert.pdf', '_split_id': 87}, 'embedding': None, 'id': '68958d8e97a323b9ae51f1c61c9de15c'}>,\n",
              " <Document: {'content': 'Extracting and\\ncomposing robust features with denoising autoen-\\ncoders. In Proceedings of the 25th international\\nconference on Machine learning, pages 1096–1103.\\nACM.\\nAlex Wang, Amanpreet Singh, Julian Michael, Fe-\\nlix Hill, Omer Levy, and Samuel Bowman. 2018a.\\nGlue: A multi-task benchmark and analysis platform\\x0cfor natural language understanding. In Proceedings\\nof the 2018 EMNLP Workshop BlackboxNLP: An-\\nalyzing and Interpreting Neural Networks for NLP,\\npages 353–355.\\nWei Wang, Ming Yan, and Chen Wu. 2018b. Multi-\\ngranularity hierarchical attention fusion networks\\nfor reading comprehension and question answering.\\n', 'content_type': 'text', 'score': None, 'meta': {'name': 'bert.pdf', '_split_id': 88}, 'embedding': None, 'id': 'c86703e2e011ea3f5a0322ee11aee2f9'}>,\n",
              " <Document: {'content': 'In Proceedings of the 56th Annual Meeting of the As-\\nsociation for Computational Linguistics (Volume 1:\\nLong Papers). Association for Computational Lin-\\nguistics.\\nAlex Warstadt, Amanpreet Singh, and Samuel R Bow-\\nman. 2018. Neural network acceptability judg-\\nments. arXiv preprint arXiv:1805.12471.\\nAdina Williams, Nikita Nangia, and Samuel R Bow-\\nman. 2018. A broad-coverage challenge corpus\\nfor sentence understanding through inference. In\\nNAACL.\\nYonghui Wu, Mike Schuster, Zhifeng Chen, Quoc V\\nLe, Mohammad Norouzi, Wolfgang Macherey,\\nMaxim Krikun, Yuan Cao, Qin Gao, Klaus\\nMacherey, et al. 2016. Google’s neural ma-\\nchine translation system: Bridging the gap between\\nhuman and machine translation. ', 'content_type': 'text', 'score': None, 'meta': {'name': 'bert.pdf', '_split_id': 89}, 'embedding': None, 'id': 'dfe4d6394163ecc39f77a8982c45162'}>,\n",
              " <Document: {'content': 'arXiv preprint\\narXiv:1609.08144.\\nJason Yosinski, Jeff Clune, Yoshua Bengio, and Hod\\nLipson. 2014. How transferable are features in deep\\nneural networks? In Advances in neural information\\nprocessing systems, pages 3320–3328.\\nAdams Wei Yu, David Dohan, Minh-Thang Luong, Rui\\nZhao, Kai Chen, Mohammad Norouzi, and Quoc V\\nLe. 2018. QANet: Combining local convolution\\nwith global self-attention for reading comprehen-\\nsion. In ICLR.\\nRowan Zellers, Yonatan Bisk, Roy Schwartz, and Yejin\\nChoi. 2018. Swag: A large-scale adversarial dataset\\nfor grounded commonsense inference. In Proceed-\\nings of the 2018 Conference on Empirical Methods\\nin Natural Language Processing (EMNLP).\\n', 'content_type': 'text', 'score': None, 'meta': {'name': 'bert.pdf', '_split_id': 90}, 'embedding': None, 'id': 'd633ce81c2a1075c7c309711cb1f8685'}>,\n",
              " <Document: {'content': 'Yukun Zhu, Ryan Kiros, Rich Zemel, Ruslan Salakhut-\\ndinov, Raquel Urtasun, Antonio Torralba, and Sanja\\nFidler. 2015. Aligning books and movies: Towards\\nstory-like visual explanations by watching movies\\nand reading books. In Proceedings of the IEEE\\ninternational conference on computer vision, pages\\n19–27.\\n', 'content_type': 'text', 'score': None, 'meta': {'name': 'bert.pdf', '_split_id': 91}, 'embedding': None, 'id': 'b9cf9d8d4e0be8e5ce2caf805397d3da'}>,\n",
              " <Document: {'content': 'Appendix for “BERT: Pre-training of\\nDeep Bidirectional Transformers for\\nLanguage Understanding”\\nWe organize the appendix into three sections:\\n• Additional implementation details for BERT\\nare presented in Appendix A;\\n• Additional details for our experiments are\\npresented in Appendix B; and\\n• Additional ablation studies are presented in\\nAppendix C.\\nWe present additional ablation studies for\\nBERT including:\\n– Effect of Number of Training Steps; and\\n– Ablation for Different Masking Proce-\\ndures.\\nA Additional Details for BERT\\nA.1 Illustration of the Pre-training Tasks\\nWe provide examples of the pre-training tasks in\\nthe following.\\n', 'content_type': 'text', 'score': None, 'meta': {'name': 'bert.pdf', '_split_id': 92}, 'embedding': None, 'id': '77077a318b0afeefe585903e5ce964a1'}>,\n",
              " <Document: {'content': 'Masked LM and the Masking Procedure As-\\nsuming the unlabeled sentence is my dog is\\nhairy, and during the random masking procedure\\nwe chose the 4-th token (which corresponding to\\nhairy), our masking procedure can be further il-\\nlustrated by\\n• 80% of the time: Replace the word with the\\n[MASK] token, e.g., my dog is hairy →\\nmy dog is [MASK]\\n• 10% of the time: Replace the word with a\\nrandom word, e.g., my dog is hairy → my\\ndog is apple\\n• 10% of the time: Keep the word un-\\nchanged, e.g.', 'content_type': 'text', 'score': None, 'meta': {'name': 'bert.pdf', '_split_id': 93}, 'embedding': None, 'id': '6823e7f94e2892f45b71cc223604b722'}>,\n",
              " <Document: {'content': ', my dog is hairy → my dog\\nis hairy. The purpose of this is to bias the\\nrepresentation towards the actual observed\\nword.\\nThe advantage of this procedure is that the\\nTransformer encoder does not know which words\\nit will be asked to predict or which have been re-\\nplaced by random words, so it is forced to keep\\na distributional contextual representation of ev-\\nery input token. Additionally, because random\\nreplacement only occurs for 1.5% of all tokens\\n(i.e., 10% of 15%), this does not seem to harm\\nthe model’s language understanding capability. ', 'content_type': 'text', 'score': None, 'meta': {'name': 'bert.pdf', '_split_id': 94}, 'embedding': None, 'id': '6a87a0e794329b7a78c530a4ce8b2524'}>,\n",
              " <Document: {'content': 'In\\nSection C.2, we evaluate the impact this proce-\\ndure.\\n', 'content_type': 'text', 'score': None, 'meta': {'name': 'bert.pdf', '_split_id': 95}, 'embedding': None, 'id': 'b5ed7d7b5b721f74f2368adde4be5265'}>,\n",
              " <Document: {'content': 'Compared to standard langauge model training,\\nthe masked LM only make predictions on 15% of\\ntokens in each batch, which suggests that more\\npre-training steps may be required for the model\\x0cBERT (Ours)\\nTrm Trm Trm\\nTrm Trm Trm\\n...\\n...\\nTrm Trm Trm\\nTrm Trm Trm\\n...\\n...\\nOpenAI GPT\\nLstm\\nELMo\\nLstm Lstm\\nLstm Lstm Lstm\\nLstm Lstm Lstm\\nLstm Lstm Lstm\\nT\\n1\\nT\\n2\\nT\\nN\\n...\\n...\\n...\\n...\\n...\\nE\\n1\\nE\\n2\\nE\\nN\\n...\\nT\\n1\\nT\\n2\\nT\\nN\\n...\\nE\\n1\\nE\\n2\\nE\\nN\\n...\\nT\\n1\\nT\\n2\\nT\\nN\\n...\\nE\\n1\\nE\\n2\\nE\\nN\\n...\\n', 'content_type': 'text', 'score': None, 'meta': {'name': 'bert.pdf', '_split_id': 96}, 'embedding': None, 'id': '3af8c3fb5b944cd46a07524ecfb55760'}>,\n",
              " <Document: {'content': 'Figure 3: Differences in pre-training model architectures. BERT uses a bidirectional Transformer. OpenAI GPT\\nuses a left-to-right Transformer. ELMo uses the concatenation of independently trained left-to-right and right-to-\\nleft LSTMs to generate features for downstream tasks. Among the three, only BERT representations are jointly\\nconditioned on both left and right context in all layers. In addition to the architecture differences, BERT and\\nOpenAI GPT are ﬁne-tuning approaches, while ELMo is a feature-based approach.\\nto converge. ', 'content_type': 'text', 'score': None, 'meta': {'name': 'bert.pdf', '_split_id': 97}, 'embedding': None, 'id': '67398a80596613b3336804e9b394dfdb'}>,\n",
              " <Document: {'content': 'In Section C.1 we demonstrate that\\nMLM does converge marginally slower than a left-\\nto-right model (which predicts every token), but\\nthe empirical improvements of the MLM model\\nfar outweigh the increased training cost.\\nNext Sentence Prediction The next sentence\\nprediction task can be illustrated in the following\\nexamples.\\n', 'content_type': 'text', 'score': None, 'meta': {'name': 'bert.pdf', '_split_id': 98}, 'embedding': None, 'id': '73dcc3dd955736bb70ed6aa59f125c13'}>,\n",
              " <Document: {'content': 'Input = [CLS] the man went to [MASK] store [SEP]\\nhe bought a gallon [MASK] milk [SEP]\\nLabel = IsNext\\nInput = [CLS] the man [MASK] to the store [SEP]\\npenguin [MASK] are flight ##less birds [SEP]\\nLabel = NotNext\\nA.2 Pre-training Procedure\\nTo generate each training input sequence, we sam-\\nple two spans of text from the corpus, which we\\nrefer to as “sentences” even though they are typ-\\nically much longer than single sentences (but can\\nbe shorter also). The ﬁrst sentence receives the A\\nembedding and the second receives the B embed-\\nding. ', 'content_type': 'text', 'score': None, 'meta': {'name': 'bert.pdf', '_split_id': 99}, 'embedding': None, 'id': 'fee1056597d45384e59766e2d85e5c68'}>,\n",
              " <Document: {'content': '50% of the time B is the actual next sentence\\nthat follows A and 50% of the time it is a random\\nsentence, which is done for the “next sentence pre-\\ndiction” task. They are sampled such that the com-\\nbined length is ≤ 512 tokens. The LM masking is\\napplied after WordPiece tokenization with a uni-\\nform masking rate of 15%, and no special consid-\\neration given to partial word pieces.\\n', 'content_type': 'text', 'score': None, 'meta': {'name': 'bert.pdf', '_split_id': 100}, 'embedding': None, 'id': 'e417f6e77036652979745c07b2a186bb'}>,\n",
              " <Document: {'content': 'We train with batch size of 256 sequences (256\\nsequences * 512 tokens = 128,000 tokens/batch)\\nfor 1,000,000 steps, which is approximately 40\\nepochs over the 3.3 billion word corpus. We\\nuse Adam with learning rate of 1e-4, β1 = 0.9,\\nβ2 = 0.999, L2 weight decay of 0.01, learning\\nrate warmup over the ﬁrst 10,000 steps, and linear\\ndecay of the learning rate. We use a dropout prob-\\nability of 0.1 on all layers. We use a gelu acti-\\nvation (Hendrycks and Gimpel, 2016) rather than\\nthe standard relu, following OpenAI GPT. ', 'content_type': 'text', 'score': None, 'meta': {'name': 'bert.pdf', '_split_id': 101}, 'embedding': None, 'id': '35de5ef1a6849cb6e74dbe6cb4a1bcf9'}>,\n",
              " <Document: {'content': 'The\\ntraining loss is the sum of the mean masked LM\\nlikelihood and the mean next sentence prediction\\nlikelihood.\\nTraining of BERTBASE was performed on 4\\nCloud TPUs in Pod conﬁguration (16 TPU chips\\ntotal).13 Training of BERTLARGE was performed\\non 16 Cloud TPUs (64 TPU chips total). Each pre-\\ntraining took 4 days to complete.\\nLonger sequences are disproportionately expen-\\nsive because attention is quadratic to the sequence\\nlength. To speed up pretraing in our experiments,\\nwe pre-train the model with sequence length of\\n128 for 90% of the steps. ', 'content_type': 'text', 'score': None, 'meta': {'name': 'bert.pdf', '_split_id': 102}, 'embedding': None, 'id': '97adb40241ce1cd8ab2447253601e55f'}>,\n",
              " <Document: {'content': 'Then, we train the rest\\n10% of the steps of sequence of 512 to learn the\\npositional embeddings.\\nA.3 Fine-tuning Procedure\\nFor ﬁne-tuning, most model hyperparameters are\\nthe same as in pre-training, with the exception of\\nthe batch size, learning rate, and number of train-\\ning epochs. The dropout probability was always\\nkept at 0.1. ', 'content_type': 'text', 'score': None, 'meta': {'name': 'bert.pdf', '_split_id': 103}, 'embedding': None, 'id': '6ae38a9622dafc921552d782501748a2'}>,\n",
              " <Document: {'content': 'The optimal hyperparameter values\\nare task-speciﬁc, but we found the following range\\nof possible values to work well across all tasks:\\n• Batch size: 16, 32\\n13https://cloudplatform.googleblog.com/2018/06/Cloud-\\nTPU-now-offers-preemptible-pricing-and-global-\\navailability.html\\x0c• Learning rate (Adam): 5e-5, 3e-5, 2e-5\\n• Number of epochs: 2, 3, 4\\nWe also observed that large data sets (e.g.,\\n100k+ labeled training examples) were far less\\nsensitive to hyperparameter choice than small data\\nsets. ', 'content_type': 'text', 'score': None, 'meta': {'name': 'bert.pdf', '_split_id': 104}, 'embedding': None, 'id': '3ac1b928c0a7cf1a84c2a643b4e31559'}>,\n",
              " <Document: {'content': 'Fine-tuning is typically very fast, so it is rea-\\nsonable to simply run an exhaustive search over\\nthe above parameters and choose the model that\\nperforms best on the development set.\\nA.4 Comparison of BERT, ELMo ,and\\nOpenAI GPT\\nHere we studies the differences in recent popular\\nrepresentation learning models including ELMo,\\nOpenAI GPT and BERT. The comparisons be-\\ntween the model architectures are shown visually\\nin Figure 3. Note that in addition to the architec-\\nture differences, BERT and OpenAI GPT are ﬁne-\\ntuning approaches, while ELMo is a feature-based\\napproach.\\n', 'content_type': 'text', 'score': None, 'meta': {'name': 'bert.pdf', '_split_id': 105}, 'embedding': None, 'id': '12ff78a90a8d7ca30a95d9310e702073'}>,\n",
              " <Document: {'content': 'The most comparable existing pre-training\\nmethod to BERT is OpenAI GPT, which trains a\\nleft-to-right Transformer LM on a large text cor-\\npus. In fact, many of the design decisions in BERT\\nwere intentionally made to make it as close to\\nGPT as possible so that the two methods could be\\nminimally compared. ', 'content_type': 'text', 'score': None, 'meta': {'name': 'bert.pdf', '_split_id': 106}, 'embedding': None, 'id': 'b4f67676d8fc080a2be20f1a8bb79095'}>,\n",
              " <Document: {'content': 'The core argument of this\\nwork is that the bi-directionality and the two pre-\\ntraining tasks presented in Section 3.1 account for\\nthe majority of the empirical improvements, but\\nwe do note that there are several other differences\\nbetween how BERT and GPT were trained:\\n• GPT is trained on the BooksCorpus (800M\\nwords); BERT is trained on the BooksCor-\\npus (800M words) and Wikipedia (2,500M\\nwords).\\n• GPT uses a sentence separator ([SEP]) and\\nclassiﬁer token ([CLS]) which are only in-\\ntroduced at ﬁne-tuning time; BERT learns\\n[SEP], [CLS] and sentence A/B embed-\\ndings during pre-training.\\n', 'content_type': 'text', 'score': None, 'meta': {'name': 'bert.pdf', '_split_id': 107}, 'embedding': None, 'id': '3a4b3fdc07da78796bae3ecc9ca1dda0'}>,\n",
              " <Document: {'content': '• GPT was trained for 1M steps with a batch\\nsize of 32,000 words; BERT was trained for\\n1M steps with a batch size of 128,000 words.\\n• GPT used the same learning rate of 5e-5 for\\nall ﬁne-tuning experiments; BERT chooses a\\ntask-speciﬁc ﬁne-tuning learning rate which\\nperforms the best on the development set.\\n', 'content_type': 'text', 'score': None, 'meta': {'name': 'bert.pdf', '_split_id': 108}, 'embedding': None, 'id': 'b2532f132fbda29a89c0c4b75673292f'}>,\n",
              " <Document: {'content': 'To isolate the effect of these differences, we per-\\nform ablation experiments in Section 5.1 which\\ndemonstrate that the majority of the improvements\\nare in fact coming from the two pre-training tasks\\nand the bidirectionality they enable.\\nA.5 Illustrations of Fine-tuning on Different\\nTasks\\nThe illustration of ﬁne-tuning BERT on different\\ntasks can be seen in Figure 4. Our task-speciﬁc\\nmodels are formed by incorporating BERT with\\none additional output layer, so a minimal num-\\nber of parameters need to be learned from scratch.\\nAmong the tasks, (a) and (b) are sequence-level\\ntasks while (c) and (d) are token-level tasks. ', 'content_type': 'text', 'score': None, 'meta': {'name': 'bert.pdf', '_split_id': 109}, 'embedding': None, 'id': '230a02ef3f1c792560e85b5c8e01a720'}>,\n",
              " <Document: {'content': 'In\\nthe ﬁgure, E represents the input embedding, Ti\\nrepresents the contextual representation of token i,\\n[CLS] is the special symbol for classiﬁcation out-\\nput, and [SEP] is the special symbol to separate\\nnon-consecutive token sequences.\\nB Detailed Experimental Setup\\nB.1 Detailed Descriptions for the GLUE\\nBenchmark Experiments.\\nOur GLUE results in Table1 are obtained\\nfrom https://gluebenchmark.com/\\nleaderboard and https://blog.\\nopenai.com/language-unsupervised.\\nThe GLUE benchmark includes the following\\ndatasets, the descriptions of which were originally\\nsummarized in Wang et al. (2018a):\\nMNLI Multi-Genre Natural Language Inference\\nis a large-scale, crowdsourced entailment classiﬁ-\\ncation task (Williams et al., 2018). ', 'content_type': 'text', 'score': None, 'meta': {'name': 'bert.pdf', '_split_id': 110}, 'embedding': None, 'id': '24ecf9a9ae7742e315180924c6eadec2'}>,\n",
              " <Document: {'content': 'Given a pair of\\nsentences, the goal is to predict whether the sec-\\nond sentence is an entailment, contradiction, or\\nneutral with respect to the ﬁrst one.\\nQQP Quora Question Pairs is a binary classiﬁ-\\ncation task where the goal is to determine if two\\nquestions asked on Quora are semantically equiv-\\nalent (Chen et al., 2018).\\nQNLI Question Natural Language Inference is\\na version of the Stanford Question Answering\\nDataset (Rajpurkar et al., 2016) which has been\\nconverted to a binary classiﬁcation task (Wang\\net al., 2018a). ', 'content_type': 'text', 'score': None, 'meta': {'name': 'bert.pdf', '_split_id': 111}, 'embedding': None, 'id': 'b9874afe47fe58eadf05b618d3b15a8'}>,\n",
              " <Document: {'content': 'The positive examples are (ques-\\ntion, sentence) pairs which do contain the correct\\nanswer, and the negative examples are (question,\\nsentence) from the same paragraph which do not\\ncontain the answer.\\x0c', 'content_type': 'text', 'score': None, 'meta': {'name': 'bert.pdf', '_split_id': 112}, 'embedding': None, 'id': 'b58827df1cb5ad850dd36d0dac344dca'}>,\n",
              " <Document: {'content': 'BERT\\nE\\n[CLS]\\nE\\n1\\nE\\n[SEP]\\n... E\\nN\\nE\\n1\\n’ ... E\\nM\\n’\\nC T\\n1\\nT\\n[SEP]\\n... T\\nN\\nT\\n1\\n’ ... T\\nM\\n’\\n[CLS]\\nTok\\n1\\n[SEP]\\n... Tok\\nN\\nTok\\n1\\n... Tok\\nM\\nQuestion Paragraph\\nBERT\\nE\\n[CLS]\\nE\\n1\\nE\\n2\\nE\\nN\\nC T\\n1\\nT\\n2\\nT\\nN\\nSingle Sentence\\n...\\n...\\nBERT\\nTok 1 Tok 2 Tok N\\n...\\n[CLS]\\nE\\n[CLS]\\nE\\n1\\nE\\n2\\nE\\nN\\nC T\\n1\\nT\\n2\\nT\\nN\\nSingle Sentence\\nB-PER\\nO O\\n...\\n...\\nE\\n[CLS]\\nE\\n1\\nE\\n[SEP]\\nClass\\nLabel\\n... E\\nN\\nE\\n1\\n’ ... E\\nM\\n’\\nC T\\n1\\nT\\n[SEP]\\n... T\\nN\\nT\\n1\\n’ ... T\\nM\\n’\\nStart/End Span\\nClass\\nLabel\\nBERT\\nTok 1 Tok 2 Tok N\\n...\\n[CLS] Tok 1\\n[CLS]\\n[CLS]\\nTok\\n1\\n[SEP]\\n... Tok\\nN\\nTok\\n1\\n... Tok\\nM\\nSentence 1\\n...\\n', 'content_type': 'text', 'score': None, 'meta': {'name': 'bert.pdf', '_split_id': 113}, 'embedding': None, 'id': '8abbc8fea3fa7dde15d85242e1f3628f'}>,\n",
              " <Document: {'content': 'Sentence 2\\nFigure 4: Illustrations of Fine-tuning BERT on Different Tasks.\\nSST-2 The Stanford Sentiment Treebank is a\\nbinary single-sentence classiﬁcation task consist-\\ning of sentences extracted from movie reviews\\nwith human annotations of their sentiment (Socher\\net al., 2013).\\nCoLA The Corpus of Linguistic Acceptability is\\na binary single-sentence classiﬁcation task, where\\nthe goal is to predict whether an English sentence\\nis linguistically “acceptable” or not (Warstadt\\net al., 2018).\\nSTS-B The Semantic Textual Similarity Bench-\\nmark is a collection of sentence pairs drawn from\\nnews headlines and other sources (Cer et al.,\\n2017). ', 'content_type': 'text', 'score': None, 'meta': {'name': 'bert.pdf', '_split_id': 114}, 'embedding': None, 'id': 'c613031c051ab518932364de8e165b9a'}>,\n",
              " <Document: {'content': 'They were annotated with a score from 1\\nto 5 denoting how similar the two sentences are in\\nterms of semantic meaning.\\nMRPC Microsoft Research Paraphrase Corpus\\nconsists of sentence pairs automatically extracted\\nfrom online news sources, with human annotations\\nfor whether the sentences in the pair are semanti-\\ncally equivalent (Dolan and Brockett, 2005).\\nRTE Recognizing Textual Entailment is a bi-\\nnary entailment task similar to MNLI, but with\\nmuch less training data (Bentivogli et al., 2009).14\\nWNLI Winograd NLI is a small natural lan-\\nguage inference dataset (Levesque et al., 2011).\\n', 'content_type': 'text', 'score': None, 'meta': {'name': 'bert.pdf', '_split_id': 115}, 'embedding': None, 'id': '1ba77e567d14feed1681876ebfeef694'}>,\n",
              " <Document: {'content': 'The GLUE webpage notes that there are issues\\nwith the construction of this dataset, 15 and every\\ntrained system that’s been submitted to GLUE has\\nperformed worse than the 65.1 baseline accuracy\\nof predicting the majority class. We therefore ex-\\nclude this set to be fair to OpenAI GPT. For our\\nGLUE submission, we always predicted the ma-\\n14Note that we only report single-task ﬁne-tuning results\\nin this paper. A multitask ﬁne-tuning approach could poten-\\ntially push the performance even further. For example, we\\ndid observe substantial improvements on RTE from multi-\\ntask training with MNLI.\\n15https://gluebenchmark.com/faq\\x0cjority class.\\n', 'content_type': 'text', 'score': None, 'meta': {'name': 'bert.pdf', '_split_id': 116}, 'embedding': None, 'id': 'ddbbd615a2e3bb6b994fe507c8ee37fe'}>,\n",
              " <Document: {'content': 'C Additional Ablation Studies\\nC.1 Effect of Number of Training Steps\\nFigure 5 presents MNLI Dev accuracy after ﬁne-\\ntuning from a checkpoint that has been pre-trained\\nfor k steps. This allows us to answer the following\\nquestions:\\n1. Question: Does BERT really need such\\na large amount of pre-training (128,000\\nwords/batch * 1,000,000 steps) to achieve\\nhigh ﬁne-tuning accuracy?\\nAnswer: Yes, BERTBASE achieves almost\\n1.0% additional accuracy on MNLI when\\ntrained on 1M steps compared to 500k steps.\\n2. ', 'content_type': 'text', 'score': None, 'meta': {'name': 'bert.pdf', '_split_id': 117}, 'embedding': None, 'id': '6d48c661428c0a0866aac84650e54b31'}>,\n",
              " <Document: {'content': 'Question: Does MLM pre-training converge\\nslower than LTR pre-training, since only 15%\\nof words are predicted in each batch rather\\nthan every word?\\nAnswer: The MLM model does converge\\nslightly slower than the LTR model. How-\\never, in terms of absolute accuracy the MLM\\nmodel begins to outperform the LTR model\\nalmost immediately.\\nC.2 Ablation for Different Masking\\nProcedures\\nIn Section 3.1, we mention that BERT uses a\\nmixed strategy for masking the target tokens when\\npre-training with the masked language model\\n(MLM) objective. The following is an ablation\\nstudy to evaluate the effect of different masking\\nstrategies.\\n', 'content_type': 'text', 'score': None, 'meta': {'name': 'bert.pdf', '_split_id': 118}, 'embedding': None, 'id': '4b566e5eff747198bd1c2ce3adae96e'}>,\n",
              " <Document: {'content': '200 400 600 800 1,000\\n76\\n78\\n80\\n82\\n84\\nPre-training Steps (Thousands)\\nMNLI Dev Accuracy\\nBERTBASE (Masked LM)\\nBERTBASE (Left-to-Right)\\nFigure 5: Ablation over number of training steps. This\\nshows the MNLI accuracy after ﬁne-tuning, starting\\nfrom model parameters that have been pre-trained for\\nk steps. The x-axis is the value of k.\\nNote that the purpose of the masking strategies\\nis to reduce the mismatch between pre-training\\nand ﬁne-tuning, as the [MASK] symbol never ap-\\npears during the ﬁne-tuning stage. We report the\\nDev results for both MNLI and NER. ', 'content_type': 'text', 'score': None, 'meta': {'name': 'bert.pdf', '_split_id': 119}, 'embedding': None, 'id': '8fc7cb8d7759639b31ba9624fd9309a9'}>,\n",
              " <Document: {'content': 'For NER,\\nwe report both ﬁne-tuning and feature-based ap-\\nproaches, as we expect the mismatch will be am-\\npliﬁed for the feature-based approach as the model\\nwill not have the chance to adjust the representa-\\ntions.\\nMasking Rates Dev Set Results\\nMASK SAME RND MNLI NER\\nFine-tune Fine-tune Feature-based\\n80% 10% 10% 84.2 95.4 94.9\\n100% 0% 0% 84.3 94.9 94.0\\n80% 0% 20% 84.1 95.2 94.6\\n80% 20% 0% 84.4 95.2 94.7\\n0% 20% 80% 83.7 94.8 94.6\\n0% 0% 100% 83.6 94.9 94.6\\nTable 8: Ablation over different masking strategies.\\nThe results are presented in Table 8. ', 'content_type': 'text', 'score': None, 'meta': {'name': 'bert.pdf', '_split_id': 120}, 'embedding': None, 'id': 'de92e2a0c677e2a3d84ff0cce8fd5aed'}>,\n",
              " <Document: {'content': 'In the table,\\nMASK means that we replace the target token with\\nthe [MASK] symbol for MLM; SAME means that\\nwe keep the target token as is; RND means that\\nwe replace the target token with another random\\ntoken.\\nThe numbers in the left part of the table repre-\\nsent the probabilities of the speciﬁc strategies used\\nduring MLM pre-training (BERT uses 80%, 10%,\\n10%). The right part of the paper represents the\\nDev set results. ', 'content_type': 'text', 'score': None, 'meta': {'name': 'bert.pdf', '_split_id': 121}, 'embedding': None, 'id': '9a93dfc8c78a8e208e4854841c8b5e43'}>,\n",
              " <Document: {'content': 'For the feature-based approach,\\nwe concatenate the last 4 layers of BERT as the\\nfeatures, which was shown to be the best approach\\nin Section 5.3.\\nFrom the table it can be seen that ﬁne-tuning is\\nsurprisingly robust to different masking strategies.\\nHowever, as expected, using only the MASK strat-\\negy was problematic when applying the feature-\\nbased approach to NER. Interestingly, using only\\nthe RND strategy performs much worse than our\\nstrategy as well.', 'content_type': 'text', 'score': None, 'meta': {'name': 'bert.pdf', '_split_id': 122}, 'embedding': None, 'id': '99b4e90d3c5ccbe0316c1a110c1decc3'}>,\n",
              " <Document: {'content': 'Classics or classical studies is the study of classical antiquity, and in the Western world traditionally refers to the study of Classical Greek and Roman literature in their original languages of Ancient Greek and Latin, respectively. It may also include Greco-Roman philosophy, history, and archaeology as secondary subjects.\\n\\nIn Western civilization, the study of the Greek and Roman classics was traditionally considered to be the foundation of the humanities, and study of classics has therefore traditionally been the cornerstone of a typical elite European education.\\n\\n', 'content_type': 'text', 'score': None, 'meta': {'name': 'classics.txt', '_split_id': 0}, 'embedding': None, 'id': '94abb6b26f5ea252cbef4850928bdac7'}>,\n",
              " <Document: {'content': 'Etymology\\n\\nThe word classics is derived from the Latin adjective classicus, meaning \"belonging to the highest class of citizens.\"The word was originally used to describe the members of the highest class in ancient Rome. By the 2nd century AD the word was used in literary criticism to describe writers of the highest quality.[1] For example, Aulus Gellius, in his Attic Nights, contrasts \"classicus\" and \"proletarius\" writers.[2] By the 6th century AD, the word had acquired a second meaning, referring to pupils at a school.', 'content_type': 'text', 'score': None, 'meta': {'name': 'classics.txt', '_split_id': 1}, 'embedding': None, 'id': '4d7ec30d777051ad33e9993bf80415d6'}>,\n",
              " <Document: {'content': '[1] Thus, the two modern meanings of the word, referring both to literature considered to be of the highest quality, and to the standard texts used as part of a curriculum, both derive from Roman use.[1]\\nHistory\\nMiddle Ages\\nPhotograph of a bronze bust of a man. It rests on a stone plinth, on which the words \"Gaius Valerius Catullus 87 AC–54 AC\" are written.\\nThe Roman poet Catullus was virtually unknown during the medieval period, in contrast to his modern popularity.\\n\\n', 'content_type': 'text', 'score': None, 'meta': {'name': 'classics.txt', '_split_id': 2}, 'embedding': None, 'id': 'c2132d9899fe95648cf8166cc0cc6173'}>,\n",
              " <Document: {'content': 'In the Middle Ages, classics and education were tightly intertwined; according to Jan Ziolkowski, there is no era in history in which the link was tighter.[3] Medieval education taught students to imitate earlier classical models,[4] and Latin continued to be the language of scholarship and culture, despite the increasing difference between literary Latin and the vernacular languages of Europe during the period.[4]\\n\\nWhile Latin was hugely influential, however, Greek was barely studied, and Greek literature survived almost solely in Latin translation.', 'content_type': 'text', 'score': None, 'meta': {'name': 'classics.txt', '_split_id': 3}, 'embedding': None, 'id': 'c81c4ab599da36d49aa3cb3d17011775'}>,\n",
              " <Document: {'content': '[5] The works of even major Greek authors such as Hesiod, whose names continued to be known by educated Europeans, were unavailable in the Middle Ages.[5] In the thirteenth century, the English philosopher Roger Bacon wrote that \"there are not four men in Latin Christendom who are acquainted with the Greek, Hebrew, and Arabic grammars.\"[6]\\n\\nAlong with the unavailability of Greek authors, there were other differences between the classical canon known today and the works valued in the Middle Ages. Catullus, for instance, was almost entirely unknown in the medieval period.', 'content_type': 'text', 'score': None, 'meta': {'name': 'classics.txt', '_split_id': 4}, 'embedding': None, 'id': 'b0e8bb6a4050c2d1dd78669fbe2498df'}>,\n",
              " <Document: {'content': '[5] The popularity of different authors also waxed and waned throughout the period: Lucretius, popular during the Carolingian period, was barely read in the twelfth century, while for Quintilian the reverse is true.[5]\\nRenaissance\\n\\nThe Renaissance led to the increasing study of both ancient literature and ancient history,[7] as well as a revival of classical styles of Latin.[8] From the 14th century, first in Italy and then increasingly across Europe, Renaissance Humanism, an intellectual movement that \"advocated the study and imitation of classical antiquity\",[7] developed. ', 'content_type': 'text', 'score': None, 'meta': {'name': 'classics.txt', '_split_id': 5}, 'embedding': None, 'id': '5039041d8009dd00882026abb2e1cb6d'}>,\n",
              " <Document: {'content': 'Humanism saw a reform in education in Europe, introducing a wider range of Latin authors as well as bringing back the study of Greek language and literature to Western Europe.[8] This reintroduction was initiated by Petrarch (1304–1374) and Boccaccio (1313–1375) who commissioned a Calabrian scholar to translate the Homeric poems.', 'content_type': 'text', 'score': None, 'meta': {'name': 'classics.txt', '_split_id': 6}, 'embedding': None, 'id': 'f579318ed654b4bd27cbdf64c4da0da5'}>,\n",
              " <Document: {'content': '[9] This humanist educational reform spread from Italy, in Catholic countries as it was adopted by the Jesuits, and in countries that became Protestant such as England, Germany, and the Low Countries, in order to ensure that future clerics were able to study the New Testament in the original language.[10]\\nNeoclassicism\\n\\nThe late 17th and 18th centuries are the period in Western European literary history which is most associated with the classical tradition, as writers consciously adapted classical models.', 'content_type': 'text', 'score': None, 'meta': {'name': 'classics.txt', '_split_id': 7}, 'embedding': None, 'id': 'acd65879f87bae2b773f88a3f0a1e37a'}>,\n",
              " <Document: {'content': '[11] Classical models were so highly prized that the plays of William Shakespeare were rewritten along neoclassical lines, and these \"improved\" versions were performed throughout the 18th century.[12]\\n\\nFrom the beginning of the 18th century, the study of Greek became increasingly important relative to that of Latin.[13] In this period Johann Winckelmann\\'s claims for the superiority of the Greek visual arts influenced a shift in aesthetic judgements, while in the literary sphere, G.E. Lessing \"returned Homer to the centre of artistic achievement\".', 'content_type': 'text', 'score': None, 'meta': {'name': 'classics.txt', '_split_id': 8}, 'embedding': None, 'id': 'f22395dc535648ff81012b20181e6b37'}>,\n",
              " <Document: {'content': '[14] In the United Kingdom, the study of Greek in schools began in the late 18th century. The poet Walter Savage Landor claimed to have been one of the first English schoolboys to write in Greek during his time at Rugby School.[15]\\n19th century\\n\\nThe 19th century saw the influence of the classical world, and the value of a classical education, decline,[16] especially in the United States, where the subject was often criticised for its elitism.', 'content_type': 'text', 'score': None, 'meta': {'name': 'classics.txt', '_split_id': 9}, 'embedding': None, 'id': '26abcf8e0e36f4654922a01634a4cc68'}>,\n",
              " <Document: {'content': '[17] By the 19th century, little new literature was still being written in Latin – a practice which had continued as late as the 18th century – and a command of Latin declined in importance.[10] Correspondingly, classical education from the 19th century onwards began to increasingly de-emphasise the importance of the ability to write and speak Latin.[13] In the United Kingdom this process took longer than elsewhere. Composition continued to be the dominant classical skill in England until the 1870s, when new areas within the discipline began to increase in popularity.', 'content_type': 'text', 'score': None, 'meta': {'name': 'classics.txt', '_split_id': 10}, 'embedding': None, 'id': '9af88cb22137891d8eef38ca33c77ee8'}>,\n",
              " <Document: {'content': '[18] In the same decade came the first challenges to the requirement of Greek at the universities of Oxford and Cambridge, though it would not be finally abolished for another 50 years.[19]\\n\\nThough the influence of classics as the dominant mode of education in Europe and North America was in decline in the 19th century, the discipline was rapidly evolving in the same period. Classical scholarship was becoming more systematic and scientific, especially with the \"new philology\" created at the end of the 18th and beginning of the 19th century.', 'content_type': 'text', 'score': None, 'meta': {'name': 'classics.txt', '_split_id': 11}, 'embedding': None, 'id': '9effaa514d22842e1e9f2d9177530f79'}>,\n",
              " <Document: {'content': '[20] Its scope was also broadening: it was during the 19th century that ancient history and classical archaeology began to be seen as part of classics, rather than separate disciplines.[18]\\n20th century to present\\n\\nDuring the 20th century, the study of classics became less common. In England, for instance, Oxford and Cambridge universities stopped requiring students to have qualifications in Greek in 1920,[19] and in Latin at the end of the 1950s.[21] When the National Curriculum was introduced in England, Wales, and Northern Ireland in 1988, it did not mention the classics.', 'content_type': 'text', 'score': None, 'meta': {'name': 'classics.txt', '_split_id': 12}, 'embedding': None, 'id': 'f8c77bbbd32b99e0a51688019706497e'}>,\n",
              " <Document: {'content': \"[21] By 2003, only about 10% of state schools in Britain offered any classical subjects to their students at all.[22] In 2016, AQA, the largest exam board for A-Levels and GCSE's in England, Wales and Northern Ireland, announced that it would be scrapping A-Level subjects in Classical Civilization, Archaeology, and Art History.[23] This left just one out of five exam boards in England which still offered Classical Civilization as a subject. \", 'content_type': 'text', 'score': None, 'meta': {'name': 'classics.txt', '_split_id': 13}, 'embedding': None, 'id': '13040c754a4d02702532dc5b955f1458'}>,\n",
              " <Document: {'content': 'The decision was immediately denounced by archaeologists and historians, with Natalie Haynes of the Guardian stating that the loss of the A-Level would deprive state school students, 93% of all students, the opportunity to study classics while making it once again the exclusive purview of wealthy private-school students.[24]\\n\\nHowever, the study of classics has not declined as fast elsewhere in Europe. ', 'content_type': 'text', 'score': None, 'meta': {'name': 'classics.txt', '_split_id': 14}, 'embedding': None, 'id': '4d56f4b0d141737e91d614b5942f0a96'}>,\n",
              " <Document: {'content': 'In 2009, a review of Meeting the Challenge, a collection of conference papers about the teaching of Latin in Europe, noted that though there is opposition to the teaching of Latin in Italy, it is nonetheless still compulsory in most secondary schools.[25] The same can be said in the case of France or Greece, too. Indeed, Ancient Greek is one of the compulsory subjects in Greek secondary education, whereas in France, Latin is one of the optional subjects that can be chosen in a majority of middle schools and high schools. ', 'content_type': 'text', 'score': None, 'meta': {'name': 'classics.txt', '_split_id': 15}, 'embedding': None, 'id': '8ca592dc6b163f3f94e1818f81221fc5'}>,\n",
              " <Document: {'content': 'Ancient Greek is also still being taught, but not as much as Latin.\\nSub-disciplines\\n\\nOne of the most notable characteristics of the modern study of classics is the diversity of the field. Although traditionally focused on ancient Greece and Rome, the study now encompasses the entire ancient Mediterranean world, thus expanding the studies to Northern Africa as well as parts of the Middle East.[citation needed]\\nPhilology\\nFurther information: Philology\\nFor the journal, see Classical Philology (journal).\\n', 'content_type': 'text', 'score': None, 'meta': {'name': 'classics.txt', '_split_id': 16}, 'embedding': None, 'id': 'f020125cc446b9d5b7992b011e7cbb22'}>,\n",
              " <Document: {'content': 'Black-and-white image of Friedrich August Wolf in profile\\nThe eighteenth-century classicist Friedrich August Wolf was the author of Prolegomena to Homer, one of the first great works of classical philology.\\n\\nPhilology is the study of language preserved in written sources; classical philology is thus concerned with understanding any texts from the classical period written in the classical languages of Latin and Greek.[26] The roots of classical philology lie in the Renaissance, as humanist intellectuals attempted to return to the Latin of the classical period, especially of Cicero,[27] and as scholars attempted to produce more accurate editions of ancient texts.', 'content_type': 'text', 'score': None, 'meta': {'name': 'classics.txt', '_split_id': 17}, 'embedding': None, 'id': 'ba974cc4b17be104dc27a7d3e562b9fd'}>,\n",
              " <Document: {'content': '[28] Some of the principles of philology still used today were developed during this period, for instance, the observation that if a manuscript could be shown to be a copy of an earlier extant manuscript, then it provides no further evidence of the original text, was made as early as 1489 by Angelo Poliziano.[29] Other philological tools took longer to be developed: the first statement, for instance, of the principle that a more difficult reading should be preferred over a simpler one, was in 1697 by Jean Le Clerc.', 'content_type': 'text', 'score': None, 'meta': {'name': 'classics.txt', '_split_id': 18}, 'embedding': None, 'id': '3d6be112761a6b2fb95f1a012b013b72'}>,\n",
              " <Document: {'content': '[30]\\n\\nThe modern discipline of classical philology began in Germany at the turn of the nineteenth century.[20] It was during this period that scientific principles of philology began to be put together into a coherent whole,[31] in order to provide a set of rules by which scholars could determine which manuscripts were most accurate.[32] This \"new philology\", as it was known, centred around the construction of a genealogy of manuscripts, with which a hypothetical common ancestor, closer to the original text than any existing manuscript, could be reconstructed.', 'content_type': 'text', 'score': None, 'meta': {'name': 'classics.txt', '_split_id': 19}, 'embedding': None, 'id': '33799fae374e3e83f184e3c3e510b92'}>,\n",
              " <Document: {'content': \"[33]\\nArchaeology\\nMain article: Classical archaeology\\nBlack and white photograph of the Lion Gate at Mycenae.\\nSchliemann and Dörpfeld's excavation at Mycenae was one of the earliest excavations in the field of classical archaeology.\\n\\nClassical archaeology is the oldest branch of archaeology,[34] with its roots going back to J.J. Winckelmann's work on Herculaneum in the 1760s.[35] It was not until the last decades of the 19th century, however, that classical archaeology became part of the tradition of Western classical scholarship.\", 'content_type': 'text', 'score': None, 'meta': {'name': 'classics.txt', '_split_id': 20}, 'embedding': None, 'id': '5bb401348cae1b68b1deb9a1b5d6343b'}>,\n",
              " <Document: {'content': \"[35] It was included as part of Cambridge University's Classical Tripos for the first time after the reforms of the 1880s, though it did not become part of Oxford's Greats until much later.[19]\\n\\nThe second half of the 19th century saw Schliemann's excavations of Troy and Mycenae; the first excavations at Olympia and Delos; and Arthur Evans' work in Crete, particularly on Knossos.[36] This period also saw the foundation of important archaeological associations (e.g. \", 'content_type': 'text', 'score': None, 'meta': {'name': 'classics.txt', '_split_id': 21}, 'embedding': None, 'id': '5adce5a15b54e19e7a397d5839632bf2'}>,\n",
              " <Document: {'content': 'the Archaeological Institute of America in 1879),[37] including many foreign archaeological institutes in Athens and Rome (the American School of Classical Studies at Athens in 1881, British School at Athens in 1886, American Academy in Rome in 1895, and British School at Rome in 1900).[38]\\n\\nMore recently, classical archaeology has taken little part in the theoretical changes in the rest of the discipline,[39] largely ignoring the popularity of \"New Archaeology\", which emphasised the development of general laws derived from studying material culture, in the 1960s.', 'content_type': 'text', 'score': None, 'meta': {'name': 'classics.txt', '_split_id': 22}, 'embedding': None, 'id': '6dcd587e0d0e65aea2f0a81d461dc861'}>,\n",
              " <Document: {'content': '[40] New Archaeology is still criticized by traditional minded scholars of classical archaeology despite a wide acceptance of its basic techniques.[41]\\nArt history\\nMain article: Art history\\n\\nSome art historians focus their study on the development of art in the classical world. Indeed, the art and architecture of Ancient Rome and Greece is very well regarded and remains at the heart of much of our art today. For example, Ancient Greek architecture gave us the Classical Orders: Doric, Ionic, and Corinthian. The Parthenon is still the architectural symbol of the classical world.\\n\\n', 'content_type': 'text', 'score': None, 'meta': {'name': 'classics.txt', '_split_id': 23}, 'embedding': None, 'id': '2dfc62d82a7e8eabce03376619a9ddf0'}>,\n",
              " <Document: {'content': 'Greek sculpture is well known and we know the names of several Ancient Greek artists: for example, Phidias.\\nAncient history\\n\\nWith philology, archaeology, and art history, scholars seek understanding of the history and culture of a civilisation, through critical study of the extant literary and physical artefacts, in order to compose and establish a continual historic narrative of the Ancient World and its peoples. ', 'content_type': 'text', 'score': None, 'meta': {'name': 'classics.txt', '_split_id': 24}, 'embedding': None, 'id': 'aa6adac1cd9346c08d2c628f260d5692'}>,\n",
              " <Document: {'content': 'The task is difficult due to a dearth of physical evidence: for example, Sparta was a leading Greek city-state, yet little evidence of it survives to study, and what is available comes from Athens, Sparta\\'s principal rival; likewise, the Roman Empire destroyed most evidence (cultural artefacts) of earlier, conquered civilizations, such as that of the Etruscans.\\nPhilosophy\\nMain article: Ancient philosophy\\n\\nThe English word \"philosophy\" comes from the Greek word φιλοσοφία, meaning \"love of wisdom\", probably coined by Pythagoras. ', 'content_type': 'text', 'score': None, 'meta': {'name': 'classics.txt', '_split_id': 25}, 'embedding': None, 'id': '5b12ce5b7eec604b1d961c1630d12186'}>,\n",
              " <Document: {'content': 'Along with the word itself, the discipline of philosophy as we know it today has its roots in ancient Greek thought, and according to Martin West \"philosophy as we understand it is a Greek creation\".[42] Ancient philosophy was traditionally divided into three branches: logic, physics, and ethics.[43] However, not all of the works of ancient philosophers fit neatly into one of these three branches. For instance, Aristotle\\'s Rhetoric and Poetics have been traditionally classified in the West as \"ethics\", but in the Arabic world were grouped with logic; in reality, they do not fit neatly into either category.', 'content_type': 'text', 'score': None, 'meta': {'name': 'classics.txt', '_split_id': 26}, 'embedding': None, 'id': '685037f9240a2d3e9d803a1a511f40c'}>,\n",
              " <Document: {'content': '[43]\\n\\nFrom the last decade of the eighteenth century, scholars of ancient philosophy began to study the discipline historically.[44] Previously, works on ancient philosophy had been unconcerned with chronological sequence and with reconstructing the reasoning of ancient thinkers; with what Wolfgang-Ranier Mann calls \"New Philosophy\", this changed.[45]\\nReception studies\\nMain article: Classical reception studies\\n\\nA relatively recent new discipline within the classics is \"reception studies\",[46] which developed in the 1960s at the University of Konstanz.[47] Reception studies is concerned with how students of classical texts have understood and interpreted them.', 'content_type': 'text', 'score': None, 'meta': {'name': 'classics.txt', '_split_id': 27}, 'embedding': None, 'id': 'ee3e5a69f7b949e789baa3a32f8543ce'}>,\n",
              " <Document: {'content': '[47] As such, reception studies is interested in a two-way interaction between reader and text,[48] taking place within a historical context.[49]\\n\\nThough the idea of an \"aesthetics of reception\" was first put forward by Hans Robert Jauss in 1967, the principles of reception theory go back much earlier than this.[48] As early as 1920, T. S. Eliot wrote that \"the past [is] altered by the present as much as the present is directed by the past\";[50] Charles Martindale describes this as a \"cardinal principle\" for many versions of modern reception theory.', 'content_type': 'text', 'score': None, 'meta': {'name': 'classics.txt', '_split_id': 28}, 'embedding': None, 'id': 'bcee81299d97982e5acec5871c5be3c9'}>,\n",
              " <Document: {'content': '[48]\\nClassical Greece\\nMain articles: Ancient Greece, Outline of ancient Greece, and Timeline of ancient Greece\\n\\nAncient Greece was the civilization belonging to the period of Greek history lasting from the Archaic period, beginning in the eighth century BC, to the Roman conquest of Greece after the Battle of Corinth in 146 BC. The Classical period, during the fifth and fourth centuries BC, has traditionally been considered the height of Greek civilisation.', 'content_type': 'text', 'score': None, 'meta': {'name': 'classics.txt', '_split_id': 29}, 'embedding': None, 'id': '806f15d7f6b75815904fc5c6c1149f86'}>,\n",
              " <Document: {'content': '[51] The Classical period of Greek history is generally considered to have begun with the first and second Persian invasions of Greece at the start of the Greco-Persian wars,[52] and to have ended with the death of Alexander the Great.\\n\\nClassical Greek culture had a powerful influence on the Roman Empire, which carried a version of it to many parts of the Mediterranean region and Europe; thus Classical Greece is generally considered to be the seminal culture which provided the foundation of Western civilization.\\n', 'content_type': 'text', 'score': None, 'meta': {'name': 'classics.txt', '_split_id': 30}, 'embedding': None, 'id': 'af9eec50d58e4c8bf86413738d093ff9'}>,\n",
              " <Document: {'content': 'Language\\nMap showing the regional dialects of Greek during the Classical period\\nMain articles: Ancient Greek, Mycenaean Greek language, and Koine Greek\\n\\nAncient Greek is the historical stage in the development of the Greek language spanning the Archaic (c. 8th to 6th centuries BC), Classical (c. 5th to 4th centuries BC), and Hellenistic (c. 3rd century BC to 6th century AD) periods of ancient Greece and the ancient world. It is predated in the 2nd millennium BC by Mycenaean Greek. Its Hellenistic phase is known as Koine (\"common\") or Biblical Greek, and its late period mutates imperceptibly into Medieval Greek. ', 'content_type': 'text', 'score': None, 'meta': {'name': 'classics.txt', '_split_id': 31}, 'embedding': None, 'id': '962e45de66b1ed03d2a139c5c3c87988'}>,\n",
              " <Document: {'content': 'Koine is regarded as a separate historical stage of its own, although in its earlier form it closely resembles Classical Greek. Prior to the Koine period, Greek of the classical and earlier periods included several regional dialects.\\n\\nAncient Greek was the language of Homer and of classical Athenian historians, playwrights, and philosophers. It has contributed many words to the vocabulary of English and many other European languages, and has been a standard subject of study in Western educational institutions since the Renaissance. ', 'content_type': 'text', 'score': None, 'meta': {'name': 'classics.txt', '_split_id': 32}, 'embedding': None, 'id': '220c23cd26c19871e0e0b9f9ebb2e2c'}>,\n",
              " <Document: {'content': \"Latinized forms of Ancient Greek roots are used in many of the scientific names of species and in other scientific terminology.\\nLiterature\\nMain article: Ancient Greek literature\\n\\nThe earliest surviving works of Greek literature are epic poetry. Homer's Iliad and Odyssey are the earliest to survive to us today, probably composed in the eighth century BC.[53] These early epics were oral compositions, created without the use of writing.[54] Around the same time that the Homeric epics were composed, the Greek alphabet was introduced; the earliest surviving inscriptions date from around 750 BC.\", 'content_type': 'text', 'score': None, 'meta': {'name': 'classics.txt', '_split_id': 33}, 'embedding': None, 'id': '3a1b7fc94e283d7adc7f4abb6e648cb9'}>,\n",
              " <Document: {'content': \"[55]\\n\\nEuropean drama was invented in ancient Greece. Traditionally this was attributed to Thespis, around the middle of the sixth century BC,[56] though the earliest surviving work of Greek drama is Aeschylus' tragedy The Persians, which dates to 472 BC.[57] Early Greek tragedy was performed by a chorus and two actors, but by the end of Aeschylus' life, a third actor had been introduced, either by him or by Sophocles.[57] The last surviving Greek tragedies are the Bacchae of Euripides and Sophocles' Oedipus at Colonus, both from the end of the fifth century BC.\", 'content_type': 'text', 'score': None, 'meta': {'name': 'classics.txt', '_split_id': 34}, 'embedding': None, 'id': '98fb890c53585917fa531ce9f5c3498f'}>,\n",
              " <Document: {'content': \"[58]\\n\\nSurviving Greek comedy begins later than tragedy; the earliest surviving work, Aristophanes' Acharnians, comes from 425 BC.[59] However, comedy dates back as early as 486 BC, when the Dionysia added a competition for comedy to the much earlier competition for tragedy.[59] The comedy of the fifth century is known as Old Comedy, and it comes down to us solely in the eleven surviving plays of Aristophanes, along with a few fragments.\", 'content_type': 'text', 'score': None, 'meta': {'name': 'classics.txt', '_split_id': 35}, 'embedding': None, 'id': '263702778dead835bcb7614afe35744f'}>,\n",
              " <Document: {'content': '[59] Sixty years after the end of Aristophanes\\' career, the next author of comedies to have any substantial body of work survive is Menander, whose style is known as New Comedy.[60]\\n\\nTwo historians flourished during Greece\\'s classical age: Herodotus and Thucydides. Herodotus is commonly called the father of history, and his \"History\" contains the first truly literary use of prose in Western literature. Of the two, Thucydides was the more careful historian. His critical use of sources, inclusion of documents, and laborious research made his History of the Peloponnesian War a significant influence on later generations of historians. ', 'content_type': 'text', 'score': None, 'meta': {'name': 'classics.txt', '_split_id': 36}, 'embedding': None, 'id': '3c640cd11832c20d75d99df0f47fc720'}>,\n",
              " <Document: {'content': 'The greatest achievement of the 4th century was in philosophy. There were many Greek philosophers, but three names tower above the rest: Socrates, Plato, and Aristotle. These have had a profound influence on Western society.\\nMythology and religion\\nMain articles: Greek mythology and Religion in Ancient Greece\\n\\nGreek mythology is the body of myths and legends belonging to the ancient Greeks concerning their gods and heroes, the nature of the world, and the origins and significance of their own cult and ritual practices. They were a part of religion in ancient Greece. ', 'content_type': 'text', 'score': None, 'meta': {'name': 'classics.txt', '_split_id': 37}, 'embedding': None, 'id': '8224ce027890e30837ac709808650e77'}>,\n",
              " <Document: {'content': 'Modern scholars refer to the myths and study them in an attempt to throw light on the religious and political institutions of Ancient Greece and its civilization, and to gain understanding of the nature of myth-making itself.\\n\\nGreek religion encompassed the collection of beliefs and rituals practiced in ancient Greece in the form of both popular public religion and cult practices. These different groups varied enough for it to be possible to speak of Greek religions or \"cults\" in the plural, though most of them shared similarities. Also, the Greek religion extended out of Greece and out to neighbouring islands.\\n\\n', 'content_type': 'text', 'score': None, 'meta': {'name': 'classics.txt', '_split_id': 38}, 'embedding': None, 'id': 'f0668fa775b3e31d08b27256c2925df2'}>,\n",
              " <Document: {'content': 'Many Greek people recognized the major gods and goddesses: Zeus, Poseidon, Hades, Apollo, Artemis, Aphrodite, Ares, Dionysus, Hephaestus, Athena, Hermes, Demeter, Hestia and Hera; though philosophies such as Stoicism and some forms of Platonism used language that seems to posit a transcendent single deity. Different cities often worshipped the same deities, sometimes with epithets that distinguished them and specified their local nature.\\nPhilosophy\\nMain article: Ancient Greek philosophy\\nA bust of Socrates\\nSo influential was Socrates to classical philosophy that earlier philosophers are today known as pre-Socratics.\\n\\n', 'content_type': 'text', 'score': None, 'meta': {'name': 'classics.txt', '_split_id': 39}, 'embedding': None, 'id': '3d96c675b5cd83e8af76d7e6156ed531'}>,\n",
              " <Document: {'content': \"The earliest surviving philosophy from ancient Greece dates back to the 6th century BC, when according to Aristotle Thales of Miletus was considered to have been the first Greek philosopher.[61] Other influential pre-Socratic philosophers include Pythagoras and Heraclitus. The most famous and significant figures in classical Athenian philosophy, from the 5th to the 3rd centuries BC, are Socrates, his student Plato, and Aristotle, who studied at Plato's Academy before founding his own school, known as the Lyceum. \", 'content_type': 'text', 'score': None, 'meta': {'name': 'classics.txt', '_split_id': 40}, 'embedding': None, 'id': '5b44bd38e178757402614f0d3edd0ba6'}>,\n",
              " <Document: {'content': 'Later Greek schools of philosophy, including the Cynics, Stoics, and Epicureans, continued to be influential after the Roman annexation of Greece, and into the post-Classical world.\\n\\nGreek philosophy dealt with a wide variety of subjects, including political philosophy, ethics, metaphysics, ontology, and logic, as well as disciplines which are not today thought of as part of philosophy, such as biology and rhetoric.\\nClassical Rome\\nMain articles: Ancient Rome and Culture of Ancient Rome\\nLanguage\\nMain article: Latin\\nPhotograph of a gold brooch\\nThe Praeneste fibula is believed to bear the oldest known Latin inscription. ', 'content_type': 'text', 'score': None, 'meta': {'name': 'classics.txt', '_split_id': 41}, 'embedding': None, 'id': 'c9a6d1180e4f1d7ee73a7005459dca95'}>,\n",
              " <Document: {'content': 'The inscription means \"Manius made me for Numerius\".\\n\\nThe language of ancient Rome was Latin, a member of the Italic family of languages. The earliest surviving inscription in Latin comes from the 7th century BC, on a brooch from Palestrina. Latin from between this point and the early 1st century BC is known as Old Latin. Most surviving Latin literature is Classical Latin, from the 1st century BC to the 2nd century AD. Latin then evolved into Late Latin, in use during the late antique period. ', 'content_type': 'text', 'score': None, 'meta': {'name': 'classics.txt', '_split_id': 42}, 'embedding': None, 'id': '35b55412260d1e01c89d8da6bddd4bc9'}>,\n",
              " <Document: {'content': \"Late Latin survived long after the end of classical antiquity, and was finally replaced by written Romance languages around the 9th century AD. Along with literary forms of Latin, there existed various vernacular dialects, generally known as Vulgar Latin, in use throughout antiquity. These are mainly preserved in sources such as graffiti and the Vindolanda tablets.\\nLiterature\\nMain article: Latin literature\\n\\nLatin literature seems to have started in 240 BC, when a Roman audience saw a play adapted from the Greek by Livius Andronicus. Andronicus also translated Homer's Odyssey into an Saturnian verse. The poets Ennius, Accius, and Patruvius followed. \", 'content_type': 'text', 'score': None, 'meta': {'name': 'classics.txt', '_split_id': 43}, 'embedding': None, 'id': '4fbee4ebd600e820d8703f8f03ff915f'}>,\n",
              " <Document: {'content': 'Their work survives only in fragments; the earliest Latin authors whose work we have full examples of are the playwrights Plautus and Terence. Much of the best known and most highly thought of Latin literature comes from the classical period, with poets such as Virgil, Horace, and Ovid; historians such as Julius Caesar and Tacitus; orators such as Cicero; and philosophers such as Seneca the Younger and Lucretius. Late Latin authors include many Christian writers such as Lactantius, Tertullian and Ambrose; non-Christian authors, such as the historian Ammianus Marcellinus, are also preserved.\\n', 'content_type': 'text', 'score': None, 'meta': {'name': 'classics.txt', '_split_id': 44}, 'embedding': None, 'id': '36ad1bbe5ab64cbe0e01402d72abd706'}>,\n",
              " <Document: {'content': 'History\\nMain article: Timeline of ancient Rome\\n\\nAccording to legend, the city of Rome was founded in 753 BC;[62] in reality, there had been a settlement on the site since around 1000 BC, when the Palatine Hill was settled.[63] The city was originally ruled by kings, first Roman, and then Etruscan – according to Roman tradition, the first Etruscan king of Rome, Tarquinius Priscus, ruled from 616 BC.[64] Over the course of the 6th century BC, the city expanded its influence over the entirety of Latium.', 'content_type': 'text', 'score': None, 'meta': {'name': 'classics.txt', '_split_id': 45}, 'embedding': None, 'id': 'a822a323cc3603d94af21df8701d259b'}>,\n",
              " <Document: {'content': '[65] Around the end of the 6th century – traditionally in 510 BC – the kings of Rome were driven out, and the city became a republic.[66]\\n\\nAround 387 BC, Rome was sacked by the Gauls following the Battle of the Allia.[67] It soon recovered from this humiliating defeat, however, and in 381 the inhabitants of Tusculum in Latium were made Roman citizens. This was the first time Roman citizenship was extended in this way.[68] Rome went on to expand its area of influence, until by 269 the entirety of the Italian peninsula was under Roman rule.', 'content_type': 'text', 'score': None, 'meta': {'name': 'classics.txt', '_split_id': 46}, 'embedding': None, 'id': 'c58c0c4945269200e97fba624052bbed'}>,\n",
              " <Document: {'content': \"[69] Soon afterwards, in 264, the First Punic War began; it lasted until 241.[70] The Second Punic War began in 218, and by the end of that year, the Carthaginian general Hannibal had invaded Italy.[71] The war saw Rome's worst defeat to that point at Cannae; the largest army Rome had yet put into the field was wiped out, and one of the two consuls leading it was killed.[72] However, Rome continued to fight, annexing much of Spain[73] and eventually defeating Carthage, ending her position as a major power and securing Roman preeminence in the Western Mediterranean.\", 'content_type': 'text', 'score': None, 'meta': {'name': 'classics.txt', '_split_id': 47}, 'embedding': None, 'id': 'bac819fa905d567ebdb716e50051bca0'}>,\n",
              " <Document: {'content': '[74]\\nLegacy of the classical world\\n\\nThe classical languages of the Ancient Mediterranean world influenced every European language, imparting to each a learned vocabulary of international application. Thus, Latin grew from a highly developed cultural product of the Golden and Silver eras of Latin literature to become the international lingua franca in matters diplomatic, scientific, philosophic and religious, until the 17th century. Long before this, Latin had evolved into the Romance languages and Ancient Greek into Modern Greek and its dialects. In the specialised science and technology vocabularies, the influence of Latin and Greek is notable. ', 'content_type': 'text', 'score': None, 'meta': {'name': 'classics.txt', '_split_id': 48}, 'embedding': None, 'id': '65177b8791d1814264dac56ac5b44d76'}>,\n",
              " <Document: {'content': \"Ecclesiastical Latin, the Roman Catholic Church's official language, remains a living legacy of the classical world in the contemporary world.\\n\\nLatin had an impact far beyond the classical world. It continued to be the pre-eminent language for serious writings in Europe long after the fall of the Roman empire.[75] The modern Romance languages – such as French, Spanish, and Italian – all derive from Latin.[76] Latin is still seen as a foundational aspect of European culture.[77]\\n\\nThe legacy of the classical world is not confined to the influence of classical languages. \", 'content_type': 'text', 'score': None, 'meta': {'name': 'classics.txt', '_split_id': 49}, 'embedding': None, 'id': 'dfc7884fb8b33d8c3f35bce2867344a6'}>,\n",
              " <Document: {'content': \"The Roman empire was taken as a model by later European empires, such as the Spanish and British empires.[78] Classical art has been taken as a model in later periods – medieval Romanesque architecture[79] and Enlightenment-era neoclassical literature[11] were both influenced by classical models, to take but two examples, while Joyce's Ulysses is one of the most influential works of twentieth century literature.[80]\", 'content_type': 'text', 'score': None, 'meta': {'name': 'classics.txt', '_split_id': 50}, 'embedding': None, 'id': '80f6e01405a43e6eb8bf1cb034dc909'}>,\n",
              " <Document: {'content': \"Heavy metal\\n\\nHeavy metal (or simply metal) is a genre of [3][4] that developed in the late 1960s and early 1970s, largely in the United Kingdom and the United States.[5] With roots in , , and ,[6] heavy metal bands developed a thick, massive sound, characterized by , extended , emphatic beats, and loudness. The lyrics and performances are sometimes associated with  and .[6]\\nIn 1968, three of the genre's most famous pioneers, ,  and , were founded.[7] Though they came to attract wide audiences, they were often derided by critics. \", 'content_type': 'text', 'score': None, 'meta': {'name': 'heavy_metal.docx', '_split_id': 0}, 'embedding': None, 'id': '881a56dbb76d3860cade0cf082adb97c'}>,\n",
              " <Document: {'content': 'Several American bands modified heavy metal into more accessible forms during the 1970s: the raw, sleazy sound and  of  and ; the blues-rooted rock of ; and the flashy guitar leads and wild party rock of .[8] During the mid-1970s,  helped spur the genre\\'s evolution by discarding much of its  influence,[9][10] while  introduced a  sensibility and an increasing emphasis on speed. Beginning in the late 1970s, bands in the  such as  and  followed in a similar vein. By the end of the decade, heavy metal fans became known as \"\" or \"\".\\n', 'content_type': 'text', 'score': None, 'meta': {'name': 'heavy_metal.docx', '_split_id': 1}, 'embedding': None, 'id': '252917c258b45988af045341afe2f685'}>,\n",
              " <Document: {'content': 'During the 1980s,  became popular with groups such as  and .  produced an array of more aggressive styles:  broke into the mainstream with bands such as , , , and , while other  such as  and  remain  phenomena. Since the mid-1990s, popular styles have expanded the definition of the genre. These include  and , the latter of which often incorporates elements of  and .\\n\\nNow we are in Page 2\\n\\nPage 3 was empty this is page 4', 'content_type': 'text', 'score': None, 'meta': {'name': 'heavy_metal.docx', '_split_id': 2}, 'embedding': None, 'id': '407c8f2049f84cbc46554381c574d90d'}>]"
            ]
          },
          "metadata": {},
          "execution_count": 13
        }
      ]
    }
  ]
}